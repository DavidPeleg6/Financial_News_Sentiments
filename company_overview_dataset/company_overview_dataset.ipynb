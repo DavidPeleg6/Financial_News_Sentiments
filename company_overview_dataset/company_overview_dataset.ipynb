{
 "cells": [
  {
   "cell_type": "markdown",
   "metadata": {},
   "source": [
    "## Get all fundamental data of a company\n",
    "\n",
    "Including:\n",
    "\n",
    "* Overview\n",
    "* Income Statement\n",
    "* Balance Sheet\n",
    "* Cash Flow\n",
    "* Earnings\n",
    "* Earnings Calender"
   ]
  },
  {
   "cell_type": "code",
   "execution_count": null,
   "metadata": {},
   "outputs": [],
   "source": []
  }
 ],
 "metadata": {
  "language_info": {
   "name": "python"
  },
  "orig_nbformat": 4
 },
 "nbformat": 4,
 "nbformat_minor": 2
}
