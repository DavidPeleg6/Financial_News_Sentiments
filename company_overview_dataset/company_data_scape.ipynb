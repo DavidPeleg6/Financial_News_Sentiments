{
 "cells": [
  {
   "cell_type": "markdown",
   "metadata": {},
   "source": [
    "## Get all fundamental data of a company\n",
    "\n",
    "Including:\n",
    "\n",
    "* Overview\n",
    "* Income Statement\n",
    "* Balance Sheet\n",
    "* Cash Flow\n",
    "* Earnings\n",
    "* Earnings Calender"
   ]
  },
  {
   "cell_type": "code",
   "execution_count": 1,
   "metadata": {},
   "outputs": [],
   "source": [
    "try:\n",
    "    import alpha_vantage\n",
    "except:\n",
    "    ! pip install alpha_vantage\n",
    "    import alpha_vantage\n",
    "\n",
    "import requests\n",
    "from pprint import pprint\n",
    "import csv\n",
    "import pandas as pd\n",
    "import matplotlib.pyplot as plt\n",
    "import seaborn as sns\n",
    "import numpy as np\n",
    "from datetime import datetime, timedelta\n",
    "import json\n",
    "import time\n",
    "from tqdm import tqdm\n",
    "import calendar\n",
    "import os\n",
    "import string\n",
    "import random\n",
    "import logging\n",
    "# set up logger\n",
    "logger = logging.getLogger(__name__)\n",
    "logger.setLevel(logging.INFO)\n",
    "# create a file handler\n",
    "handler = logging.FileHandler('company_overview_scrape.log')\n",
    "handler.setLevel(logging.INFO)\n",
    "# create a logging format\n",
    "formatter = logging.Formatter('%(asctime)s - %(name)s - %(levelname)s - %(message)s')\n",
    "handler.setFormatter(formatter)\n",
    "# add the handlers to the logger\n",
    "logger.addHandler(handler)\n",
    "sns.set()\n",
    "pd.set_option('display.max_colwidth',1000)"
   ]
  },
  {
   "attachments": {},
   "cell_type": "markdown",
   "metadata": {},
   "source": [
    "## Scrape date according to the function requested"
   ]
  },
  {
   "attachments": {},
   "cell_type": "markdown",
   "metadata": {},
   "source": [
    "### <span style=\"color:red\">TODO later on, pull only data about companies that are approaching their earnings call/quarter end</span>"
   ]
  },
  {
   "cell_type": "code",
   "execution_count": 2,
   "metadata": {},
   "outputs": [
    {
     "name": "stdout",
     "output_type": "stream",
     "text": [
      "{'200DayMovingAverage': '254.02',\n",
      " '50DayMovingAverage': '243.38',\n",
      " '52WeekHigh': '313.66',\n",
      " '52WeekLow': '212.83',\n",
      " 'Address': 'ONE MICROSOFT WAY, REDMOND, WA, US',\n",
      " 'AnalystTargetPrice': '284.08',\n",
      " 'AssetType': 'Common Stock',\n",
      " 'Beta': '0.916',\n",
      " 'BookValue': '24.59',\n",
      " 'CIK': '789019',\n",
      " 'Country': 'USA',\n",
      " 'Currency': 'USD',\n",
      " 'Description': 'Microsoft Corporation is an American multinational technology '\n",
      "                'company which produces computer software, consumer '\n",
      "                'electronics, personal computers, and related services. Its '\n",
      "                'best known software products are the Microsoft Windows line '\n",
      "                'of operating systems, the Microsoft Office suite, and the '\n",
      "                'Internet Explorer and Edge web browsers. Its flagship '\n",
      "                'hardware products are the Xbox video game consoles and the '\n",
      "                'Microsoft Surface lineup of touchscreen personal computers. '\n",
      "                'Microsoft ranked No. 21 in the 2020 Fortune 500 rankings of '\n",
      "                'the largest United States corporations by total revenue; it '\n",
      "                \"was the world's largest software maker by revenue as of 2016. \"\n",
      "                'It is considered one of the Big Five companies in the U.S. '\n",
      "                'information technology industry, along with Google, Apple, '\n",
      "                'Amazon, and Facebook.',\n",
      " 'DilutedEPSTTM': '9',\n",
      " 'DividendDate': '2023-03-09',\n",
      " 'DividendPerShare': '2.6',\n",
      " 'DividendYield': '0.0105',\n",
      " 'EBITDA': '97945002000',\n",
      " 'EPS': '9',\n",
      " 'EVToEBITDA': '18.55',\n",
      " 'EVToRevenue': '9.21',\n",
      " 'ExDividendDate': '2023-02-15',\n",
      " 'Exchange': 'NASDAQ',\n",
      " 'FiscalYearEnd': 'June',\n",
      " 'ForwardPE': '27.03',\n",
      " 'GrossProfitTTM': '135620000000',\n",
      " 'Industry': 'SERVICES-PREPACKAGED SOFTWARE',\n",
      " 'LatestQuarter': '2022-12-31',\n",
      " 'MarketCapitalization': '1911344464000',\n",
      " 'Name': 'Microsoft Corporation',\n",
      " 'OperatingMarginTTM': '0.41',\n",
      " 'PEGRatio': '2.275',\n",
      " 'PERatio': '28.53',\n",
      " 'PriceToBookRatio': '11.05',\n",
      " 'PriceToSalesRatioTTM': '9.14',\n",
      " 'ProfitMargin': '0.331',\n",
      " 'QuarterlyEarningsGrowthYOY': '-0.113',\n",
      " 'QuarterlyRevenueGrowthYOY': '0.02',\n",
      " 'ReturnOnAssetsTTM': '0.148',\n",
      " 'ReturnOnEquityTTM': '0.393',\n",
      " 'RevenuePerShareTTM': '27.33',\n",
      " 'RevenueTTM': '204093997000',\n",
      " 'Sector': 'TECHNOLOGY',\n",
      " 'SharesOutstanding': '7443800000',\n",
      " 'Symbol': 'MSFT',\n",
      " 'TrailingPE': '28.53'}\n"
     ]
    }
   ],
   "source": [
    "functions = ['OVERVIEW', 'INCOME_STATEMENT', 'BALANCE_SHEET', 'CASH_FLOW', 'EARNINGS']\n",
    "\n",
    "def company_data(function: str = 'OVERVIEW', company_symbol: str = 'MSFT'):\n",
    "    endpoint = \"https://www.alphavantage.co/query\"\n",
    "    parameters = {\n",
    "        \"function\": function,\n",
    "        \"symbol\": company_symbol,\n",
    "        \"horizon\": \"12month\"\n",
    "    }\n",
    "    for _ in range(100):\n",
    "        parameters['apikey'] = ''.join(random.choices(string.ascii_uppercase + string.digits, k=15))\n",
    "        # Send a GET request to the API endpoint\n",
    "        response = requests.get(endpoint, params=parameters)\n",
    "        # Check if the request was successful\n",
    "        if response.status_code == 200:\n",
    "            data = response.json()\n",
    "            if 'Note' not in data: \n",
    "                break\n",
    "            logger.warning(f'API key {parameters[\"apikey\"]} has been used too many times. response note: {data[\"Note\"]}')\n",
    "            data = None\n",
    "            time.sleep(1)\n",
    "        else: \n",
    "            logger.error(f'API key {parameters[\"apikey\"]} has returned an error. response note: {response.json()}')\n",
    "    return data\n",
    "\n",
    "msft_data_horizon = company_data(function='OVERVIEW', company_symbol='MSFT')\n",
    "pprint(msft_data_horizon)"
   ]
  },
  {
   "cell_type": "markdown",
   "metadata": {},
   "source": [
    "Sweep over all stock tickers and pull daily data"
   ]
  },
  {
   "cell_type": "code",
   "execution_count": 3,
   "metadata": {},
   "outputs": [
    {
     "name": "stderr",
     "output_type": "stream",
     "text": [
      "0it [00:00, ?it/s]\n"
     ]
    }
   ],
   "source": [
    "# get stock price for all tickers\n",
    "def get_companies_data(stocks_to_watch: list):\n",
    "    \"\"\"Get stock price for all tickers in the list\"\"\"\n",
    "    os.makedirs('overview', exist_ok=True)\n",
    "    # only get stock price for stocks that are not in the directory\n",
    "    seen_stocks = [f.split('.')[0] for f in os.listdir('overview') if os.path.isfile(os.path.join('overview', f))]\n",
    "    for ticker in tqdm([t for t in stocks_to_watch if t not in seen_stocks]):\n",
    "        data = [company_data(func, ticker) for func in functions]\n",
    "        # check whether any of the items in data is None and get the index of the first None item\n",
    "        if any(d is None for d in data):\n",
    "            logger.error(f'Unnable to fetch {functions[data.index(None)]} data for {ticker}')\n",
    "            continue\n",
    "        with open(f'overview/{ticker}.json', 'w') as outfile:\n",
    "            json.dump(data, outfile, indent=4)\n",
    "\n",
    "get_companies_data(['MSFT'])"
   ]
  },
  {
   "attachments": {},
   "cell_type": "markdown",
   "metadata": {},
   "source": [
    "Create a dataset based on the most mentioned stocks"
   ]
  },
  {
   "cell_type": "code",
   "execution_count": 4,
   "metadata": {},
   "outputs": [
    {
     "data": {
      "text/plain": [
       "6187"
      ]
     },
     "execution_count": 4,
     "metadata": {},
     "output_type": "execute_result"
    }
   ],
   "source": [
    "# load pd dataframe from csv\n",
    "tickers = pd.read_csv('../tickers.csv').sort_values('symbol')\n",
    "# load the sentiment data\n",
    "sentiment_df = pd.read_csv('../news_sentiment_dataset/sentiments.csv')\n",
    "# get a list of tickers sorted by frequency\n",
    "ticker_list = sentiment_df['ticker'].value_counts().index.tolist()\n",
    "len(ticker_list)"
   ]
  },
  {
   "cell_type": "code",
   "execution_count": 6,
   "metadata": {},
   "outputs": [
    {
     "name": "stdout",
     "output_type": "stream",
     "text": [
      "['TSLA', 'META', 'MSFT', 'GOOG', 'AAPL', 'BLK', 'BCS', 'AMZN', 'BBBY', 'NVDA']\n"
     ]
    },
    {
     "name": "stderr",
     "output_type": "stream",
     "text": [
      "  1%|          | 73/11100 [59:39<150:54:53, 49.27s/it]"
     ]
    }
   ],
   "source": [
    "tickers_to_watch = tickers['symbol'].unique()\n",
    "# sort tickers_to_watch according to the order of ticker_list and add the rest of the tickers\n",
    "tickers_to_watch = [t for t in ticker_list if t in tickers_to_watch] + [t for t in tickers_to_watch if t not in ticker_list]\n",
    "print(tickers_to_watch[:10])\n",
    "get_companies_data(tickers_to_watch)"
   ]
  },
  {
   "cell_type": "code",
   "execution_count": null,
   "metadata": {},
   "outputs": [],
   "source": []
  }
 ],
 "metadata": {
  "kernelspec": {
   "display_name": "pytorch",
   "language": "python",
   "name": "python3"
  },
  "language_info": {
   "codemirror_mode": {
    "name": "ipython",
    "version": 3
   },
   "file_extension": ".py",
   "mimetype": "text/x-python",
   "name": "python",
   "nbconvert_exporter": "python",
   "pygments_lexer": "ipython3",
   "version": "3.9.12"
  },
  "orig_nbformat": 4,
  "vscode": {
   "interpreter": {
    "hash": "322a509557a274cb16a0e1e68450414eb651dbdd02be71d467608ec080fac03e"
   }
  }
 },
 "nbformat": 4,
 "nbformat_minor": 2
}
