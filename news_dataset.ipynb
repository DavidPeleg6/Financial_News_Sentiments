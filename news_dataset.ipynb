{
 "cells": [
  {
   "attachments": {},
   "cell_type": "markdown",
   "metadata": {},
   "source": [
    "# Create a dataset of the latest news"
   ]
  },
  {
   "attachments": {},
   "cell_type": "markdown",
   "metadata": {},
   "source": [
    "## imports"
   ]
  },
  {
   "cell_type": "code",
   "execution_count": null,
   "metadata": {},
   "outputs": [],
   "source": [
    "! pip install newsapi-python"
   ]
  },
  {
   "cell_type": "code",
   "execution_count": null,
   "metadata": {},
   "outputs": [],
   "source": [
    "! pip install yfinance"
   ]
  },
  {
   "cell_type": "code",
   "execution_count": null,
   "metadata": {},
   "outputs": [],
   "source": [
    "from newsapi import NewsApiClient\n",
    "import newsapi\n",
    "#from newsapi.newsapi_client import NewsApiClient\n",
    "from datetime import date, timedelta, datetime\n",
    "import pandas as pd"
   ]
  },
  {
   "attachments": {},
   "cell_type": "markdown",
   "metadata": {},
   "source": [
    "# Obtain access key to newAPI\n",
    "* get a free key on the website https://newsapi.org\n",
    "* NEWS_API_KEY = personal api key"
   ]
  },
  {
   "cell_type": "code",
   "execution_count": null,
   "metadata": {},
   "outputs": [],
   "source": [
    "# Show full output in Colab\n",
    "# https://stackoverflow.com/questions/54692405/output-truncation-in-google-colab\n",
    "pd.set_option('display.max_colwidth',1000)"
   ]
  },
  {
   "cell_type": "code",
   "execution_count": null,
   "metadata": {},
   "outputs": [],
   "source": [
    "# Init news api\n",
    "NEWS_API_KEY = '71234eb576cd465da04f8050a01be06a'\n",
    "\n",
    "# '1900869fa01647fca0bdc19b4550daa0'\n",
    "# '71234eb576cd465da04f8050a01be06a'"
   ]
  },
  {
   "attachments": {},
   "cell_type": "markdown",
   "metadata": {},
   "source": [
    "### See all sources available"
   ]
  },
  {
   "cell_type": "code",
   "execution_count": null,
   "metadata": {},
   "outputs": [
    {
     "name": "stdout",
     "output_type": "stream",
     "text": [
      "categories: {'science', 'health', 'business', 'entertainment', 'technology', 'general', 'sports'}\n",
      "['bloomberg', 'business-insider', 'financial-post,fortune,the-wall-street-journal']\n"
     ]
    }
   ],
   "source": [
    "news_client = NewsApiClient(api_key= NEWS_API_KEY)\n",
    "# the list of available categories to choose from\n",
    "print('categories:', newsapi.const.categories)\n",
    "# the list of available sources in the business domain\n",
    "# sources = news_client.get_sources(category='business', language='en', country='us')\n",
    "# source_names = [source['id'] for source in sources['sources']]\n",
    "\n",
    "# dividing the list into large sources that require the entire api call and small sources that can be used together\n",
    "large_sources = ['bloomberg', 'business-insider']\n",
    "small_sources = ['financial-post', 'fortune', 'the-wall-street-journal']\n",
    "source_names = large_sources + [\",\".join(small_sources)]\n",
    "print(source_names)"
   ]
  },
  {
   "attachments": {},
   "cell_type": "markdown",
   "metadata": {},
   "source": [
    "# Download all articles from the past month"
   ]
  },
  {
   "cell_type": "code",
   "execution_count": null,
   "metadata": {},
   "outputs": [
    {
     "name": "stderr",
     "output_type": "stream",
     "text": [
      "100%|██████████| 31/31 [00:27<00:00,  1.12it/s]\n"
     ]
    }
   ],
   "source": [
    "from tqdm import tqdm\n",
    "#https://newsapi.org/docs/endpoints/everything\n",
    "tot_articles = []\n",
    "# datetime.strptime('10-Apr-2021','%d-%b-%Y')\n",
    "for i in tqdm(range(31)):\n",
    "    end_date = date.today() - timedelta(days=i)\n",
    "    start_date = date.today() - timedelta(days=i+1)\n",
    "    for source in source_names:\n",
    "        articles = news_client.get_everything(from_param=start_date.isoformat(), to=end_date.isoformat(), language=\"en\", sources=source, sort_by=\"relevancy\")\n",
    "        tot_articles.extend(articles['articles'])"
   ]
  },
  {
   "cell_type": "code",
   "execution_count": null,
   "metadata": {},
   "outputs": [
    {
     "data": {
      "text/plain": [
       "8100"
      ]
     },
     "metadata": {},
     "output_type": "display_data"
    }
   ],
   "source": [
    "len(tot_articles)"
   ]
  },
  {
   "cell_type": "code",
   "execution_count": null,
   "metadata": {},
   "outputs": [],
   "source": [
    "articles_df = pd.DataFrame(tot_articles)"
   ]
  },
  {
   "cell_type": "code",
   "execution_count": null,
   "metadata": {},
   "outputs": [],
   "source": [
    "# apply a map function to the source column to get the source name\n",
    "articles_df['source'] = articles_df['source'].map(lambda x: x['id'])"
   ]
  },
  {
   "cell_type": "code",
   "execution_count": null,
   "metadata": {},
   "outputs": [
    {
     "name": "stdout",
     "output_type": "stream",
     "text": [
      "(8100, 8)\n",
      "['bloomberg' 'business-insider' 'the-wall-street-journal' 'fortune'\n",
      " 'financial-post']\n"
     ]
    },
    {
     "data": {
      "text/html": [
       "<div>\n",
       "<style scoped>\n",
       "    .dataframe tbody tr th:only-of-type {\n",
       "        vertical-align: middle;\n",
       "    }\n",
       "\n",
       "    .dataframe tbody tr th {\n",
       "        vertical-align: top;\n",
       "    }\n",
       "\n",
       "    .dataframe thead th {\n",
       "        text-align: right;\n",
       "    }\n",
       "</style>\n",
       "<table border=\"1\" class=\"dataframe\">\n",
       "  <thead>\n",
       "    <tr style=\"text-align: right;\">\n",
       "      <th></th>\n",
       "      <th>source</th>\n",
       "      <th>author</th>\n",
       "      <th>title</th>\n",
       "      <th>description</th>\n",
       "      <th>url</th>\n",
       "      <th>urlToImage</th>\n",
       "      <th>publishedAt</th>\n",
       "      <th>content</th>\n",
       "    </tr>\n",
       "  </thead>\n",
       "  <tbody>\n",
       "    <tr>\n",
       "      <th>0</th>\n",
       "      <td>bloomberg</td>\n",
       "      <td>None</td>\n",
       "      <td>Sunak Urged to Accept Rebel MPs' Online Safety Amendment</td>\n",
       "      <td>A former Conservative leader is urging Rishi Sunak to accept an amendment that would ensure social media bosses \"face punishment\" for failures to protect children on their platforms.</td>\n",
       "      <td>https://www.bloomberg.com/news/articles/2023-01-15/sunak-urged-to-accept-rebel-mps-amendment-to-boost-online-safety-for-children</td>\n",
       "      <td>https://assets.bwbx.io/images/users/iqjWHBFdfxIU/i3f_zzP6Qe4Q/v1/1200x800.jpg</td>\n",
       "      <td>2023-01-15T16:25:39Z</td>\n",
       "      <td>Follow us at \\r\\n@BloombergUK and on \\r\\nFacebook, and wrap up your day with \\r\\nThe Readout newsletter with Allegra Stratton.\\r\\nA former Conservative leader is urging Rishi Sunak to accept an amendment tha… [+3530 chars]</td>\n",
       "    </tr>\n",
       "    <tr>\n",
       "      <th>1</th>\n",
       "      <td>bloomberg</td>\n",
       "      <td>Mark Gurman</td>\n",
       "      <td>Apple Needs Touch-Based Macs to Unify Apps and Keep Users Happy</td>\n",
       "      <td>Apple’s upcoming move to Macs with touch screens is about the future of its user base. Also: The company kicks its in-house technology plans into high gear, working on new wireless chips and its first microLED displays. In other news, Tim Cook takes a 40% pay…</td>\n",
       "      <td>https://www.bloomberg.com/news/newsletters/2023-01-15/why-is-apple-finally-working-on-macs-with-touch-screens-2025-oled-macbook-pro-lcxhohiv</td>\n",
       "      <td>https://assets.bwbx.io/images/users/iqjWHBFdfxIU/i3cv7efye1iQ/v1/1200x798.jpg</td>\n",
       "      <td>2023-01-15T14:45:12Z</td>\n",
       "      <td>Apples upcoming move to Macs with touch screens is about the future of its user base. Also: The company kicks its in-house technology plans into high gear, working on new wireless chips and its first… [+9164 chars]</td>\n",
       "    </tr>\n",
       "    <tr>\n",
       "      <th>2</th>\n",
       "      <td>bloomberg</td>\n",
       "      <td>Aisha S Gani</td>\n",
       "      <td>London Commuters May Face a Snowy Monday</td>\n",
       "      <td>The UK’s Met Office issued a warning for a spell of heavy rain that could turn into snow in southeast England and London beginning on Monday morning.</td>\n",
       "      <td>https://www.bloomberg.com/news/articles/2023-01-15/london-commuters-may-see-heavy-rain-turn-to-snow-on-monday</td>\n",
       "      <td>https://assets.bwbx.io/images/users/iqjWHBFdfxIU/i2rVeldx2xB4/v0/1200x800.jpg</td>\n",
       "      <td>2023-01-15T13:06:32Z</td>\n",
       "      <td>Follow us at \\r\\n@BloombergUK and on \\r\\nFacebook, and wrap up your day with \\r\\nThe Readout newsletter with Allegra Stratton.\\r\\nThe UKs Met Office issued a warning for a spell of heavy rain that could turn… [+828 chars]</td>\n",
       "    </tr>\n",
       "    <tr>\n",
       "      <th>3</th>\n",
       "      <td>bloomberg</td>\n",
       "      <td>Reed Stevenson</td>\n",
       "      <td>Japan CEOs Facing Inflation Are Talking More About Merit-Based Pay</td>\n",
       "      <td>As business leaders in Japan face greater pressure to raise wages in an inflationary environment, they’re becoming more vocal about the need to pay employees based on merit.</td>\n",
       "      <td>https://www.bloomberg.com/news/articles/2023-01-15/japan-ceos-facing-inflation-are-talking-more-about-merit-based-pay</td>\n",
       "      <td>https://assets.bwbx.io/images/users/iqjWHBFdfxIU/iYWlggpQCKm0/v1/1200x800.jpg</td>\n",
       "      <td>2023-01-15T21:00:00Z</td>\n",
       "      <td>As business leaders in Japan face greater pressure to raise wages in an inflationary environment, theyre becoming more vocal about the need to pay employees based on merit.\\r\\nIts not necessarily good … [+4979 chars]</td>\n",
       "    </tr>\n",
       "    <tr>\n",
       "      <th>4</th>\n",
       "      <td>bloomberg</td>\n",
       "      <td>Selina Xu</td>\n",
       "      <td>Two Dead, 12 Missing After Huge Chemical Plant Blast in China</td>\n",
       "      <td>Two people are dead and another 12 are missing after an explosion at a chemical plant in northeastern China, underscoring the lingering problem the world’s No. 2 economy has curbing industrial accidents.</td>\n",
       "      <td>https://www.bloomberg.com/news/articles/2023-01-16/two-dead-12-missing-after-huge-chemical-plant-blast-in-china</td>\n",
       "      <td>https://assets.bwbx.io/images/users/iqjWHBFdfxIU/iCt5cFZHPqx4/v0/1200x677.png</td>\n",
       "      <td>2023-01-16T03:47:56Z</td>\n",
       "      <td>Two people are dead and another 12 are missing after an explosion at a chemical plant in northeastern China, underscoring the lingering problem the worlds No. 2 economy has curbing industrial acciden… [+1706 chars]</td>\n",
       "    </tr>\n",
       "  </tbody>\n",
       "</table>\n",
       "</div>"
      ],
      "text/plain": [
       "      source          author  \\\n",
       "0  bloomberg            None   \n",
       "1  bloomberg     Mark Gurman   \n",
       "2  bloomberg    Aisha S Gani   \n",
       "3  bloomberg  Reed Stevenson   \n",
       "4  bloomberg       Selina Xu   \n",
       "\n",
       "                                                                title  \\\n",
       "0            Sunak Urged to Accept Rebel MPs' Online Safety Amendment   \n",
       "1     Apple Needs Touch-Based Macs to Unify Apps and Keep Users Happy   \n",
       "2                            London Commuters May Face a Snowy Monday   \n",
       "3  Japan CEOs Facing Inflation Are Talking More About Merit-Based Pay   \n",
       "4       Two Dead, 12 Missing After Huge Chemical Plant Blast in China   \n",
       "\n",
       "                                                                                                                                                                                                                                                            description  \\\n",
       "0                                                                                A former Conservative leader is urging Rishi Sunak to accept an amendment that would ensure social media bosses \"face punishment\" for failures to protect children on their platforms.   \n",
       "1  Apple’s upcoming move to Macs with touch screens is about the future of its user base. Also: The company kicks its in-house technology plans into high gear, working on new wireless chips and its first microLED displays. In other news, Tim Cook takes a 40% pay…   \n",
       "2                                                                                                                 The UK’s Met Office issued a warning for a spell of heavy rain that could turn into snow in southeast England and London beginning on Monday morning.   \n",
       "3                                                                                         As business leaders in Japan face greater pressure to raise wages in an inflationary environment, they’re becoming more vocal about the need to pay employees based on merit.   \n",
       "4                                                           Two people are dead and another 12 are missing after an explosion at a chemical plant in northeastern China, underscoring the lingering problem the world’s No. 2 economy has curbing industrial accidents.   \n",
       "\n",
       "                                                                                                                                            url  \\\n",
       "0              https://www.bloomberg.com/news/articles/2023-01-15/sunak-urged-to-accept-rebel-mps-amendment-to-boost-online-safety-for-children   \n",
       "1  https://www.bloomberg.com/news/newsletters/2023-01-15/why-is-apple-finally-working-on-macs-with-touch-screens-2025-oled-macbook-pro-lcxhohiv   \n",
       "2                                 https://www.bloomberg.com/news/articles/2023-01-15/london-commuters-may-see-heavy-rain-turn-to-snow-on-monday   \n",
       "3                         https://www.bloomberg.com/news/articles/2023-01-15/japan-ceos-facing-inflation-are-talking-more-about-merit-based-pay   \n",
       "4                               https://www.bloomberg.com/news/articles/2023-01-16/two-dead-12-missing-after-huge-chemical-plant-blast-in-china   \n",
       "\n",
       "                                                                      urlToImage  \\\n",
       "0  https://assets.bwbx.io/images/users/iqjWHBFdfxIU/i3f_zzP6Qe4Q/v1/1200x800.jpg   \n",
       "1  https://assets.bwbx.io/images/users/iqjWHBFdfxIU/i3cv7efye1iQ/v1/1200x798.jpg   \n",
       "2  https://assets.bwbx.io/images/users/iqjWHBFdfxIU/i2rVeldx2xB4/v0/1200x800.jpg   \n",
       "3  https://assets.bwbx.io/images/users/iqjWHBFdfxIU/iYWlggpQCKm0/v1/1200x800.jpg   \n",
       "4  https://assets.bwbx.io/images/users/iqjWHBFdfxIU/iCt5cFZHPqx4/v0/1200x677.png   \n",
       "\n",
       "            publishedAt  \\\n",
       "0  2023-01-15T16:25:39Z   \n",
       "1  2023-01-15T14:45:12Z   \n",
       "2  2023-01-15T13:06:32Z   \n",
       "3  2023-01-15T21:00:00Z   \n",
       "4  2023-01-16T03:47:56Z   \n",
       "\n",
       "                                                                                                                                                                                                                          content  \n",
       "0  Follow us at \\r\\n@BloombergUK and on \\r\\nFacebook, and wrap up your day with \\r\\nThe Readout newsletter with Allegra Stratton.\\r\\nA former Conservative leader is urging Rishi Sunak to accept an amendment tha… [+3530 chars]  \n",
       "1          Apples upcoming move to Macs with touch screens is about the future of its user base. Also: The company kicks its in-house technology plans into high gear, working on new wireless chips and its first… [+9164 chars]  \n",
       "2   Follow us at \\r\\n@BloombergUK and on \\r\\nFacebook, and wrap up your day with \\r\\nThe Readout newsletter with Allegra Stratton.\\r\\nThe UKs Met Office issued a warning for a spell of heavy rain that could turn… [+828 chars]  \n",
       "3        As business leaders in Japan face greater pressure to raise wages in an inflationary environment, theyre becoming more vocal about the need to pay employees based on merit.\\r\\nIts not necessarily good … [+4979 chars]  \n",
       "4          Two people are dead and another 12 are missing after an explosion at a chemical plant in northeastern China, underscoring the lingering problem the worlds No. 2 economy has curbing industrial acciden… [+1706 chars]  "
      ]
     },
     "metadata": {},
     "output_type": "display_data"
    }
   ],
   "source": [
    "# count the number of rows in a dataframe\n",
    "print(articles_df.shape)\n",
    "# get all unique values in a column\n",
    "print(articles_df['source'].unique())\n",
    "articles_df.head()"
   ]
  },
  {
   "attachments": {},
   "cell_type": "markdown",
   "metadata": {},
   "source": [
    "Save results csv for later work"
   ]
  },
  {
   "cell_type": "code",
   "execution_count": null,
   "metadata": {},
   "outputs": [],
   "source": [
    "articles_df.to_csv(\"30_days_ago\"+end_date.isoformat()+\".csv\")"
   ]
  },
  {
   "cell_type": "code",
   "execution_count": null,
   "metadata": {},
   "outputs": [
    {
     "name": "stdout",
     "output_type": "stream",
     "text": [
      "  adding: 30_days_ago2022-12-17.csv (deflated 66%)\n"
     ]
    }
   ],
   "source": [
    "! zip {\"30_days_ago\"+end_date.isoformat()+\".zip\"} {\"30_days_ago\"+end_date.isoformat()+\".csv\"}"
   ]
  }
 ],
 "metadata": {
  "kernelspec": {
   "display_name": "Python 3",
   "language": "python",
   "name": "python3"
  },
  "language_info": {
   "name": "python",
   "version": "3.9.13 (main, Oct 13 2022, 21:15:33) \n[GCC 11.2.0]"
  },
  "orig_nbformat": 4,
  "vscode": {
   "interpreter": {
    "hash": "c0f65b6c89ae844b8e37150dd3489a420df7650db04d9a50812ad6760db9392a"
   }
  }
 },
 "nbformat": 4,
 "nbformat_minor": 2
}
