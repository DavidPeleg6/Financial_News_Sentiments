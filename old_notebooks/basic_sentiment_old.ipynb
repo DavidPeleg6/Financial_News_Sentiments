{
 "cells": [
  {
   "attachments": {},
   "cell_type": "markdown",
   "metadata": {},
   "source": [
    "# Show basic usage of NER and Sentiment analysis"
   ]
  },
  {
   "attachments": {},
   "cell_type": "markdown",
   "metadata": {},
   "source": [
    "## imports"
   ]
  },
  {
   "cell_type": "code",
   "execution_count": 9,
   "metadata": {},
   "outputs": [
    {
     "name": "stdout",
     "output_type": "stream",
     "text": [
      "Requirement already satisfied: nltk in d:\\conda\\envs\\pytorch\\lib\\site-packages (3.8.1)\n",
      "Requirement already satisfied: click in d:\\conda\\envs\\pytorch\\lib\\site-packages (from nltk) (8.0.4)\n",
      "Requirement already satisfied: tqdm in d:\\conda\\envs\\pytorch\\lib\\site-packages (from nltk) (4.64.1)\n",
      "Requirement already satisfied: joblib in d:\\conda\\envs\\pytorch\\lib\\site-packages (from nltk) (1.1.0)\n",
      "Requirement already satisfied: regex>=2021.8.3 in d:\\conda\\envs\\pytorch\\lib\\site-packages (from nltk) (2022.10.31)\n",
      "Requirement already satisfied: colorama in d:\\conda\\envs\\pytorch\\lib\\site-packages (from click->nltk) (0.4.6)\n"
     ]
    }
   ],
   "source": [
    "! pip install nltk"
   ]
  },
  {
   "cell_type": "code",
   "execution_count": 10,
   "metadata": {},
   "outputs": [
    {
     "name": "stdout",
     "output_type": "stream",
     "text": [
      "Requirement already satisfied: asent in d:\\conda\\envs\\pytorch\\lib\\site-packages (0.6.1)\n",
      "Requirement already satisfied: matplotlib<4.0.0,>=3.5.0 in d:\\conda\\envs\\pytorch\\lib\\site-packages (from asent) (3.5.1)\n",
      "Requirement already satisfied: spacy<3.5.0,>=3.0.0 in d:\\conda\\envs\\pytorch\\lib\\site-packages (from asent) (3.4.4)\n",
      "Requirement already satisfied: pillow>=6.2.0 in d:\\conda\\envs\\pytorch\\lib\\site-packages (from matplotlib<4.0.0,>=3.5.0->asent) (9.3.0)\n",
      "Requirement already satisfied: fonttools>=4.22.0 in d:\\conda\\envs\\pytorch\\lib\\site-packages (from matplotlib<4.0.0,>=3.5.0->asent) (4.25.0)\n",
      "Requirement already satisfied: numpy>=1.17 in d:\\conda\\envs\\pytorch\\lib\\site-packages (from matplotlib<4.0.0,>=3.5.0->asent) (1.22.3)\n",
      "Requirement already satisfied: pyparsing>=2.2.1 in d:\\conda\\envs\\pytorch\\lib\\site-packages (from matplotlib<4.0.0,>=3.5.0->asent) (3.0.9)\n",
      "Requirement already satisfied: cycler>=0.10 in d:\\conda\\envs\\pytorch\\lib\\site-packages (from matplotlib<4.0.0,>=3.5.0->asent) (0.11.0)\n",
      "Requirement already satisfied: packaging>=20.0 in d:\\conda\\envs\\pytorch\\lib\\site-packages (from matplotlib<4.0.0,>=3.5.0->asent) (22.0)\n",
      "Requirement already satisfied: kiwisolver>=1.0.1 in d:\\conda\\envs\\pytorch\\lib\\site-packages (from matplotlib<4.0.0,>=3.5.0->asent) (1.4.4)\n",
      "Requirement already satisfied: python-dateutil>=2.7 in d:\\conda\\envs\\pytorch\\lib\\site-packages (from matplotlib<4.0.0,>=3.5.0->asent) (2.8.2)\n",
      "Requirement already satisfied: murmurhash<1.1.0,>=0.28.0 in d:\\conda\\envs\\pytorch\\lib\\site-packages (from spacy<3.5.0,>=3.0.0->asent) (1.0.9)\n",
      "Requirement already satisfied: wasabi<1.1.0,>=0.9.1 in d:\\conda\\envs\\pytorch\\lib\\site-packages (from spacy<3.5.0,>=3.0.0->asent) (0.10.1)\n",
      "Requirement already satisfied: langcodes<4.0.0,>=3.2.0 in d:\\conda\\envs\\pytorch\\lib\\site-packages (from spacy<3.5.0,>=3.0.0->asent) (3.3.0)\n",
      "Requirement already satisfied: preshed<3.1.0,>=3.0.2 in d:\\conda\\envs\\pytorch\\lib\\site-packages (from spacy<3.5.0,>=3.0.0->asent) (3.0.8)\n",
      "Requirement already satisfied: setuptools in d:\\conda\\envs\\pytorch\\lib\\site-packages (from spacy<3.5.0,>=3.0.0->asent) (65.5.0)\n",
      "Requirement already satisfied: typer<0.8.0,>=0.3.0 in d:\\conda\\envs\\pytorch\\lib\\site-packages (from spacy<3.5.0,>=3.0.0->asent) (0.7.0)\n",
      "Requirement already satisfied: catalogue<2.1.0,>=2.0.6 in d:\\conda\\envs\\pytorch\\lib\\site-packages (from spacy<3.5.0,>=3.0.0->asent) (2.0.8)\n",
      "Requirement already satisfied: jinja2 in d:\\conda\\envs\\pytorch\\lib\\site-packages (from spacy<3.5.0,>=3.0.0->asent) (3.1.2)\n",
      "Requirement already satisfied: requests<3.0.0,>=2.13.0 in d:\\conda\\envs\\pytorch\\lib\\site-packages (from spacy<3.5.0,>=3.0.0->asent) (2.28.1)\n",
      "Requirement already satisfied: pydantic!=1.8,!=1.8.1,<1.11.0,>=1.7.4 in d:\\conda\\envs\\pytorch\\lib\\site-packages (from spacy<3.5.0,>=3.0.0->asent) (1.10.4)\n",
      "Requirement already satisfied: pathy>=0.3.5 in d:\\conda\\envs\\pytorch\\lib\\site-packages (from spacy<3.5.0,>=3.0.0->asent) (0.10.1)\n",
      "Requirement already satisfied: srsly<3.0.0,>=2.4.3 in d:\\conda\\envs\\pytorch\\lib\\site-packages (from spacy<3.5.0,>=3.0.0->asent) (2.4.5)\n",
      "Requirement already satisfied: thinc<8.2.0,>=8.1.0 in d:\\conda\\envs\\pytorch\\lib\\site-packages (from spacy<3.5.0,>=3.0.0->asent) (8.1.7)\n",
      "Requirement already satisfied: spacy-loggers<2.0.0,>=1.0.0 in d:\\conda\\envs\\pytorch\\lib\\site-packages (from spacy<3.5.0,>=3.0.0->asent) (1.0.4)\n",
      "Requirement already satisfied: spacy-legacy<3.1.0,>=3.0.10 in d:\\conda\\envs\\pytorch\\lib\\site-packages (from spacy<3.5.0,>=3.0.0->asent) (3.0.12)\n",
      "Requirement already satisfied: smart-open<7.0.0,>=5.2.1 in d:\\conda\\envs\\pytorch\\lib\\site-packages (from spacy<3.5.0,>=3.0.0->asent) (6.3.0)\n",
      "Requirement already satisfied: tqdm<5.0.0,>=4.38.0 in d:\\conda\\envs\\pytorch\\lib\\site-packages (from spacy<3.5.0,>=3.0.0->asent) (4.64.1)\n",
      "Requirement already satisfied: cymem<2.1.0,>=2.0.2 in d:\\conda\\envs\\pytorch\\lib\\site-packages (from spacy<3.5.0,>=3.0.0->asent) (2.0.7)\n",
      "Requirement already satisfied: typing-extensions>=4.2.0 in d:\\conda\\envs\\pytorch\\lib\\site-packages (from pydantic!=1.8,!=1.8.1,<1.11.0,>=1.7.4->spacy<3.5.0,>=3.0.0->asent) (4.4.0)\n",
      "Requirement already satisfied: six>=1.5 in d:\\conda\\envs\\pytorch\\lib\\site-packages (from python-dateutil>=2.7->matplotlib<4.0.0,>=3.5.0->asent) (1.16.0)\n",
      "Requirement already satisfied: certifi>=2017.4.17 in d:\\conda\\envs\\pytorch\\lib\\site-packages (from requests<3.0.0,>=2.13.0->spacy<3.5.0,>=3.0.0->asent) (2022.12.7)\n",
      "Requirement already satisfied: idna<4,>=2.5 in d:\\conda\\envs\\pytorch\\lib\\site-packages (from requests<3.0.0,>=2.13.0->spacy<3.5.0,>=3.0.0->asent) (3.4)\n",
      "Requirement already satisfied: urllib3<1.27,>=1.21.1 in d:\\conda\\envs\\pytorch\\lib\\site-packages (from requests<3.0.0,>=2.13.0->spacy<3.5.0,>=3.0.0->asent) (1.26.13)\n",
      "Requirement already satisfied: charset-normalizer<3,>=2 in d:\\conda\\envs\\pytorch\\lib\\site-packages (from requests<3.0.0,>=2.13.0->spacy<3.5.0,>=3.0.0->asent) (2.0.4)\n",
      "Requirement already satisfied: blis<0.8.0,>=0.7.8 in d:\\conda\\envs\\pytorch\\lib\\site-packages (from thinc<8.2.0,>=8.1.0->spacy<3.5.0,>=3.0.0->asent) (0.7.9)\n",
      "Requirement already satisfied: confection<1.0.0,>=0.0.1 in d:\\conda\\envs\\pytorch\\lib\\site-packages (from thinc<8.2.0,>=8.1.0->spacy<3.5.0,>=3.0.0->asent) (0.0.4)\n",
      "Requirement already satisfied: colorama in d:\\conda\\envs\\pytorch\\lib\\site-packages (from tqdm<5.0.0,>=4.38.0->spacy<3.5.0,>=3.0.0->asent) (0.4.6)\n",
      "Requirement already satisfied: click<9.0.0,>=7.1.1 in d:\\conda\\envs\\pytorch\\lib\\site-packages (from typer<0.8.0,>=0.3.0->spacy<3.5.0,>=3.0.0->asent) (8.0.4)\n",
      "Requirement already satisfied: MarkupSafe>=2.0 in d:\\conda\\envs\\pytorch\\lib\\site-packages (from jinja2->spacy<3.5.0,>=3.0.0->asent) (2.1.1)\n"
     ]
    }
   ],
   "source": [
    "! pip install asent"
   ]
  },
  {
   "cell_type": "code",
   "execution_count": 11,
   "metadata": {},
   "outputs": [
    {
     "name": "stdout",
     "output_type": "stream",
     "text": [
      "Collecting neuralcoref\n",
      "  Using cached neuralcoref-4.0.tar.gz (368 kB)\n",
      "  Preparing metadata (setup.py): started\n",
      "  Preparing metadata (setup.py): finished with status 'done'\n",
      "Requirement already satisfied: numpy>=1.15.0 in d:\\conda\\envs\\pytorch\\lib\\site-packages (from neuralcoref) (1.22.3)\n",
      "Requirement already satisfied: boto3 in d:\\conda\\envs\\pytorch\\lib\\site-packages (from neuralcoref) (1.26.65)\n",
      "Requirement already satisfied: requests<3.0.0,>=2.13.0 in d:\\conda\\envs\\pytorch\\lib\\site-packages (from neuralcoref) (2.28.1)\n",
      "Requirement already satisfied: spacy>=2.1.0 in d:\\conda\\envs\\pytorch\\lib\\site-packages (from neuralcoref) (3.4.4)\n",
      "Requirement already satisfied: charset-normalizer<3,>=2 in d:\\conda\\envs\\pytorch\\lib\\site-packages (from requests<3.0.0,>=2.13.0->neuralcoref) (2.0.4)\n",
      "Requirement already satisfied: urllib3<1.27,>=1.21.1 in d:\\conda\\envs\\pytorch\\lib\\site-packages (from requests<3.0.0,>=2.13.0->neuralcoref) (1.26.13)\n",
      "Requirement already satisfied: certifi>=2017.4.17 in d:\\conda\\envs\\pytorch\\lib\\site-packages (from requests<3.0.0,>=2.13.0->neuralcoref) (2022.12.7)\n",
      "Requirement already satisfied: idna<4,>=2.5 in d:\\conda\\envs\\pytorch\\lib\\site-packages (from requests<3.0.0,>=2.13.0->neuralcoref) (3.4)\n",
      "Requirement already satisfied: wasabi<1.1.0,>=0.9.1 in d:\\conda\\envs\\pytorch\\lib\\site-packages (from spacy>=2.1.0->neuralcoref) (0.10.1)\n",
      "Requirement already satisfied: tqdm<5.0.0,>=4.38.0 in d:\\conda\\envs\\pytorch\\lib\\site-packages (from spacy>=2.1.0->neuralcoref) (4.64.1)\n",
      "Requirement already satisfied: thinc<8.2.0,>=8.1.0 in d:\\conda\\envs\\pytorch\\lib\\site-packages (from spacy>=2.1.0->neuralcoref) (8.1.7)\n",
      "Requirement already satisfied: pathy>=0.3.5 in d:\\conda\\envs\\pytorch\\lib\\site-packages (from spacy>=2.1.0->neuralcoref) (0.10.1)\n",
      "Requirement already satisfied: jinja2 in d:\\conda\\envs\\pytorch\\lib\\site-packages (from spacy>=2.1.0->neuralcoref) (3.1.2)\n",
      "Requirement already satisfied: pydantic!=1.8,!=1.8.1,<1.11.0,>=1.7.4 in d:\\conda\\envs\\pytorch\\lib\\site-packages (from spacy>=2.1.0->neuralcoref) (1.10.4)\n",
      "Requirement already satisfied: murmurhash<1.1.0,>=0.28.0 in d:\\conda\\envs\\pytorch\\lib\\site-packages (from spacy>=2.1.0->neuralcoref) (1.0.9)\n",
      "Requirement already satisfied: cymem<2.1.0,>=2.0.2 in d:\\conda\\envs\\pytorch\\lib\\site-packages (from spacy>=2.1.0->neuralcoref) (2.0.7)\n",
      "Requirement already satisfied: spacy-loggers<2.0.0,>=1.0.0 in d:\\conda\\envs\\pytorch\\lib\\site-packages (from spacy>=2.1.0->neuralcoref) (1.0.4)\n",
      "Requirement already satisfied: spacy-legacy<3.1.0,>=3.0.10 in d:\\conda\\envs\\pytorch\\lib\\site-packages (from spacy>=2.1.0->neuralcoref) (3.0.12)\n",
      "Requirement already satisfied: langcodes<4.0.0,>=3.2.0 in d:\\conda\\envs\\pytorch\\lib\\site-packages (from spacy>=2.1.0->neuralcoref) (3.3.0)\n",
      "Requirement already satisfied: setuptools in d:\\conda\\envs\\pytorch\\lib\\site-packages (from spacy>=2.1.0->neuralcoref) (65.5.0)\n",
      "Requirement already satisfied: srsly<3.0.0,>=2.4.3 in d:\\conda\\envs\\pytorch\\lib\\site-packages (from spacy>=2.1.0->neuralcoref) (2.4.5)\n",
      "Requirement already satisfied: catalogue<2.1.0,>=2.0.6 in d:\\conda\\envs\\pytorch\\lib\\site-packages (from spacy>=2.1.0->neuralcoref) (2.0.8)\n",
      "Requirement already satisfied: packaging>=20.0 in d:\\conda\\envs\\pytorch\\lib\\site-packages (from spacy>=2.1.0->neuralcoref) (22.0)\n",
      "Requirement already satisfied: preshed<3.1.0,>=3.0.2 in d:\\conda\\envs\\pytorch\\lib\\site-packages (from spacy>=2.1.0->neuralcoref) (3.0.8)\n",
      "Requirement already satisfied: smart-open<7.0.0,>=5.2.1 in d:\\conda\\envs\\pytorch\\lib\\site-packages (from spacy>=2.1.0->neuralcoref) (6.3.0)\n",
      "Requirement already satisfied: typer<0.8.0,>=0.3.0 in d:\\conda\\envs\\pytorch\\lib\\site-packages (from spacy>=2.1.0->neuralcoref) (0.7.0)\n",
      "Requirement already satisfied: s3transfer<0.7.0,>=0.6.0 in d:\\conda\\envs\\pytorch\\lib\\site-packages (from boto3->neuralcoref) (0.6.0)\n",
      "Requirement already satisfied: jmespath<2.0.0,>=0.7.1 in d:\\conda\\envs\\pytorch\\lib\\site-packages (from boto3->neuralcoref) (1.0.1)\n",
      "Requirement already satisfied: botocore<1.30.0,>=1.29.65 in d:\\conda\\envs\\pytorch\\lib\\site-packages (from boto3->neuralcoref) (1.29.65)\n",
      "Requirement already satisfied: python-dateutil<3.0.0,>=2.1 in d:\\conda\\envs\\pytorch\\lib\\site-packages (from botocore<1.30.0,>=1.29.65->boto3->neuralcoref) (2.8.2)\n",
      "Requirement already satisfied: typing-extensions>=4.2.0 in d:\\conda\\envs\\pytorch\\lib\\site-packages (from pydantic!=1.8,!=1.8.1,<1.11.0,>=1.7.4->spacy>=2.1.0->neuralcoref) (4.4.0)\n",
      "Requirement already satisfied: confection<1.0.0,>=0.0.1 in d:\\conda\\envs\\pytorch\\lib\\site-packages (from thinc<8.2.0,>=8.1.0->spacy>=2.1.0->neuralcoref) (0.0.4)\n",
      "Requirement already satisfied: blis<0.8.0,>=0.7.8 in d:\\conda\\envs\\pytorch\\lib\\site-packages (from thinc<8.2.0,>=8.1.0->spacy>=2.1.0->neuralcoref) (0.7.9)\n",
      "Requirement already satisfied: colorama in d:\\conda\\envs\\pytorch\\lib\\site-packages (from tqdm<5.0.0,>=4.38.0->spacy>=2.1.0->neuralcoref) (0.4.6)\n",
      "Requirement already satisfied: click<9.0.0,>=7.1.1 in d:\\conda\\envs\\pytorch\\lib\\site-packages (from typer<0.8.0,>=0.3.0->spacy>=2.1.0->neuralcoref) (8.0.4)\n",
      "Requirement already satisfied: MarkupSafe>=2.0 in d:\\conda\\envs\\pytorch\\lib\\site-packages (from jinja2->spacy>=2.1.0->neuralcoref) (2.1.1)\n",
      "Requirement already satisfied: six>=1.5 in d:\\conda\\envs\\pytorch\\lib\\site-packages (from python-dateutil<3.0.0,>=2.1->botocore<1.30.0,>=1.29.65->boto3->neuralcoref) (1.16.0)\n",
      "Building wheels for collected packages: neuralcoref\n",
      "  Building wheel for neuralcoref (setup.py): started\n",
      "  Building wheel for neuralcoref (setup.py): finished with status 'error'\n",
      "  Running setup.py clean for neuralcoref\n",
      "Failed to build neuralcoref\n",
      "Installing collected packages: neuralcoref\n",
      "  Running setup.py install for neuralcoref: started\n",
      "  Running setup.py install for neuralcoref: finished with status 'error'\n"
     ]
    },
    {
     "name": "stderr",
     "output_type": "stream",
     "text": [
      "  error: subprocess-exited-with-error\n",
      "  \n",
      "  × python setup.py bdist_wheel did not run successfully.\n",
      "  │ exit code: 1\n",
      "  ╰─> [25 lines of output]\n",
      "      running bdist_wheel\n",
      "      running build\n",
      "      running build_py\n",
      "      creating build\n",
      "      creating build\\lib.win-amd64-cpython-39\n",
      "      creating build\\lib.win-amd64-cpython-39\\neuralcoref\n",
      "      copying neuralcoref\\file_utils.py -> build\\lib.win-amd64-cpython-39\\neuralcoref\n",
      "      copying neuralcoref\\__init__.py -> build\\lib.win-amd64-cpython-39\\neuralcoref\n",
      "      creating build\\lib.win-amd64-cpython-39\\neuralcoref\\tests\n",
      "      copying neuralcoref\\tests\\test_neuralcoref.py -> build\\lib.win-amd64-cpython-39\\neuralcoref\\tests\n",
      "      copying neuralcoref\\tests\\__init__.py -> build\\lib.win-amd64-cpython-39\\neuralcoref\\tests\n",
      "      creating build\\lib.win-amd64-cpython-39\\neuralcoref\\train\n",
      "      copying neuralcoref\\train\\algorithm.py -> build\\lib.win-amd64-cpython-39\\neuralcoref\\train\n",
      "      copying neuralcoref\\train\\compat.py -> build\\lib.win-amd64-cpython-39\\neuralcoref\\train\n",
      "      copying neuralcoref\\train\\conllparser.py -> build\\lib.win-amd64-cpython-39\\neuralcoref\\train\n",
      "      copying neuralcoref\\train\\dataset.py -> build\\lib.win-amd64-cpython-39\\neuralcoref\\train\n",
      "      copying neuralcoref\\train\\document.py -> build\\lib.win-amd64-cpython-39\\neuralcoref\\train\n",
      "      copying neuralcoref\\train\\evaluator.py -> build\\lib.win-amd64-cpython-39\\neuralcoref\\train\n",
      "      copying neuralcoref\\train\\learn.py -> build\\lib.win-amd64-cpython-39\\neuralcoref\\train\n",
      "      copying neuralcoref\\train\\model.py -> build\\lib.win-amd64-cpython-39\\neuralcoref\\train\n",
      "      copying neuralcoref\\train\\utils.py -> build\\lib.win-amd64-cpython-39\\neuralcoref\\train\n",
      "      copying neuralcoref\\train\\__init__.py -> build\\lib.win-amd64-cpython-39\\neuralcoref\\train\n",
      "      running build_ext\n",
      "      building 'neuralcoref.neuralcoref' extension\n",
      "      error: Microsoft Visual C++ 14.0 or greater is required. Get it with \"Microsoft C++ Build Tools\": https://visualstudio.microsoft.com/visual-cpp-build-tools/\n",
      "      [end of output]\n",
      "  \n",
      "  note: This error originates from a subprocess, and is likely not a problem with pip.\n",
      "  ERROR: Failed building wheel for neuralcoref\n",
      "  error: subprocess-exited-with-error\n",
      "  \n",
      "  × Running setup.py install for neuralcoref did not run successfully.\n",
      "  │ exit code: 1\n",
      "  ╰─> [27 lines of output]\n",
      "      running install\n",
      "      D:\\conda\\envs\\pytorch\\lib\\site-packages\\setuptools\\command\\install.py:34: SetuptoolsDeprecationWarning: setup.py install is deprecated. Use build and pip and other standards-based tools.\n",
      "        warnings.warn(\n",
      "      running build\n",
      "      running build_py\n",
      "      creating build\n",
      "      creating build\\lib.win-amd64-cpython-39\n",
      "      creating build\\lib.win-amd64-cpython-39\\neuralcoref\n",
      "      copying neuralcoref\\file_utils.py -> build\\lib.win-amd64-cpython-39\\neuralcoref\n",
      "      copying neuralcoref\\__init__.py -> build\\lib.win-amd64-cpython-39\\neuralcoref\n",
      "      creating build\\lib.win-amd64-cpython-39\\neuralcoref\\tests\n",
      "      copying neuralcoref\\tests\\test_neuralcoref.py -> build\\lib.win-amd64-cpython-39\\neuralcoref\\tests\n",
      "      copying neuralcoref\\tests\\__init__.py -> build\\lib.win-amd64-cpython-39\\neuralcoref\\tests\n",
      "      creating build\\lib.win-amd64-cpython-39\\neuralcoref\\train\n",
      "      copying neuralcoref\\train\\algorithm.py -> build\\lib.win-amd64-cpython-39\\neuralcoref\\train\n",
      "      copying neuralcoref\\train\\compat.py -> build\\lib.win-amd64-cpython-39\\neuralcoref\\train\n",
      "      copying neuralcoref\\train\\conllparser.py -> build\\lib.win-amd64-cpython-39\\neuralcoref\\train\n",
      "      copying neuralcoref\\train\\dataset.py -> build\\lib.win-amd64-cpython-39\\neuralcoref\\train\n",
      "      copying neuralcoref\\train\\document.py -> build\\lib.win-amd64-cpython-39\\neuralcoref\\train\n",
      "      copying neuralcoref\\train\\evaluator.py -> build\\lib.win-amd64-cpython-39\\neuralcoref\\train\n",
      "      copying neuralcoref\\train\\learn.py -> build\\lib.win-amd64-cpython-39\\neuralcoref\\train\n",
      "      copying neuralcoref\\train\\model.py -> build\\lib.win-amd64-cpython-39\\neuralcoref\\train\n",
      "      copying neuralcoref\\train\\utils.py -> build\\lib.win-amd64-cpython-39\\neuralcoref\\train\n",
      "      copying neuralcoref\\train\\__init__.py -> build\\lib.win-amd64-cpython-39\\neuralcoref\\train\n",
      "      running build_ext\n",
      "      building 'neuralcoref.neuralcoref' extension\n",
      "      error: Microsoft Visual C++ 14.0 or greater is required. Get it with \"Microsoft C++ Build Tools\": https://visualstudio.microsoft.com/visual-cpp-build-tools/\n",
      "      [end of output]\n",
      "  \n",
      "  note: This error originates from a subprocess, and is likely not a problem with pip.\n",
      "error: legacy-install-failure\n",
      "\n",
      "× Encountered error while trying to install package.\n",
      "╰─> neuralcoref\n",
      "\n",
      "note: This is an issue with the package mentioned above, not pip.\n",
      "hint: See above for output from the failure.\n"
     ]
    }
   ],
   "source": [
    "! pip install neuralcoref"
   ]
  },
  {
   "cell_type": "code",
   "execution_count": 12,
   "metadata": {},
   "outputs": [
    {
     "name": "stdout",
     "output_type": "stream",
     "text": [
      "Requirement already satisfied: flair in d:\\conda\\envs\\pytorch\\lib\\site-packages (0.11.3)\n",
      "Requirement already satisfied: conllu>=4.0 in d:\\conda\\envs\\pytorch\\lib\\site-packages (from flair) (4.5.2)\n",
      "Requirement already satisfied: scikit-learn>=0.21.3 in d:\\conda\\envs\\pytorch\\lib\\site-packages (from flair) (1.1.1)\n",
      "Requirement already satisfied: tabulate in d:\\conda\\envs\\pytorch\\lib\\site-packages (from flair) (0.9.0)\n",
      "Requirement already satisfied: janome in d:\\conda\\envs\\pytorch\\lib\\site-packages (from flair) (0.4.2)\n",
      "Requirement already satisfied: tqdm>=4.26.0 in d:\\conda\\envs\\pytorch\\lib\\site-packages (from flair) (4.64.1)\n",
      "Requirement already satisfied: ftfy in d:\\conda\\envs\\pytorch\\lib\\site-packages (from flair) (6.1.1)\n",
      "Requirement already satisfied: bpemb>=0.3.2 in d:\\conda\\envs\\pytorch\\lib\\site-packages (from flair) (0.3.4)\n",
      "Requirement already satisfied: python-dateutil>=2.6.1 in d:\\conda\\envs\\pytorch\\lib\\site-packages (from flair) (2.8.2)\n",
      "Requirement already satisfied: matplotlib>=2.2.3 in d:\\conda\\envs\\pytorch\\lib\\site-packages (from flair) (3.5.1)\n",
      "Requirement already satisfied: lxml in d:\\conda\\envs\\pytorch\\lib\\site-packages (from flair) (4.9.1)\n",
      "Requirement already satisfied: mpld3==0.3 in d:\\conda\\envs\\pytorch\\lib\\site-packages (from flair) (0.3)\n",
      "Requirement already satisfied: torch!=1.8,>=1.5.0 in d:\\conda\\envs\\pytorch\\lib\\site-packages (from flair) (1.13.1+cu117)\n",
      "Requirement already satisfied: segtok>=1.5.7 in d:\\conda\\envs\\pytorch\\lib\\site-packages (from flair) (1.5.11)\n",
      "Requirement already satisfied: pptree in d:\\conda\\envs\\pytorch\\lib\\site-packages (from flair) (3.1)\n",
      "Requirement already satisfied: hyperopt>=0.2.7 in d:\\conda\\envs\\pytorch\\lib\\site-packages (from flair) (0.2.7)\n",
      "Requirement already satisfied: regex in d:\\conda\\envs\\pytorch\\lib\\site-packages (from flair) (2022.10.31)\n",
      "Requirement already satisfied: konoha<5.0.0,>=4.0.0 in d:\\conda\\envs\\pytorch\\lib\\site-packages (from flair) (4.6.5)\n",
      "Requirement already satisfied: sentencepiece==0.1.95 in d:\\conda\\envs\\pytorch\\lib\\site-packages (from flair) (0.1.95)\n",
      "Requirement already satisfied: gdown==4.4.0 in d:\\conda\\envs\\pytorch\\lib\\site-packages (from flair) (4.4.0)\n",
      "Requirement already satisfied: more-itertools in d:\\conda\\envs\\pytorch\\lib\\site-packages (from flair) (9.0.0)\n",
      "Requirement already satisfied: sqlitedict>=1.6.0 in d:\\conda\\envs\\pytorch\\lib\\site-packages (from flair) (2.1.0)\n",
      "Requirement already satisfied: gensim>=3.4.0 in d:\\conda\\envs\\pytorch\\lib\\site-packages (from flair) (4.3.0)\n",
      "Requirement already satisfied: transformers>=4.0.0 in d:\\conda\\envs\\pytorch\\lib\\site-packages (from flair) (4.26.0)\n",
      "Requirement already satisfied: deprecated>=1.2.4 in d:\\conda\\envs\\pytorch\\lib\\site-packages (from flair) (1.2.13)\n",
      "Requirement already satisfied: huggingface-hub in d:\\conda\\envs\\pytorch\\lib\\site-packages (from flair) (0.12.0)\n",
      "Requirement already satisfied: wikipedia-api in d:\\conda\\envs\\pytorch\\lib\\site-packages (from flair) (0.5.8)\n",
      "Requirement already satisfied: langdetect in d:\\conda\\envs\\pytorch\\lib\\site-packages (from flair) (1.0.9)\n",
      "Requirement already satisfied: filelock in d:\\conda\\envs\\pytorch\\lib\\site-packages (from gdown==4.4.0->flair) (3.9.0)\n",
      "Requirement already satisfied: requests[socks] in d:\\conda\\envs\\pytorch\\lib\\site-packages (from gdown==4.4.0->flair) (2.28.1)\n",
      "Requirement already satisfied: six in d:\\conda\\envs\\pytorch\\lib\\site-packages (from gdown==4.4.0->flair) (1.16.0)\n",
      "Requirement already satisfied: beautifulsoup4 in d:\\conda\\envs\\pytorch\\lib\\site-packages (from gdown==4.4.0->flair) (4.11.1)\n",
      "Requirement already satisfied: numpy in d:\\conda\\envs\\pytorch\\lib\\site-packages (from bpemb>=0.3.2->flair) (1.22.3)\n",
      "Requirement already satisfied: wrapt<2,>=1.10 in d:\\conda\\envs\\pytorch\\lib\\site-packages (from deprecated>=1.2.4->flair) (1.12.1)\n",
      "Requirement already satisfied: FuzzyTM>=0.4.0 in d:\\conda\\envs\\pytorch\\lib\\site-packages (from gensim>=3.4.0->flair) (2.0.5)\n",
      "Requirement already satisfied: smart-open>=1.8.1 in d:\\conda\\envs\\pytorch\\lib\\site-packages (from gensim>=3.4.0->flair) (6.3.0)\n",
      "Requirement already satisfied: scipy>=1.7.0 in d:\\conda\\envs\\pytorch\\lib\\site-packages (from gensim>=3.4.0->flair) (1.7.3)\n",
      "Requirement already satisfied: Cython==0.29.32 in d:\\conda\\envs\\pytorch\\lib\\site-packages (from gensim>=3.4.0->flair) (0.29.32)\n",
      "Requirement already satisfied: future in d:\\conda\\envs\\pytorch\\lib\\site-packages (from hyperopt>=0.2.7->flair) (0.18.3)\n",
      "Requirement already satisfied: cloudpickle in d:\\conda\\envs\\pytorch\\lib\\site-packages (from hyperopt>=0.2.7->flair) (2.0.0)\n",
      "Requirement already satisfied: networkx>=2.2 in d:\\conda\\envs\\pytorch\\lib\\site-packages (from hyperopt>=0.2.7->flair) (3.0)\n",
      "Requirement already satisfied: py4j in d:\\conda\\envs\\pytorch\\lib\\site-packages (from hyperopt>=0.2.7->flair) (0.10.9.7)\n",
      "Requirement already satisfied: overrides<4.0.0,>=3.0.0 in d:\\conda\\envs\\pytorch\\lib\\site-packages (from konoha<5.0.0,>=4.0.0->flair) (3.1.0)\n",
      "Requirement already satisfied: importlib-metadata<4.0.0,>=3.7.0 in d:\\conda\\envs\\pytorch\\lib\\site-packages (from konoha<5.0.0,>=4.0.0->flair) (3.10.1)\n",
      "Requirement already satisfied: pillow>=6.2.0 in d:\\conda\\envs\\pytorch\\lib\\site-packages (from matplotlib>=2.2.3->flair) (9.3.0)\n",
      "Requirement already satisfied: pyparsing>=2.2.1 in d:\\conda\\envs\\pytorch\\lib\\site-packages (from matplotlib>=2.2.3->flair) (3.0.9)\n",
      "Requirement already satisfied: cycler>=0.10 in d:\\conda\\envs\\pytorch\\lib\\site-packages (from matplotlib>=2.2.3->flair) (0.11.0)\n",
      "Requirement already satisfied: kiwisolver>=1.0.1 in d:\\conda\\envs\\pytorch\\lib\\site-packages (from matplotlib>=2.2.3->flair) (1.4.4)\n",
      "Requirement already satisfied: fonttools>=4.22.0 in d:\\conda\\envs\\pytorch\\lib\\site-packages (from matplotlib>=2.2.3->flair) (4.25.0)\n",
      "Requirement already satisfied: packaging>=20.0 in d:\\conda\\envs\\pytorch\\lib\\site-packages (from matplotlib>=2.2.3->flair) (22.0)\n",
      "Requirement already satisfied: joblib>=1.0.0 in d:\\conda\\envs\\pytorch\\lib\\site-packages (from scikit-learn>=0.21.3->flair) (1.1.0)\n",
      "Requirement already satisfied: threadpoolctl>=2.0.0 in d:\\conda\\envs\\pytorch\\lib\\site-packages (from scikit-learn>=0.21.3->flair) (3.1.0)\n",
      "Requirement already satisfied: typing-extensions in d:\\conda\\envs\\pytorch\\lib\\site-packages (from torch!=1.8,>=1.5.0->flair) (4.4.0)\n",
      "Requirement already satisfied: colorama in d:\\conda\\envs\\pytorch\\lib\\site-packages (from tqdm>=4.26.0->flair) (0.4.6)\n",
      "Requirement already satisfied: pyyaml>=5.1 in d:\\conda\\envs\\pytorch\\lib\\site-packages (from transformers>=4.0.0->flair) (6.0)\n",
      "Requirement already satisfied: tokenizers!=0.11.3,<0.14,>=0.11.1 in d:\\conda\\envs\\pytorch\\lib\\site-packages (from transformers>=4.0.0->flair) (0.13.2)\n",
      "Requirement already satisfied: wcwidth>=0.2.5 in d:\\conda\\envs\\pytorch\\lib\\site-packages (from ftfy->flair) (0.2.5)\n",
      "Requirement already satisfied: pyfume in d:\\conda\\envs\\pytorch\\lib\\site-packages (from FuzzyTM>=0.4.0->gensim>=3.4.0->flair) (0.2.25)\n",
      "Requirement already satisfied: pandas in d:\\conda\\envs\\pytorch\\lib\\site-packages (from FuzzyTM>=0.4.0->gensim>=3.4.0->flair) (1.4.2)\n",
      "Requirement already satisfied: zipp>=0.5 in d:\\conda\\envs\\pytorch\\lib\\site-packages (from importlib-metadata<4.0.0,>=3.7.0->konoha<5.0.0,>=4.0.0->flair) (3.11.0)\n",
      "Requirement already satisfied: urllib3<1.27,>=1.21.1 in d:\\conda\\envs\\pytorch\\lib\\site-packages (from requests[socks]->gdown==4.4.0->flair) (1.26.13)\n",
      "Requirement already satisfied: certifi>=2017.4.17 in d:\\conda\\envs\\pytorch\\lib\\site-packages (from requests[socks]->gdown==4.4.0->flair) (2022.12.7)\n",
      "Requirement already satisfied: idna<4,>=2.5 in d:\\conda\\envs\\pytorch\\lib\\site-packages (from requests[socks]->gdown==4.4.0->flair) (3.4)\n",
      "Requirement already satisfied: charset-normalizer<3,>=2 in d:\\conda\\envs\\pytorch\\lib\\site-packages (from requests[socks]->gdown==4.4.0->flair) (2.0.4)\n",
      "Requirement already satisfied: soupsieve>1.2 in d:\\conda\\envs\\pytorch\\lib\\site-packages (from beautifulsoup4->gdown==4.4.0->flair) (2.3.2.post1)\n",
      "Requirement already satisfied: PySocks!=1.5.7,>=1.5.6 in d:\\conda\\envs\\pytorch\\lib\\site-packages (from requests[socks]->gdown==4.4.0->flair) (1.7.1)\n",
      "Requirement already satisfied: pytz>=2020.1 in d:\\conda\\envs\\pytorch\\lib\\site-packages (from pandas->FuzzyTM>=0.4.0->gensim>=3.4.0->flair) (2022.7)\n",
      "Requirement already satisfied: fst-pso in d:\\conda\\envs\\pytorch\\lib\\site-packages (from pyfume->FuzzyTM>=0.4.0->gensim>=3.4.0->flair) (1.8.1)\n",
      "Requirement already satisfied: simpful in d:\\conda\\envs\\pytorch\\lib\\site-packages (from pyfume->FuzzyTM>=0.4.0->gensim>=3.4.0->flair) (2.9.0)\n",
      "Requirement already satisfied: miniful in d:\\conda\\envs\\pytorch\\lib\\site-packages (from fst-pso->pyfume->FuzzyTM>=0.4.0->gensim>=3.4.0->flair) (0.0.6)\n"
     ]
    }
   ],
   "source": [
    "! pip install flair"
   ]
  },
  {
   "cell_type": "code",
   "execution_count": 16,
   "metadata": {},
   "outputs": [
    {
     "name": "stdout",
     "output_type": "stream",
     "text": [
      "Requirement already satisfied: spacy in d:\\conda\\envs\\pytorch\\lib\\site-packages (3.4.4)\n",
      "Requirement already satisfied: pathy>=0.3.5 in d:\\conda\\envs\\pytorch\\lib\\site-packages (from spacy) (0.10.1)\n",
      "Requirement already satisfied: cymem<2.1.0,>=2.0.2 in d:\\conda\\envs\\pytorch\\lib\\site-packages (from spacy) (2.0.7)\n",
      "Requirement already satisfied: spacy-loggers<2.0.0,>=1.0.0 in d:\\conda\\envs\\pytorch\\lib\\site-packages (from spacy) (1.0.4)\n",
      "Requirement already satisfied: srsly<3.0.0,>=2.4.3 in d:\\conda\\envs\\pytorch\\lib\\site-packages (from spacy) (2.4.5)\n",
      "Requirement already satisfied: numpy>=1.15.0 in d:\\conda\\envs\\pytorch\\lib\\site-packages (from spacy) (1.22.3)\n",
      "Requirement already satisfied: packaging>=20.0 in d:\\conda\\envs\\pytorch\\lib\\site-packages (from spacy) (22.0)\n",
      "Requirement already satisfied: smart-open<7.0.0,>=5.2.1 in d:\\conda\\envs\\pytorch\\lib\\site-packages (from spacy) (6.3.0)\n",
      "Requirement already satisfied: tqdm<5.0.0,>=4.38.0 in d:\\conda\\envs\\pytorch\\lib\\site-packages (from spacy) (4.64.1)\n",
      "Requirement already satisfied: preshed<3.1.0,>=3.0.2 in d:\\conda\\envs\\pytorch\\lib\\site-packages (from spacy) (3.0.8)\n",
      "Requirement already satisfied: typer<0.8.0,>=0.3.0 in d:\\conda\\envs\\pytorch\\lib\\site-packages (from spacy) (0.7.0)\n",
      "Requirement already satisfied: requests<3.0.0,>=2.13.0 in d:\\conda\\envs\\pytorch\\lib\\site-packages (from spacy) (2.28.1)\n",
      "Requirement already satisfied: setuptools in d:\\conda\\envs\\pytorch\\lib\\site-packages (from spacy) (65.5.0)\n",
      "Requirement already satisfied: langcodes<4.0.0,>=3.2.0 in d:\\conda\\envs\\pytorch\\lib\\site-packages (from spacy) (3.3.0)\n",
      "Requirement already satisfied: murmurhash<1.1.0,>=0.28.0 in d:\\conda\\envs\\pytorch\\lib\\site-packages (from spacy) (1.0.9)\n",
      "Requirement already satisfied: thinc<8.2.0,>=8.1.0 in d:\\conda\\envs\\pytorch\\lib\\site-packages (from spacy) (8.1.7)\n",
      "Requirement already satisfied: jinja2 in d:\\conda\\envs\\pytorch\\lib\\site-packages (from spacy) (3.1.2)\n",
      "Requirement already satisfied: pydantic!=1.8,!=1.8.1,<1.11.0,>=1.7.4 in d:\\conda\\envs\\pytorch\\lib\\site-packages (from spacy) (1.10.4)\n",
      "Requirement already satisfied: catalogue<2.1.0,>=2.0.6 in d:\\conda\\envs\\pytorch\\lib\\site-packages (from spacy) (2.0.8)\n",
      "Requirement already satisfied: wasabi<1.1.0,>=0.9.1 in d:\\conda\\envs\\pytorch\\lib\\site-packages (from spacy) (0.10.1)\n",
      "Requirement already satisfied: spacy-legacy<3.1.0,>=3.0.10 in d:\\conda\\envs\\pytorch\\lib\\site-packages (from spacy) (3.0.12)\n",
      "Requirement already satisfied: typing-extensions>=4.2.0 in d:\\conda\\envs\\pytorch\\lib\\site-packages (from pydantic!=1.8,!=1.8.1,<1.11.0,>=1.7.4->spacy) (4.4.0)\n",
      "Requirement already satisfied: certifi>=2017.4.17 in d:\\conda\\envs\\pytorch\\lib\\site-packages (from requests<3.0.0,>=2.13.0->spacy) (2022.12.7)\n",
      "Requirement already satisfied: idna<4,>=2.5 in d:\\conda\\envs\\pytorch\\lib\\site-packages (from requests<3.0.0,>=2.13.0->spacy) (3.4)\n",
      "Requirement already satisfied: charset-normalizer<3,>=2 in d:\\conda\\envs\\pytorch\\lib\\site-packages (from requests<3.0.0,>=2.13.0->spacy) (2.0.4)\n",
      "Requirement already satisfied: urllib3<1.27,>=1.21.1 in d:\\conda\\envs\\pytorch\\lib\\site-packages (from requests<3.0.0,>=2.13.0->spacy) (1.26.13)\n",
      "Requirement already satisfied: blis<0.8.0,>=0.7.8 in d:\\conda\\envs\\pytorch\\lib\\site-packages (from thinc<8.2.0,>=8.1.0->spacy) (0.7.9)\n",
      "Requirement already satisfied: confection<1.0.0,>=0.0.1 in d:\\conda\\envs\\pytorch\\lib\\site-packages (from thinc<8.2.0,>=8.1.0->spacy) (0.0.4)\n",
      "Requirement already satisfied: colorama in d:\\conda\\envs\\pytorch\\lib\\site-packages (from tqdm<5.0.0,>=4.38.0->spacy) (0.4.6)\n",
      "Requirement already satisfied: click<9.0.0,>=7.1.1 in d:\\conda\\envs\\pytorch\\lib\\site-packages (from typer<0.8.0,>=0.3.0->spacy) (8.0.4)\n",
      "Requirement already satisfied: MarkupSafe>=2.0 in d:\\conda\\envs\\pytorch\\lib\\site-packages (from jinja2->spacy) (2.1.1)\n"
     ]
    }
   ],
   "source": [
    "! pip install spacy"
   ]
  },
  {
   "attachments": {},
   "cell_type": "markdown",
   "metadata": {},
   "source": [
    "## Demonstrate Sentiment and Entity Analysis"
   ]
  },
  {
   "cell_type": "code",
   "execution_count": 13,
   "metadata": {},
   "outputs": [
    {
     "name": "stderr",
     "output_type": "stream",
     "text": [
      "[nltk_data] Downloading package vader_lexicon to\n",
      "[nltk_data]     C:\\Users\\David\\AppData\\Roaming\\nltk_data...\n",
      "[nltk_data]   Package vader_lexicon is already up-to-date!\n"
     ]
    }
   ],
   "source": [
    "import nltk\n",
    "### Uncomment it when the script runs for the first time \n",
    "nltk.download('vader_lexicon')\n",
    "\n",
    "import matplotlib.pyplot as plt \n",
    "import numpy as np\n",
    "import pandas as pd"
   ]
  },
  {
   "cell_type": "code",
   "execution_count": 15,
   "metadata": {},
   "outputs": [
    {
     "ename": "ModuleNotFoundError",
     "evalue": "No module named 'neuralcoref'",
     "output_type": "error",
     "traceback": [
      "\u001b[1;31m---------------------------------------------------------------------------\u001b[0m",
      "\u001b[1;31mModuleNotFoundError\u001b[0m                       Traceback (most recent call last)",
      "Cell \u001b[1;32mIn[15], line 6\u001b[0m\n\u001b[0;32m      4\u001b[0m \u001b[39mfrom\u001b[39;00m \u001b[39mnltk\u001b[39;00m\u001b[39m.\u001b[39;00m\u001b[39msentiment\u001b[39;00m\u001b[39m.\u001b[39;00m\u001b[39mvader\u001b[39;00m \u001b[39mimport\u001b[39;00m SentimentIntensityAnalyzer\n\u001b[0;32m      5\u001b[0m \u001b[39mimport\u001b[39;00m \u001b[39masent\u001b[39;00m\n\u001b[1;32m----> 6\u001b[0m \u001b[39mimport\u001b[39;00m \u001b[39mneuralcoref\u001b[39;00m\n\u001b[0;32m      7\u001b[0m \u001b[39mfrom\u001b[39;00m \u001b[39mtextblob\u001b[39;00m \u001b[39mimport\u001b[39;00m TextBlob\n\u001b[0;32m      8\u001b[0m \u001b[39mfrom\u001b[39;00m \u001b[39mspacytextblob\u001b[39;00m\u001b[39m.\u001b[39;00m\u001b[39mspacytextblob\u001b[39;00m \u001b[39mimport\u001b[39;00m SpacyTextBlob\n",
      "\u001b[1;31mModuleNotFoundError\u001b[0m: No module named 'neuralcoref'"
     ]
    }
   ],
   "source": [
    "import spacy\n",
    "from spacy import displacy\n",
    "import flair\n",
    "from nltk.sentiment.vader import SentimentIntensityAnalyzer\n",
    "import asent\n",
    "import neuralcoref\n",
    "from textblob import TextBlob\n",
    "from spacytextblob.spacytextblob import SpacyTextBlob\n",
    "\n",
    "text = \"Apple is looking at buying U.K. startup for $1 billion\"\n",
    "\n",
    "# # neural coreference resolution\n",
    "# coef = spacy.load('en_core_web_sm')\n",
    "# neuralcoref.add_to_pipe(coef)\n",
    "# doc = coef(text)\n",
    "# print(doc._.coref_clusters)\n",
    "\n",
    "# get a nlp model to do sentiment analysis on text\n",
    "# model = flair.models.TextClassifier.load('en-sentiment')\n",
    "sia = SentimentIntensityAnalyzer()\n",
    "# tokenize input text\n",
    "# sentence = flair.data.Sentence(text)\n",
    "print(sia.polarity_scores(text))\n",
    "# make sentiment prediction\n",
    "# model.predict(sentence)\n",
    "# extract sentiment direction and confidence (label and score) object\n",
    "# sentiment = sentence\n",
    "# print(sentiment)\n",
    "# nlp = spacy.load(\"en_core_web_sm\")\n",
    "# nlp.add_pipe('spacytextblob')\n",
    "# nlp.add_pipe(\"sentencizer\")\n",
    "# nlp.add_pipe('asent_en_v1')\n",
    "# get the sentiment analysis\n",
    "# doc = nlp(text)\n",
    "# asent.visualize(doc, style='analysis')\n",
    "\n",
    "# get a nlp model to do entity recognition on text\n",
    "ner = spacy.load(\"en_core_web_sm\")\n",
    "# entity_analyzer = ner.add_pipe(\"ner\")\n",
    "# ner.add_pipe(entity_analyzer)\n",
    "# get the entity recognition\n",
    "doc = ner(text)\n",
    "# visualize the results with displacy\n",
    "displacy.render(doc, style=\"ent\", jupyter=True)\n"
   ]
  },
  {
   "attachments": {},
   "cell_type": "markdown",
   "metadata": {},
   "source": [
    "## Demonstrate sentiment analysis with NLTK"
   ]
  },
  {
   "cell_type": "code",
   "execution_count": null,
   "metadata": {},
   "outputs": [
    {
     "name": "stdout",
     "output_type": "stream",
     "text": [
      "Well, this week news broke that they had been in talks with Twitter for a $4 billion acquisition, so it looks like they’re still pretty desirable.\n",
      "{'neg': 0.084, 'neu': 0.603, 'pos': 0.313, 'compound': 0.7624}\n"
     ]
    },
    {
     "ename": "NameError",
     "evalue": "name 'model' is not defined",
     "output_type": "error",
     "traceback": [
      "\u001b[1;31m---------------------------------------------------------------------------\u001b[0m",
      "\u001b[1;31mNameError\u001b[0m                                 Traceback (most recent call last)",
      "Cell \u001b[1;32mIn[7], line 10\u001b[0m\n\u001b[0;32m      8\u001b[0m \u001b[39mprint\u001b[39m(sia\u001b[39m.\u001b[39mpolarity_scores(phrase))\n\u001b[0;32m      9\u001b[0m sentence \u001b[39m=\u001b[39m flair\u001b[39m.\u001b[39mdata\u001b[39m.\u001b[39mSentence(phrase)\n\u001b[1;32m---> 10\u001b[0m model\u001b[39m.\u001b[39mpredict(sentence)\n\u001b[0;32m     11\u001b[0m \u001b[39mprint\u001b[39m(sentence\u001b[39m.\u001b[39mget_label())\n",
      "\u001b[1;31mNameError\u001b[0m: name 'model' is not defined"
     ]
    }
   ],
   "source": [
    "PHRASES = ['Well, this week news broke that they had been in talks with Twitter for a $4 billion acquisition, so it looks like they’re still pretty desirable.',\\\n",
    "           'Wow, how things change.',\\\n",
    "           'Traveloka are poised to become public companies in coming months, kickstarting a coming-out party for Southeast Asia’s long-overlooked internet scene.',\\\n",
    "           'Former DHS Secretary Janet Napolitano spoke with Yahoo Finance about comprehensive immigration reform.']\n",
    "\n",
    "for phrase in PHRASES:\n",
    "  print(f'{phrase}')\n",
    "  print(sia.polarity_scores(phrase))\n",
    "  sentence = flair.data.Sentence(phrase)\n",
    "  model.predict(sentence)\n",
    "  print(sentence.get_label())"
   ]
  },
  {
   "attachments": {},
   "cell_type": "markdown",
   "metadata": {},
   "source": [
    "# News + Sentiment"
   ]
  },
  {
   "cell_type": "code",
   "execution_count": null,
   "metadata": {},
   "outputs": [],
   "source": [
    "def get_articles_sentiments(keywrd, startd, sources_list = None, show_all_articles = False):\n",
    "   \n",
    "  news_client = NewsApiClient(api_key= NEWS_API_KEY)\n",
    "  if type(startd) == str:\n",
    "    my_date = datetime.strptime(startd,'%d-%b-%Y')\n",
    "  else:\n",
    "    my_date = startd\n",
    "  # business_en_sources = news_client.get_sources('business','en')\n",
    "  if sources_list:\n",
    "    articles = news_client.get_everything(q = keywrd,\n",
    "                                      from_param = my_date.isoformat(), \n",
    "                                      to = (my_date + timedelta(days = 1)).isoformat(),\n",
    "                                      language=\"en\",\n",
    "                                      sources = \",\".join(sources_list),\n",
    "                                      sort_by=\"relevancy\",\n",
    "                                      page_size = 100)\n",
    "  else:\n",
    "     articles = news_client.get_everything(q = keywrd,\n",
    "                                       from_param = my_date.isoformat(), \n",
    "                                       to = (my_date + timedelta(days = 1)).isoformat(),\n",
    "                                       language=\"en\",\n",
    "                                       sort_by=\"relevancy\",\n",
    "                                       page_size = 100)\n",
    "  article_content = ''\n",
    "\n",
    "  date_sentiments = {}\n",
    "  date_sentiments_list = []\n",
    "  seen = set()\n",
    "  \n",
    "  for article in articles['articles']:\n",
    "    if str(article['title']) in seen:\n",
    "      continue\n",
    "    else:\n",
    "      seen.add(str(article['title']))\n",
    "      article_content = str(article['title']) + '. ' + str(article['description'])      \n",
    "      sentiment = sia.polarity_scores(article_content)['compound']\n",
    "      date_sentiments.setdefault(my_date, []).append(sentiment)\n",
    "      date_sentiments_list.append((sentiment, article['url'],article['title'],article['description']))\n",
    "\n",
    "  date_sentiments_l = sorted(date_sentiments_list, key=lambda tup: tup[0], reverse = True)   \n",
    "  sent_list = list(date_sentiments.values())[0]\n",
    "\n",
    "  return pd.DataFrame(date_sentiments_list, columns=['Sentiment','URL','Title','Description'])"
   ]
  },
  {
   "cell_type": "code",
   "execution_count": null,
   "metadata": {},
   "outputs": [],
   "source": [
    "# Easy version when we don't filter the business source -- seems to be relevant though, but the description\n",
    "# Get all sources in en\n",
    "\n",
    "# return_articles = get_articles_sentiments(keywrd= 'Tesla stock' ,startd = '9-Apr-2021',sources_list = None, show_all_articles= True)\n",
    "# return_articles.Sentiment.hist(bins=30,grid=False)\n",
    "# print(return_articles.Sentiment.mean())\n",
    "# print(return_articles.Sentiment.count())\n",
    "# print(return_articles.Description)"
   ]
  },
  {
   "attachments": {},
   "cell_type": "markdown",
   "metadata": {},
   "source": [
    "# Every Day execution"
   ]
  },
  {
   "cell_type": "code",
   "execution_count": null,
   "metadata": {},
   "outputs": [],
   "source": [
    "# Easy version when we don't filter the business source -- seems to be relevant though, but the description\n",
    "# Get all sources in en\n",
    "\n",
    "my_date = date.today() - timedelta(days=1) \n",
    "\n",
    "return_articles = get_articles_sentiments(keywrd= 'Tesla stock' ,startd = my_date, sources_list = None, show_all_articles= True)\n",
    "return_articles.Sentiment.hist(bins=30, grid=False)\n",
    "print(return_articles)\n",
    "# print(return_articles.Sentiment.mean())\n",
    "# print(return_articles.Sentiment.count())\n",
    "# print(return_articles.Description)"
   ]
  },
  {
   "cell_type": "code",
   "execution_count": null,
   "metadata": {},
   "outputs": [],
   "source": [
    "return_articles[\"Date\"] = my_date"
   ]
  },
  {
   "cell_type": "code",
   "execution_count": null,
   "metadata": {},
   "outputs": [],
   "source": [
    "return_articles.head()"
   ]
  },
  {
   "cell_type": "code",
   "execution_count": null,
   "metadata": {},
   "outputs": [],
   "source": [
    "return_articles.sort_values(by='Sentiment', ascending=True)[['Sentiment','URL', 'Description','Title']].head(2)"
   ]
  },
  {
   "cell_type": "code",
   "execution_count": null,
   "metadata": {},
   "outputs": [],
   "source": [
    "return_articles.sort_values(by='Sentiment', ascending=False)[['Sentiment','URL', 'Description','Title']].head(2)"
   ]
  },
  {
   "cell_type": "code",
   "execution_count": null,
   "metadata": {},
   "outputs": [],
   "source": [
    "return_articles.to_csv(\"TSLA_news_sentiments_\"+my_date.isoformat()+\".csv\")"
   ]
  },
  {
   "cell_type": "code",
   "execution_count": null,
   "metadata": {},
   "outputs": [],
   "source": []
  }
 ],
 "metadata": {
  "kernelspec": {
   "display_name": "pytorch",
   "language": "python",
   "name": "python3"
  },
  "language_info": {
   "codemirror_mode": {
    "name": "ipython",
    "version": 3
   },
   "file_extension": ".py",
   "mimetype": "text/x-python",
   "name": "python",
   "nbconvert_exporter": "python",
   "pygments_lexer": "ipython3",
   "version": "3.9.12"
  },
  "orig_nbformat": 4,
  "vscode": {
   "interpreter": {
    "hash": "322a509557a274cb16a0e1e68450414eb651dbdd02be71d467608ec080fac03e"
   }
  }
 },
 "nbformat": 4,
 "nbformat_minor": 2
}
