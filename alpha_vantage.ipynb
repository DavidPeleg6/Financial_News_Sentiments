{
 "cells": [
  {
   "attachments": {},
   "cell_type": "markdown",
   "metadata": {},
   "source": [
    "# Create a dataset using alpha vantage"
   ]
  },
  {
   "cell_type": "code",
   "execution_count": 9,
   "metadata": {},
   "outputs": [],
   "source": [
    "try:\n",
    "    import alpha_vantage\n",
    "except:\n",
    "    ! pip install alpha_vantage\n",
    "    import alpha_vantage\n",
    "\n",
    "import requests\n",
    "from pprint import pprint\n",
    "import csv\n",
    "import pandas as pd\n",
    "import matplotlib.pyplot as plt\n",
    "import seaborn as sns\n",
    "import numpy as np\n",
    "from datetime import datetime, timedelta\n",
    "import json\n",
    "import time\n",
    "from tqdm import tqdm\n",
    "import os\n",
    "sns.set()\n",
    "pd.set_option('display.max_colwidth',1000)"
   ]
  },
  {
   "attachments": {},
   "cell_type": "markdown",
   "metadata": {},
   "source": [
    "## get all tickers from alpha vantange api"
   ]
  },
  {
   "cell_type": "code",
   "execution_count": 10,
   "metadata": {},
   "outputs": [],
   "source": [
    "def get_symbols(start_date=0, end_date=0):\n",
    "    # API KEY: NG88F4E3M06AUO7C\n",
    "    # API KEY: API_KEY\n",
    "    # API KEY: 9XZQZQZQZQZQZQZQ\n",
    "    # API KEY: demo\n",
    "    CSV_URL = 'https://www.alphavantage.co/query?function=LISTING_STATUS&apikey=NG88F4E3M06AUO7C'\n",
    "    return pd.read_csv(CSV_URL)\n",
    "\n",
    "tickers = get_symbols()"
   ]
  },
  {
   "attachments": {},
   "cell_type": "markdown",
   "metadata": {},
   "source": [
    "### Do some pre-processing on the dataset to make it a bit more presentable"
   ]
  },
  {
   "cell_type": "code",
   "execution_count": 11,
   "metadata": {},
   "outputs": [
    {
     "name": "stdout",
     "output_type": "stream",
     "text": [
      "                  name exchange assetType\n",
      "count            11113    11114     11114\n",
      "unique           11113        5         2\n",
      "top     Boeing Company   NASDAQ     Stock\n",
      "freq                 1     5315      7706\n"
     ]
    },
    {
     "data": {
      "text/html": [
       "<div>\n",
       "<style scoped>\n",
       "    .dataframe tbody tr th:only-of-type {\n",
       "        vertical-align: middle;\n",
       "    }\n",
       "\n",
       "    .dataframe tbody tr th {\n",
       "        vertical-align: top;\n",
       "    }\n",
       "\n",
       "    .dataframe thead th {\n",
       "        text-align: right;\n",
       "    }\n",
       "</style>\n",
       "<table border=\"1\" class=\"dataframe\">\n",
       "  <thead>\n",
       "    <tr style=\"text-align: right;\">\n",
       "      <th></th>\n",
       "      <th>name</th>\n",
       "      <th>exchange</th>\n",
       "      <th>assetType</th>\n",
       "      <th>ipoDate</th>\n",
       "      <th>ipoYear</th>\n",
       "    </tr>\n",
       "    <tr>\n",
       "      <th>symbol</th>\n",
       "      <th></th>\n",
       "      <th></th>\n",
       "      <th></th>\n",
       "      <th></th>\n",
       "      <th></th>\n",
       "    </tr>\n",
       "  </thead>\n",
       "  <tbody>\n",
       "    <tr>\n",
       "      <th>BA</th>\n",
       "      <td>Boeing Company</td>\n",
       "      <td>NYSE</td>\n",
       "      <td>Stock</td>\n",
       "      <td>1962-01-02</td>\n",
       "      <td>1962</td>\n",
       "    </tr>\n",
       "    <tr>\n",
       "      <th>HWM</th>\n",
       "      <td>Howmet Aerospace Inc</td>\n",
       "      <td>NYSE</td>\n",
       "      <td>Stock</td>\n",
       "      <td>1962-01-02</td>\n",
       "      <td>1962</td>\n",
       "    </tr>\n",
       "    <tr>\n",
       "      <th>IBM</th>\n",
       "      <td>International Business Machines Corp</td>\n",
       "      <td>NYSE</td>\n",
       "      <td>Stock</td>\n",
       "      <td>1962-01-02</td>\n",
       "      <td>1962</td>\n",
       "    </tr>\n",
       "    <tr>\n",
       "      <th>KO</th>\n",
       "      <td>Coca-Cola Company</td>\n",
       "      <td>NYSE</td>\n",
       "      <td>Stock</td>\n",
       "      <td>1962-01-02</td>\n",
       "      <td>1962</td>\n",
       "    </tr>\n",
       "    <tr>\n",
       "      <th>CAT</th>\n",
       "      <td>Caterpillar Inc</td>\n",
       "      <td>NYSE</td>\n",
       "      <td>Stock</td>\n",
       "      <td>1962-01-02</td>\n",
       "      <td>1962</td>\n",
       "    </tr>\n",
       "  </tbody>\n",
       "</table>\n",
       "</div>"
      ],
      "text/plain": [
       "                                        name exchange assetType    ipoDate  \\\n",
       "symbol                                                                       \n",
       "BA                            Boeing Company     NYSE     Stock 1962-01-02   \n",
       "HWM                     Howmet Aerospace Inc     NYSE     Stock 1962-01-02   \n",
       "IBM     International Business Machines Corp     NYSE     Stock 1962-01-02   \n",
       "KO                         Coca-Cola Company     NYSE     Stock 1962-01-02   \n",
       "CAT                          Caterpillar Inc     NYSE     Stock 1962-01-02   \n",
       "\n",
       "        ipoYear  \n",
       "symbol           \n",
       "BA         1962  \n",
       "HWM        1962  \n",
       "IBM        1962  \n",
       "KO         1962  \n",
       "CAT        1962  "
      ]
     },
     "execution_count": 11,
     "metadata": {},
     "output_type": "execute_result"
    }
   ],
   "source": [
    "# set the index of the dataframe to the ticker symbol\n",
    "tickers.set_index('symbol', inplace=True)\n",
    "# sort the dataframe according to the date\n",
    "tickers.sort_values('ipoDate', inplace=True)\n",
    "# remove lines where delistingDate is not null\n",
    "tickers = tickers[tickers['delistingDate'].isnull() & tickers['status'].str.contains('Active')]\n",
    "# remove the delistingDate column\n",
    "tickers.drop('delistingDate', axis=1, inplace=True)\n",
    "# remove the status column\n",
    "tickers.drop('status', axis=1, inplace=True)\n",
    "# find any duplicates in the name column and remove the earliest ones from the dataframe\n",
    "tickers.drop_duplicates(subset='name', keep='last', inplace=True)\n",
    "# convert ipoDate to datetime and parse out the year of the IPO from the ipoDate column\n",
    "tickers['ipoDate'] = pd.to_datetime(tickers['ipoDate'])\n",
    "tickers['ipoYear'] = tickers['ipoDate'].dt.year\n",
    "print(tickers.describe(include=['object']))\n",
    "tickers.head()"
   ]
  },
  {
   "cell_type": "code",
   "execution_count": 12,
   "metadata": {},
   "outputs": [
    {
     "name": "stdout",
     "output_type": "stream",
     "text": [
      "name                   Apple Inc\n",
      "exchange                  NASDAQ\n",
      "assetType                  Stock\n",
      "ipoDate      1980-12-12 00:00:00\n",
      "ipoYear                     1980\n",
      "Name: AAPL, dtype: object\n"
     ]
    }
   ],
   "source": [
    "# locate the row containing the symbol aapl\n",
    "pprint(tickers.loc['AAPL'])"
   ]
  },
  {
   "attachments": {},
   "cell_type": "markdown",
   "metadata": {},
   "source": [
    "### Plot the histogram with the number of ipos in the x axis"
   ]
  },
  {
   "cell_type": "code",
   "execution_count": 13,
   "metadata": {},
   "outputs": [
    {
     "data": {
      "image/png": "[encoded data removed]",
      "text/plain": [
       "<Figure size 1500x500 with 1 Axes>"
      ]
     },
     "metadata": {},
     "output_type": "display_data"
    }
   ],
   "source": [
    "# get the number of unique values in the ipoYear column\n",
    "years = tickers['ipoYear'].nunique()\n",
    "# plot a histogram of the number of IPOs per year and show all the years on the x-axis\n",
    "tickers['ipoYear'].hist(bins=years, xrot=90, figsize=(15, 5), align='mid')\n",
    "plt.title('Number of IPOs per year')\n",
    "plt.xticks(tickers['ipoYear'].unique())\n",
    "# move all x ticks to the left\n",
    "plt.gca().xaxis.tick_bottom()\n",
    "plt.show()"
   ]
  },
  {
   "cell_type": "code",
   "execution_count": 14,
   "metadata": {},
   "outputs": [],
   "source": [
    "# save the dataframe to a csv file\n",
    "tickers.to_csv('tickers.csv')"
   ]
  },
  {
   "attachments": {},
   "cell_type": "markdown",
   "metadata": {},
   "source": [
    "## Build the news sentiments dataset"
   ]
  },
  {
   "cell_type": "code",
   "execution_count": 20,
   "metadata": {},
   "outputs": [],
   "source": [
    "def get_sentiments(company_symbol: str = '', news_topic: str = '', time_from: str = '', time_to: str = '', sort_by: str = 'RELEVANCE'):\n",
    "    keys = ['API_KEY', 'YOUR_API_KEY', '9XZQZQZQZQZQZQZQ', 'TQ82I6FBRGST0SWG', 'NG88F4E3M06AUO7C', 'BVLIQRCET4I22OM8', '55AYQEHU4F19W8YS', '2AUO2G9N2BT4FMT6']\n",
    "    # API KEY: NG88F4E3M06AUO7C\n",
    "    # API KEY: BVLIQRCET4I22OM8\n",
    "    # API KEY: 55AYQEHU4F19W8YS\n",
    "    endpoint = \"https://www.alphavantage.co/query\"\n",
    "    for key in keys:\n",
    "        parameters = {\n",
    "            \"function\": \"NEWS_SENTIMENT\",\n",
    "            \"sort\": sort_by,\n",
    "            \"limit\": \"200\",\n",
    "            \"apikey\": key,\n",
    "        }\n",
    "        if time_from and time_to: parameters['time_from'] = time_from; parameters['time_to'] = time_to\n",
    "        if news_topic: parameters['topics'] = news_topic\n",
    "        if company_symbol: parameters['tickers'] = company_symbol\n",
    "        # Send a GET request to the API endpoint\n",
    "        response = requests.get(endpoint, params=parameters)\n",
    "        # Check if the request was successful\n",
    "        if response.status_code == 200:\n",
    "            data = response.json()\n",
    "            if 'Note' in data: print(f'{key} api overuse'); continue\n",
    "            return data\n",
    "        else: print(response)\n",
    "\n",
    "# pprint(get_sentiments())"
   ]
  },
  {
   "attachments": {},
   "cell_type": "markdown",
   "metadata": {},
   "source": [
    "### Download all news sentiments from the past 100 days\n",
    "Create a dataframe of the sentiments grouped by ticker symbols and sorted by time\n",
    "\n",
    "Note that the sentiment score values indicate:\n",
    "* Bearish: x <= -0.35\n",
    "* Somewhat-Bearish: -0.35 < x <= -0.15\n",
    "* Neutral: -0.15 < x < 0.15\n",
    "* Somewhat_Bullish: 0.15 <= x < 0.35 \n",
    "* Bullish: x >= 0.35\n",
    "\n",
    "\n",
    "Note that another value maintained is the relevance score indicating the relevance of each article to the ticker 0 < x <= 1, with a higher score indicating higher relevance. However, this value is ignored for now. "
   ]
  },
  {
   "cell_type": "code",
   "execution_count": 26,
   "metadata": {},
   "outputs": [
    {
     "name": "stderr",
     "output_type": "stream",
     "text": [
      "  0%|          | 0/20 [00:00<?, ?it/s]"
     ]
    }
   ],
   "source": [
    "def sweep_news_in_range(start_time: datetime):\n",
    "    # todo make this more concise\n",
    "    # create a dir called sentiments if it doesn't exist\n",
    "    if not os.path.exists('sentiments'): os.mkdir('sentiments')\n",
    "    sentiment_list = []\n",
    "    # get the news up to 100 days ago. and every 5 iterations of action, sleep for one second\\n\",\n",
    "    for i in tqdm(range(20)):\n",
    "        # repeat the process for ealiest and latest\n",
    "        for sort_by in ['LATEST', 'EARLIEST']:\n",
    "            for j in range(5):\n",
    "                time_to = (start_time - timedelta(days=i*5+j)).strftime('%Y%m%dT%H%M')\n",
    "                time_from = (start_time - timedelta(days=i*5+j+1)).strftime('%Y%m%dT%H%M')\n",
    "                # get the news sentiment for the past week\n",
    "                sentiment = get_sentiments(news_topic='financial_markets', time_from=time_from, time_to=time_to, sort_by=sort_by)\n",
    "                if not sentiment: return sentiment_list\n",
    "                    # temporarily save the sentiments to a json file in a folder called sentiments\n",
    "                with open(os.path.join('sentiments', f'sentiments{time_from}.json'), 'w') as f:\n",
    "                    json.dump(sentiment, f, indent=4)\n",
    "                # append the sentiment to the list\n",
    "                sentiment_list.append(sentiment)\n",
    "            time.sleep(30)\n",
    "    return sentiment_list\n",
    "    \n",
    "# start sweeping from right now, for older sweeps change datetime to datetime.now() - timedelta(days=num_days_past)\n",
    "all_news = sweep_news_in_range(datetime.now())"
   ]
  },
  {
   "cell_type": "code",
   "execution_count": 16,
   "metadata": {},
   "outputs": [
    {
     "ename": "NameError",
     "evalue": "name 'all_news' is not defined",
     "output_type": "error",
     "traceback": [
      "\u001b[1;31m---------------------------------------------------------------------------\u001b[0m",
      "\u001b[1;31mNameError\u001b[0m                                 Traceback (most recent call last)",
      "Cell \u001b[1;32mIn[16], line 2\u001b[0m\n\u001b[0;32m      1\u001b[0m ordered_sentiments \u001b[39m=\u001b[39m []\n\u001b[1;32m----> 2\u001b[0m \u001b[39mfor\u001b[39;00m news \u001b[39min\u001b[39;00m tqdm(all_news):\n\u001b[0;32m      3\u001b[0m     \u001b[39m# temp addition\u001b[39;00m\n\u001b[0;32m      4\u001b[0m     \u001b[39mif\u001b[39;00m \u001b[39m'\u001b[39m\u001b[39mNote\u001b[39m\u001b[39m'\u001b[39m \u001b[39min\u001b[39;00m news: \u001b[39mcontinue\u001b[39;00m\n\u001b[0;32m      5\u001b[0m     \u001b[39mfor\u001b[39;00m article \u001b[39min\u001b[39;00m news[\u001b[39m'\u001b[39m\u001b[39mfeed\u001b[39m\u001b[39m'\u001b[39m]:\n\u001b[0;32m      6\u001b[0m         \u001b[39m# parse date time from YYYYMMDDTHHMM format to datetime object\u001b[39;00m\n",
      "\u001b[1;31mNameError\u001b[0m: name 'all_news' is not defined"
     ]
    }
   ],
   "source": [
    "ordered_sentiments = []\n",
    "for news in tqdm(all_news):\n",
    "    # temp addition\n",
    "    if 'Note' in news: continue\n",
    "    for article in news['feed']:\n",
    "        # parse date time from YYYYMMDDTHHMM format to datetime object\n",
    "        time_pub = datetime.strptime(article['time_published'], '%Y%m%dT%H%M%S')\n",
    "        ordered_sentiments.append({'ticker': None, 'sentiment': article['overall_sentiment_score'], 'time': time_pub, 'url': article['url']})\n",
    "        for tickers_sents in article['ticker_sentiment']:\n",
    "            ordered_sentiments.append({'ticker': tickers_sents['ticker'], 'sentiment': tickers_sents['ticker_sentiment_score'], 'time': time_pub, 'url': article['url']})"
   ]
  },
  {
   "cell_type": "code",
   "execution_count": null,
   "metadata": {},
   "outputs": [],
   "source": [
    "# create a dataframe from the list of dictionaries\n",
    "# remove duplicates caused by the same article being published on multiple websites or downloading multiple times using the sort_by\n",
    "sent_df = pd.DataFrame(ordered_sentiments).drop_duplicates(keep='last').sort_values(by='time', ascending=False).set_index('ticker')\n",
    "start_time, end_time = sent_df.iloc[0]['time'].strftime('%d_%m_%Y'), sent_df.iloc[-1]['time'].strftime('%d_%m_%Y')\n",
    "# save the dataframe to a csv file\n",
    "sent_df.to_csv(f'sentiments_{start_time}_{end_time}.csv')\n",
    "sent_df.head()"
   ]
  },
  {
   "cell_type": "code",
   "execution_count": null,
   "metadata": {},
   "outputs": [],
   "source": [
    "# load the csv file into a dataframe\n",
    "sent_df = pd.read_csv('sentiments_30_01_2023_12_04_2022.csv')\n",
    "print(sent_df.head(5))\n",
    "# use pandas describe to show statistics of the string columns\n",
    "sent_df.describe(include=['object'])"
   ]
  },
  {
   "attachments": {},
   "cell_type": "markdown",
   "metadata": {},
   "source": [
    "# TODO ADD SOME VISULAZIATIONS OF THE DATASET HERE"
   ]
  },
  {
   "cell_type": "code",
   "execution_count": null,
   "metadata": {},
   "outputs": [],
   "source": [
    "# group the dataframe by day\n",
    "sent_df['time'] = pd.to_datetime(sent_df['time']).dt.date\n",
    "# sort by maximum frequency of tickers and get a list of the top 20 most frequent tickers\n",
    "top_10_tickers = sent_df.groupby('ticker').count().sort_values(by='time', ascending=False).head(10).index\n",
    "# print(sent_df.groupby('ticker').count().sort_values(by='time', ascending=False).head(10))\n",
    "# for a list of indices, plot the sentiment score for each ticker\n",
    "for ticker in top_10_tickers:\n",
    "    sent_df[sent_df['ticker'] == ticker].groupby('time').mean()['sentiment'].plot(figsize=(15, 5), label=ticker)\n",
    "\n",
    "plt.legend()\n"
   ]
  },
  {
   "cell_type": "code",
   "execution_count": null,
   "metadata": {},
   "outputs": [],
   "source": []
  }
 ],
 "metadata": {
  "kernelspec": {
   "display_name": "pytorch",
   "language": "python",
   "name": "python3"
  },
  "language_info": {
   "codemirror_mode": {
    "name": "ipython",
    "version": 3
   },
   "file_extension": ".py",
   "mimetype": "text/x-python",
   "name": "python",
   "nbconvert_exporter": "python",
   "pygments_lexer": "ipython3",
   "version": "3.9.12"
  },
  "orig_nbformat": 4,
  "vscode": {
   "interpreter": {
    "hash": "322a509557a274cb16a0e1e68450414eb651dbdd02be71d467608ec080fac03e"
   }
  }
 },
 "nbformat": 4,
 "nbformat_minor": 2
}
