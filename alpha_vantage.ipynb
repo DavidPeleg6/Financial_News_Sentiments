{
 "cells": [
  {
   "attachments": {},
   "cell_type": "markdown",
   "metadata": {},
   "source": [
    "# Create a dataset using alpha vantage"
   ]
  },
  {
   "cell_type": "code",
   "execution_count": 109,
   "metadata": {},
   "outputs": [],
   "source": [
    "try:\n",
    "    import alpha_vantage\n",
    "except:\n",
    "    ! pip install alpha_vantage\n",
    "    import alpha_vantage\n",
    "\n",
    "import requests\n",
    "from pprint import pprint\n",
    "import csv\n",
    "import pandas as pd\n",
    "import matplotlib.pyplot as plt\n",
    "import seaborn as sns\n",
    "import numpy as np\n",
    "from datetime import datetime, timedelta\n",
    "import json\n",
    "import time\n",
    "from tqdm import tqdm\n",
    "import os\n",
    "sns.set()\n",
    "pd.set_option('display.max_colwidth',1000)"
   ]
  },
  {
   "attachments": {},
   "cell_type": "markdown",
   "metadata": {},
   "source": [
    "## get all tickers from alpha vantange api"
   ]
  },
  {
   "cell_type": "code",
   "execution_count": 83,
   "metadata": {},
   "outputs": [],
   "source": [
    "def get_symbols(start_date=0, end_date=0):\n",
    "    # API KEY: NG88F4E3M06AUO7C\n",
    "    # API KEY: API_KEY\n",
    "    # API KEY: 9XZQZQZQZQZQZQZQ\n",
    "    # API KEY: demo\n",
    "    CSV_URL = 'https://www.alphavantage.co/query?function=LISTING_STATUS&apikey=demo'\n",
    "    return pd.read_csv(CSV_URL)\n",
    "\n",
    "tickers = get_symbols()"
   ]
  },
  {
   "attachments": {},
   "cell_type": "markdown",
   "metadata": {},
   "source": [
    "### Do some pre-processing on the dataset to make it a bit more presentable"
   ]
  },
  {
   "cell_type": "code",
   "execution_count": 84,
   "metadata": {},
   "outputs": [
    {
     "name": "stdout",
     "output_type": "stream",
     "text": [
      "            ipoYear\n",
      "count  11115.000000\n",
      "mean    2012.311381\n",
      "std       11.018321\n",
      "min     1962.000000\n",
      "25%     2006.000000\n",
      "50%     2017.000000\n",
      "75%     2021.000000\n",
      "max     2023.000000\n"
     ]
    },
    {
     "data": {
      "text/html": [
       "<div>\n",
       "<style scoped>\n",
       "    .dataframe tbody tr th:only-of-type {\n",
       "        vertical-align: middle;\n",
       "    }\n",
       "\n",
       "    .dataframe tbody tr th {\n",
       "        vertical-align: top;\n",
       "    }\n",
       "\n",
       "    .dataframe thead th {\n",
       "        text-align: right;\n",
       "    }\n",
       "</style>\n",
       "<table border=\"1\" class=\"dataframe\">\n",
       "  <thead>\n",
       "    <tr style=\"text-align: right;\">\n",
       "      <th></th>\n",
       "      <th>name</th>\n",
       "      <th>exchange</th>\n",
       "      <th>assetType</th>\n",
       "      <th>ipoDate</th>\n",
       "      <th>ipoYear</th>\n",
       "    </tr>\n",
       "    <tr>\n",
       "      <th>symbol</th>\n",
       "      <th></th>\n",
       "      <th></th>\n",
       "      <th></th>\n",
       "      <th></th>\n",
       "      <th></th>\n",
       "    </tr>\n",
       "  </thead>\n",
       "  <tbody>\n",
       "    <tr>\n",
       "      <th>GE</th>\n",
       "      <td>General Electric Company</td>\n",
       "      <td>NYSE</td>\n",
       "      <td>Stock</td>\n",
       "      <td>1962-01-02</td>\n",
       "      <td>1962</td>\n",
       "    </tr>\n",
       "    <tr>\n",
       "      <th>CAT</th>\n",
       "      <td>Caterpillar Inc</td>\n",
       "      <td>NYSE</td>\n",
       "      <td>Stock</td>\n",
       "      <td>1962-01-02</td>\n",
       "      <td>1962</td>\n",
       "    </tr>\n",
       "    <tr>\n",
       "      <th>KO</th>\n",
       "      <td>Coca-Cola Company</td>\n",
       "      <td>NYSE</td>\n",
       "      <td>Stock</td>\n",
       "      <td>1962-01-02</td>\n",
       "      <td>1962</td>\n",
       "    </tr>\n",
       "    <tr>\n",
       "      <th>BA</th>\n",
       "      <td>Boeing Company</td>\n",
       "      <td>NYSE</td>\n",
       "      <td>Stock</td>\n",
       "      <td>1962-01-02</td>\n",
       "      <td>1962</td>\n",
       "    </tr>\n",
       "    <tr>\n",
       "      <th>IBM</th>\n",
       "      <td>International Business Machines Corp</td>\n",
       "      <td>NYSE</td>\n",
       "      <td>Stock</td>\n",
       "      <td>1962-01-02</td>\n",
       "      <td>1962</td>\n",
       "    </tr>\n",
       "    <tr>\n",
       "      <th>...</th>\n",
       "      <td>...</td>\n",
       "      <td>...</td>\n",
       "      <td>...</td>\n",
       "      <td>...</td>\n",
       "      <td>...</td>\n",
       "    </tr>\n",
       "    <tr>\n",
       "      <th>CVMC</th>\n",
       "      <td>Calvert US Mid-Cap Core Responsible Index ETF</td>\n",
       "      <td>NYSE ARCA</td>\n",
       "      <td>ETF</td>\n",
       "      <td>2023-02-01</td>\n",
       "      <td>2023</td>\n",
       "    </tr>\n",
       "    <tr>\n",
       "      <th>PBT</th>\n",
       "      <td>Permian Basin Royalty Trust</td>\n",
       "      <td>NYSE</td>\n",
       "      <td>Stock</td>\n",
       "      <td>2023-02-01</td>\n",
       "      <td>2023</td>\n",
       "    </tr>\n",
       "    <tr>\n",
       "      <th>ZSPY</th>\n",
       "      <td>ASYMmetric Smart Alpha S&amp;P 500 ETF</td>\n",
       "      <td>NYSE ARCA</td>\n",
       "      <td>ETF</td>\n",
       "      <td>2023-02-01</td>\n",
       "      <td>2023</td>\n",
       "    </tr>\n",
       "    <tr>\n",
       "      <th>CVIE</th>\n",
       "      <td>Calvert International Responsible Index ETF</td>\n",
       "      <td>NYSE ARCA</td>\n",
       "      <td>ETF</td>\n",
       "      <td>2023-02-01</td>\n",
       "      <td>2023</td>\n",
       "    </tr>\n",
       "    <tr>\n",
       "      <th>CDEI</th>\n",
       "      <td>Calvert US Large-Cap Diversity Equity and Inclusion Index ETF</td>\n",
       "      <td>NYSE ARCA</td>\n",
       "      <td>ETF</td>\n",
       "      <td>2023-02-01</td>\n",
       "      <td>2023</td>\n",
       "    </tr>\n",
       "  </tbody>\n",
       "</table>\n",
       "<p>11115 rows × 5 columns</p>\n",
       "</div>"
      ],
      "text/plain": [
       "                                                                 name  \\\n",
       "symbol                                                                  \n",
       "GE                                           General Electric Company   \n",
       "CAT                                                   Caterpillar Inc   \n",
       "KO                                                  Coca-Cola Company   \n",
       "BA                                                     Boeing Company   \n",
       "IBM                              International Business Machines Corp   \n",
       "...                                                               ...   \n",
       "CVMC                    Calvert US Mid-Cap Core Responsible Index ETF   \n",
       "PBT                                       Permian Basin Royalty Trust   \n",
       "ZSPY                               ASYMmetric Smart Alpha S&P 500 ETF   \n",
       "CVIE                      Calvert International Responsible Index ETF   \n",
       "CDEI    Calvert US Large-Cap Diversity Equity and Inclusion Index ETF   \n",
       "\n",
       "         exchange assetType    ipoDate  ipoYear  \n",
       "symbol                                           \n",
       "GE           NYSE     Stock 1962-01-02     1962  \n",
       "CAT          NYSE     Stock 1962-01-02     1962  \n",
       "KO           NYSE     Stock 1962-01-02     1962  \n",
       "BA           NYSE     Stock 1962-01-02     1962  \n",
       "IBM          NYSE     Stock 1962-01-02     1962  \n",
       "...           ...       ...        ...      ...  \n",
       "CVMC    NYSE ARCA       ETF 2023-02-01     2023  \n",
       "PBT          NYSE     Stock 2023-02-01     2023  \n",
       "ZSPY    NYSE ARCA       ETF 2023-02-01     2023  \n",
       "CVIE    NYSE ARCA       ETF 2023-02-01     2023  \n",
       "CDEI    NYSE ARCA       ETF 2023-02-01     2023  \n",
       "\n",
       "[11115 rows x 5 columns]"
      ]
     },
     "execution_count": 84,
     "metadata": {},
     "output_type": "execute_result"
    }
   ],
   "source": [
    "# set the index of the dataframe to the ticker symbol\n",
    "tickers.set_index('symbol', inplace=True)\n",
    "# sort the dataframe according to the date\n",
    "tickers.sort_values('ipoDate', inplace=True)\n",
    "# remove lines where delistingDate is not null\n",
    "tickers = tickers[tickers['delistingDate'].isnull() & tickers['status'].str.contains('Active')]\n",
    "# remove the delistingDate column\n",
    "tickers.drop('delistingDate', axis=1, inplace=True)\n",
    "# remove the status column\n",
    "tickers.drop('status', axis=1, inplace=True)\n",
    "# find any duplicates in the name column and remove the earliest ones from the dataframe\n",
    "tickers.drop_duplicates(subset='name', keep='last', inplace=True)\n",
    "# convert ipoDate to datetime and parse out the year of the IPO from the ipoDate column\n",
    "tickers['ipoDate'] = pd.to_datetime(tickers['ipoDate'])\n",
    "tickers['ipoYear'] = tickers['ipoDate'].dt.year\n",
    "print(tickers.describe())\n",
    "tickers"
   ]
  },
  {
   "cell_type": "code",
   "execution_count": 85,
   "metadata": {},
   "outputs": [
    {
     "name": "stdout",
     "output_type": "stream",
     "text": [
      "name                   Apple Inc\n",
      "exchange                  NASDAQ\n",
      "assetType                  Stock\n",
      "ipoDate      1980-12-12 00:00:00\n",
      "ipoYear                     1980\n",
      "Name: AAPL, dtype: object\n"
     ]
    }
   ],
   "source": [
    "# locate the row containing the symbol aapl\n",
    "pprint(tickers.loc['AAPL'])"
   ]
  },
  {
   "attachments": {},
   "cell_type": "markdown",
   "metadata": {},
   "source": [
    "### Plot the histogram with the number of ipos in the x axis"
   ]
  },
  {
   "cell_type": "code",
   "execution_count": 86,
   "metadata": {},
   "outputs": [
    {
     "data": {
      "image/png": "[encoded data removed]",
      "text/plain": [
       "<Figure size 1500x500 with 1 Axes>"
      ]
     },
     "metadata": {},
     "output_type": "display_data"
    }
   ],
   "source": [
    "# get the number of unique values in the ipoYear column\n",
    "years = tickers['ipoYear'].nunique()\n",
    "# plot a histogram of the number of IPOs per year and show all the years on the x-axis\n",
    "tickers['ipoYear'].hist(bins=years, xrot=90, figsize=(15, 5), align='mid')\n",
    "plt.title('Number of IPOs per year')\n",
    "plt.xticks(tickers['ipoYear'].unique())\n",
    "# move all x ticks to the left\n",
    "plt.gca().xaxis.tick_bottom()\n",
    "plt.show()"
   ]
  },
  {
   "cell_type": "code",
   "execution_count": 87,
   "metadata": {},
   "outputs": [],
   "source": [
    "# save the dataframe to a csv file\n",
    "tickers.to_csv('tickers.csv')"
   ]
  },
  {
   "attachments": {},
   "cell_type": "markdown",
   "metadata": {},
   "source": [
    "## Build the news sentiments dataset"
   ]
  },
  {
   "cell_type": "code",
   "execution_count": 107,
   "metadata": {},
   "outputs": [],
   "source": [
    "def get_sentiments(company_symbol: str = '', news_topic: str = '', time_from: str = '', time_to: str = ''):\n",
    "    # Define the API endpoint and the parameters for the request\n",
    "    # API KEY: NG88F4E3M06AUO7C\n",
    "    # API KEY: API_KEY\n",
    "    # API KEY: 9XZQZQZQZQZQZQZQ\n",
    "    endpoint = \"https://www.alphavantage.co/query\"\n",
    "    parameters = {\n",
    "        \"function\": \"NEWS_SENTIMENT\",\n",
    "        \"sort\": \"RELEVANCE\",\n",
    "        \"limit\": \"200\",\n",
    "        \"apikey\": \"9XZQZQZQZQZQZQZQ\",\n",
    "    }\n",
    "    if time_from and time_to: parameters['time_from'] = time_from; parameters['time_to'] = time_to\n",
    "    if news_topic: parameters['topics'] = news_topic\n",
    "    if company_symbol: parameters['tickers'] = company_symbol\n",
    "    # Send a GET request to the API endpoint\n",
    "    response = requests.get(endpoint, params=parameters)\n",
    "    # Check if the request was successful\n",
    "    if response.status_code == 200:\n",
    "        data = response.json()\n",
    "        try:\n",
    "            data['note']\n",
    "        except KeyError:\n",
    "            return print('api overuse')\n",
    "        # Parse the response JSON\n",
    "        return response.json()\n",
    "    else:\n",
    "        # print the error message in the response\n",
    "        print(response)"
   ]
  },
  {
   "attachments": {},
   "cell_type": "markdown",
   "metadata": {},
   "source": [
    "### Print news sentiments from the past week"
   ]
  },
  {
   "cell_type": "code",
   "execution_count": 115,
   "metadata": {},
   "outputs": [
    {
     "name": "stderr",
     "output_type": "stream",
     "text": [
      "  0%|          | 0/20 [00:00<?, ?it/s]"
     ]
    }
   ],
   "source": [
    "# todo make this more concise\n",
    "# create a dir called sentiments if it doesn't exist\n",
    "if not os.path.exists('sentiments'): os.mkdir('sentiments')\n",
    "# get the datetime of the past week in the format: YYYYMMDDTHHMM\n",
    "start_time = datetime.now()\n",
    "sentiment_list = []\n",
    "# get the news up to 100 days ago. and every 5 iterations of action, sleep for one second\n",
    "for i in tqdm(range(1, 101, 5)):\n",
    "    for j in range(5):\n",
    "        start_time -= timedelta(days=1)\n",
    "        time_to = (start_time - timedelta(days=i+j)).strftime('%Y%m%dT%H%M')\n",
    "        time_from = (start_time - timedelta(days=i+j+1)).strftime('%Y%m%dT%H%M')\n",
    "        # get the news sentiment for the past week\n",
    "        sentiment = get_sentiments(news_topic='financial_markets', time_from=time_from, time_to=time_to)\n",
    "        if not sentiment: break\n",
    "        # temporarily save the sentiments to a json file in a folder called sentiments\n",
    "        with open(os.path.join('sentiments', f'sentiments{time_from}.json'), 'w') as f:\n",
    "            json.dump(sentiment, f, indent=4)\n",
    "        # append the sentiment to the list\n",
    "        sentiment_list.append(sentiment)\n",
    "    if not sentiment: break\n",
    "    time.sleep(60)"
   ]
  },
  {
   "cell_type": "code",
   "execution_count": 98,
   "metadata": {},
   "outputs": [
    {
     "data": {
      "text/plain": [
       "200"
      ]
     },
     "execution_count": 98,
     "metadata": {},
     "output_type": "execute_result"
    }
   ],
   "source": []
  },
  {
   "cell_type": "code",
   "execution_count": null,
   "metadata": {},
   "outputs": [],
   "source": []
  }
 ],
 "metadata": {
  "kernelspec": {
   "display_name": "Python 3",
   "language": "python",
   "name": "python3"
  },
  "language_info": {
   "codemirror_mode": {
    "name": "ipython",
    "version": 3
   },
   "file_extension": ".py",
   "mimetype": "text/x-python",
   "name": "python",
   "nbconvert_exporter": "python",
   "pygments_lexer": "ipython3",
   "version": "3.8.10"
  },
  "orig_nbformat": 4,
  "vscode": {
   "interpreter": {
    "hash": "9e98acf34c3a3ed7ba9cef9bfd34c06994724c15667322623b0180eb3fbf1d17"
   }
  }
 },
 "nbformat": 4,
 "nbformat_minor": 2
}
