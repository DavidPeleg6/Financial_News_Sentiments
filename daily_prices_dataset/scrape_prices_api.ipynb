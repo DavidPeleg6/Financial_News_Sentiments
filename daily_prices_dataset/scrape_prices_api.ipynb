{
 "cells": [
  {
   "attachments": {},
   "cell_type": "markdown",
   "metadata": {},
   "source": [
    "# Scrape the Alpha Vantage api and collect daily prices in the backgroung\n",
    "\n",
    "## Get daily financial data of all companies, going a quarter back"
   ]
  },
  {
   "cell_type": "code",
   "execution_count": 2,
   "metadata": {},
   "outputs": [],
   "source": [
    "try:\n",
    "    import alpha_vantage\n",
    "except:\n",
    "    ! pip install alpha_vantage\n",
    "    import alpha_vantage\n",
    "\n",
    "import requests\n",
    "from pprint import pprint\n",
    "import csv\n",
    "import pandas as pd\n",
    "import matplotlib.pyplot as plt\n",
    "import seaborn as sns\n",
    "import numpy as np\n",
    "from datetime import datetime, timedelta\n",
    "import json\n",
    "import time\n",
    "from tqdm import tqdm\n",
    "import calendar\n",
    "import os\n",
    "import logging\n",
    "# set up logger\n",
    "logger = logging.getLogger(__name__)\n",
    "logger.setLevel(logging.INFO)\n",
    "# create a file handler\n",
    "handler = logging.FileHandler('price_scrape.log')\n",
    "handler.setLevel(logging.INFO)\n",
    "# create a logging format\n",
    "formatter = logging.Formatter('%(asctime)s - %(name)s - %(levelname)s - %(message)s')\n",
    "handler.setFormatter(formatter)\n",
    "# add the handlers to the logger\n",
    "logger.addHandler(handler)\n",
    "sns.set()\n",
    "pd.set_option('display.max_colwidth',1000)"
   ]
  },
  {
   "attachments": {},
   "cell_type": "markdown",
   "metadata": {},
   "source": [
    "Load all keys for the alpha vantage api and multiply it by 5 since each key is allowed up to 5 requests per minute"
   ]
  },
  {
   "cell_type": "code",
   "execution_count": 3,
   "metadata": {},
   "outputs": [],
   "source": [
    "with open('../keys.json') as f:\n",
    "    keys = json.load(f) * 5"
   ]
  },
  {
   "cell_type": "markdown",
   "metadata": {},
   "source": [
    "## download the dataset for all stocks\n",
    "\n",
    "Load the CSV of all tickers in the us stock market and use it to get the price of all stocks"
   ]
  },
  {
   "cell_type": "markdown",
   "metadata": {},
   "source": [
    "## <span style=\"color:red\">As a first step, take all the stock data. Later on for daily data you will take only stocks with highest exchange volume or most mentioned in the daily news</span>"
   ]
  },
  {
   "cell_type": "code",
   "execution_count": 4,
   "metadata": {},
   "outputs": [
    {
     "data": {
      "text/html": [
       "<div>\n",
       "<style scoped>\n",
       "    .dataframe tbody tr th:only-of-type {\n",
       "        vertical-align: middle;\n",
       "    }\n",
       "\n",
       "    .dataframe tbody tr th {\n",
       "        vertical-align: top;\n",
       "    }\n",
       "\n",
       "    .dataframe thead th {\n",
       "        text-align: right;\n",
       "    }\n",
       "</style>\n",
       "<table border=\"1\" class=\"dataframe\">\n",
       "  <thead>\n",
       "    <tr style=\"text-align: right;\">\n",
       "      <th></th>\n",
       "      <th>symbol</th>\n",
       "      <th>name</th>\n",
       "      <th>exchange</th>\n",
       "      <th>assetType</th>\n",
       "      <th>ipoDate</th>\n",
       "      <th>ipoYear</th>\n",
       "    </tr>\n",
       "  </thead>\n",
       "  <tbody>\n",
       "    <tr>\n",
       "      <th>0</th>\n",
       "      <td>BA</td>\n",
       "      <td>Boeing Company</td>\n",
       "      <td>NYSE</td>\n",
       "      <td>Stock</td>\n",
       "      <td>1962-01-02</td>\n",
       "      <td>1962</td>\n",
       "    </tr>\n",
       "    <tr>\n",
       "      <th>1</th>\n",
       "      <td>HWM</td>\n",
       "      <td>Howmet Aerospace Inc</td>\n",
       "      <td>NYSE</td>\n",
       "      <td>Stock</td>\n",
       "      <td>1962-01-02</td>\n",
       "      <td>1962</td>\n",
       "    </tr>\n",
       "    <tr>\n",
       "      <th>2</th>\n",
       "      <td>IBM</td>\n",
       "      <td>International Business Machines Corp</td>\n",
       "      <td>NYSE</td>\n",
       "      <td>Stock</td>\n",
       "      <td>1962-01-02</td>\n",
       "      <td>1962</td>\n",
       "    </tr>\n",
       "    <tr>\n",
       "      <th>3</th>\n",
       "      <td>KO</td>\n",
       "      <td>Coca-Cola Company</td>\n",
       "      <td>NYSE</td>\n",
       "      <td>Stock</td>\n",
       "      <td>1962-01-02</td>\n",
       "      <td>1962</td>\n",
       "    </tr>\n",
       "    <tr>\n",
       "      <th>4</th>\n",
       "      <td>CAT</td>\n",
       "      <td>Caterpillar Inc</td>\n",
       "      <td>NYSE</td>\n",
       "      <td>Stock</td>\n",
       "      <td>1962-01-02</td>\n",
       "      <td>1962</td>\n",
       "    </tr>\n",
       "  </tbody>\n",
       "</table>\n",
       "</div>"
      ],
      "text/plain": [
       "  symbol                                  name exchange assetType     ipoDate  \\\n",
       "0     BA                        Boeing Company     NYSE     Stock  1962-01-02   \n",
       "1    HWM                  Howmet Aerospace Inc     NYSE     Stock  1962-01-02   \n",
       "2    IBM  International Business Machines Corp     NYSE     Stock  1962-01-02   \n",
       "3     KO                     Coca-Cola Company     NYSE     Stock  1962-01-02   \n",
       "4    CAT                       Caterpillar Inc     NYSE     Stock  1962-01-02   \n",
       "\n",
       "   ipoYear  \n",
       "0     1962  \n",
       "1     1962  \n",
       "2     1962  \n",
       "3     1962  \n",
       "4     1962  "
      ]
     },
     "execution_count": 4,
     "metadata": {},
     "output_type": "execute_result"
    }
   ],
   "source": [
    "# load pd dataframe from csv\n",
    "tickers = pd.read_csv('../tickers.csv')\n",
    "tickers.head()"
   ]
  },
  {
   "cell_type": "code",
   "execution_count": null,
   "metadata": {},
   "outputs": [],
   "source": [
    "def get_stockprice(company_symbol: str = '', key: str = 'API_KEY'):\n",
    "    endpoint = \"https://www.alphavantage.co/query\"\n",
    "    parameters = {\n",
    "        \"function\": \"TIME_SERIES_DAILY_ADJUSTED\",\n",
    "        \"symbol\": company_symbol,\n",
    "        \"outputsize\": 'compact',\n",
    "        \"apikey\": key,\n",
    "    }\n",
    "    # Send a GET request to the API endpoint\n",
    "    response = requests.get(endpoint, params=parameters)\n",
    "    # Check if the request was successful\n",
    "    if response.status_code == 200:\n",
    "        data = response.json()\n",
    "        if 'Note' in data: \n",
    "            logger.warning(f'API key {key} has been used too many times. Please wait for 1 minute.')\n",
    "            data = None\n",
    "    else: \n",
    "        logger.error(f'API key {key} has returned an error. response note: {response.json()}')\n",
    "    return data\n",
    "\n",
    "# pprint(get_stockprice('MSFT'))"
   ]
  },
  {
   "cell_type": "markdown",
   "metadata": {},
   "source": [
    "Sweep over all stock tickers and pull daily data"
   ]
  },
  {
   "cell_type": "code",
   "execution_count": null,
   "metadata": {},
   "outputs": [],
   "source": [
    "# get stock price for all tickers\n",
    "def get_stockprice_all():\n",
    "    # get a list of all files in the directory without file extension\n",
    "    seen_stocks = set([f.split('.')[0] for f in os.listdir('prices') if os.path.isfile(os.path.join('prices', f))])\n",
    "    # only get stock price for stocks that are not in the directory\n",
    "    unseen_stocks = set(tickers['symbol'].unique()) - seen_stocks\n",
    "    # create an iterator for keys\n",
    "    key_iterator = iter(keys)\n",
    "    for ticker in tqdm(unseen_stocks):\n",
    "        # get a new key and reset the iterator if it reaches the end\n",
    "        try:\n",
    "            key = next(key_iterator)\n",
    "        except StopIteration:\n",
    "            time.sleep(60)\n",
    "            key_iterator = iter(keys)\n",
    "            key = next(key_iterator)\n",
    "        \n",
    "        data = get_stockprice(ticker, key)\n",
    "        if not data: \n",
    "            keys.remove(key)\n",
    "            # log the remaining keys\n",
    "            logger.info(f'keys remaining: {len(keys)}')\n",
    "            continue\n",
    "        with open(f'prices/{ticker}.json', 'w') as outfile:\n",
    "            json.dump(data, outfile, indent=4)\n",
    "\n",
    "# open a new directory to store the data\n",
    "os.makedirs('prices', exist_ok=True)\n",
    "get_stockprice_all()"
   ]
  },
  {
   "cell_type": "markdown",
   "metadata": {},
   "source": [
    "### <span style=\"color:red\">TODO later on, combine the price dataset with the sentiment dataset such that for each stock price you have the daily averaged sentiment as well</span>"
   ]
  },
  {
   "cell_type": "code",
   "execution_count": null,
   "metadata": {},
   "outputs": [],
   "source": []
  }
 ],
 "metadata": {
  "kernelspec": {
   "display_name": "pytorch",
   "language": "python",
   "name": "python3"
  },
  "language_info": {
   "codemirror_mode": {
    "name": "ipython",
    "version": 3
   },
   "file_extension": ".py",
   "mimetype": "text/x-python",
   "name": "python",
   "nbconvert_exporter": "python",
   "pygments_lexer": "ipython3",
   "version": "3.9.12"
  },
  "orig_nbformat": 4,
  "vscode": {
   "interpreter": {
    "hash": "322a509557a274cb16a0e1e68450414eb651dbdd02be71d467608ec080fac03e"
   }
  }
 },
 "nbformat": 4,
 "nbformat_minor": 2
}
