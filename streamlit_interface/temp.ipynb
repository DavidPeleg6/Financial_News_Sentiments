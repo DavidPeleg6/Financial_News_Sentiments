{
 "cells": [
  {
   "cell_type": "code",
   "execution_count": 3,
   "metadata": {},
   "outputs": [
    {
     "name": "stdout",
     "output_type": "stream",
     "text": [
      "Collecting streamlit\n",
      "  Downloading streamlit-1.19.0-py2.py3-none-any.whl (9.6 MB)\n",
      "     ---------------------------------------- 9.6/9.6 MB 238.1 kB/s eta 0:00:00\n",
      "Collecting tzlocal>=1.1\n",
      "  Downloading tzlocal-4.2-py3-none-any.whl (19 kB)\n",
      "Requirement already satisfied: pandas>=0.25 in d:\\conda\\envs\\pytorch\\lib\\site-packages (from streamlit) (1.4.2)\n",
      "Collecting cachetools>=4.0\n",
      "  Downloading cachetools-5.3.0-py3-none-any.whl (9.3 kB)\n",
      "Requirement already satisfied: toml in d:\\conda\\envs\\pytorch\\lib\\site-packages (from streamlit) (0.10.2)\n",
      "Collecting validators>=0.2\n",
      "  Downloading validators-0.20.0.tar.gz (30 kB)\n",
      "  Preparing metadata (setup.py): started\n",
      "  Preparing metadata (setup.py): finished with status 'done'\n",
      "Requirement already satisfied: packaging>=14.1 in d:\\conda\\envs\\pytorch\\lib\\site-packages (from streamlit) (22.0)\n",
      "Requirement already satisfied: typing-extensions>=3.10.0.0 in d:\\conda\\envs\\pytorch\\lib\\site-packages (from streamlit) (4.4.0)\n",
      "Collecting pympler>=0.9\n",
      "  Downloading Pympler-1.0.1-py3-none-any.whl (164 kB)\n",
      "     ------------------------------------ 164.8/164.8 kB 282.6 kB/s eta 0:00:00\n",
      "Requirement already satisfied: pillow>=6.2.0 in d:\\conda\\envs\\pytorch\\lib\\site-packages (from streamlit) (9.3.0)\n",
      "Collecting pydeck>=0.1.dev5\n",
      "  Downloading pydeck-0.8.0-py2.py3-none-any.whl (4.7 MB)\n",
      "     ---------------------------------------- 4.7/4.7 MB 199.0 kB/s eta 0:00:00\n",
      "Collecting rich>=10.11.0\n",
      "  Downloading rich-13.3.2-py3-none-any.whl (238 kB)\n",
      "     ------------------------------------ 238.7/238.7 kB 236.0 kB/s eta 0:00:00\n",
      "Requirement already satisfied: python-dateutil in d:\\conda\\envs\\pytorch\\lib\\site-packages (from streamlit) (2.8.2)\n",
      "Collecting altair>=3.2.0\n",
      "  Downloading altair-4.2.2-py3-none-any.whl (813 kB)\n",
      "     ------------------------------------ 813.6/813.6 kB 290.5 kB/s eta 0:00:00\n",
      "Requirement already satisfied: click>=7.0 in d:\\conda\\envs\\pytorch\\lib\\site-packages (from streamlit) (8.0.4)\n",
      "Collecting pyarrow>=4.0\n",
      "  Downloading pyarrow-11.0.0-cp39-cp39-win_amd64.whl (20.6 MB)\n",
      "     -------------------------------------- 20.6/20.6 MB 224.4 kB/s eta 0:00:00\n",
      "Requirement already satisfied: protobuf<4,>=3.12 in d:\\conda\\envs\\pytorch\\lib\\site-packages (from streamlit) (3.20.1)\n",
      "Collecting gitpython!=3.1.19\n",
      "  Using cached GitPython-3.1.31-py3-none-any.whl (184 kB)\n",
      "Requirement already satisfied: tornado>=6.0.3 in d:\\conda\\envs\\pytorch\\lib\\site-packages (from streamlit) (6.2)\n",
      "Collecting blinker>=1.0.0\n",
      "  Using cached blinker-1.5-py2.py3-none-any.whl (12 kB)\n",
      "Requirement already satisfied: numpy in d:\\conda\\envs\\pytorch\\lib\\site-packages (from streamlit) (1.22.3)\n",
      "Collecting semver\n",
      "  Using cached semver-2.13.0-py2.py3-none-any.whl (12 kB)\n",
      "Requirement already satisfied: importlib-metadata>=1.4 in d:\\conda\\envs\\pytorch\\lib\\site-packages (from streamlit) (3.10.1)\n",
      "Requirement already satisfied: requests>=2.4 in d:\\conda\\envs\\pytorch\\lib\\site-packages (from streamlit) (2.28.1)\n",
      "Requirement already satisfied: watchdog in d:\\conda\\envs\\pytorch\\lib\\site-packages (from streamlit) (2.1.6)\n",
      "Requirement already satisfied: jsonschema>=3.0 in d:\\conda\\envs\\pytorch\\lib\\site-packages (from altair>=3.2.0->streamlit) (4.16.0)\n",
      "Collecting toolz\n",
      "  Using cached toolz-0.12.0-py3-none-any.whl (55 kB)\n",
      "Requirement already satisfied: entrypoints in d:\\conda\\envs\\pytorch\\lib\\site-packages (from altair>=3.2.0->streamlit) (0.4)\n",
      "Requirement already satisfied: jinja2 in d:\\conda\\envs\\pytorch\\lib\\site-packages (from altair>=3.2.0->streamlit) (3.1.2)\n",
      "Requirement already satisfied: colorama in d:\\conda\\envs\\pytorch\\lib\\site-packages (from click>=7.0->streamlit) (0.4.6)\n",
      "Collecting gitdb<5,>=4.0.1\n",
      "  Using cached gitdb-4.0.10-py3-none-any.whl (62 kB)\n",
      "Requirement already satisfied: zipp>=0.5 in d:\\conda\\envs\\pytorch\\lib\\site-packages (from importlib-metadata>=1.4->streamlit) (3.11.0)\n",
      "Requirement already satisfied: pytz>=2020.1 in d:\\conda\\envs\\pytorch\\lib\\site-packages (from pandas>=0.25->streamlit) (2022.7)\n",
      "Requirement already satisfied: six>=1.5 in d:\\conda\\envs\\pytorch\\lib\\site-packages (from python-dateutil->streamlit) (1.16.0)\n",
      "Requirement already satisfied: charset-normalizer<3,>=2 in d:\\conda\\envs\\pytorch\\lib\\site-packages (from requests>=2.4->streamlit) (2.0.4)\n",
      "Requirement already satisfied: urllib3<1.27,>=1.21.1 in d:\\conda\\envs\\pytorch\\lib\\site-packages (from requests>=2.4->streamlit) (1.26.13)\n",
      "Requirement already satisfied: idna<4,>=2.5 in d:\\conda\\envs\\pytorch\\lib\\site-packages (from requests>=2.4->streamlit) (3.4)\n",
      "Requirement already satisfied: certifi>=2017.4.17 in d:\\conda\\envs\\pytorch\\lib\\site-packages (from requests>=2.4->streamlit) (2022.12.7)\n",
      "Collecting pygments<3.0.0,>=2.13.0\n",
      "  Using cached Pygments-2.14.0-py3-none-any.whl (1.1 MB)\n",
      "Collecting markdown-it-py<3.0.0,>=2.2.0\n",
      "  Using cached markdown_it_py-2.2.0-py3-none-any.whl (84 kB)\n",
      "Collecting tzdata\n",
      "  Using cached tzdata-2022.7-py2.py3-none-any.whl (340 kB)\n",
      "Collecting pytz-deprecation-shim\n",
      "  Using cached pytz_deprecation_shim-0.1.0.post0-py2.py3-none-any.whl (15 kB)\n",
      "Requirement already satisfied: decorator>=3.4.0 in d:\\conda\\envs\\pytorch\\lib\\site-packages (from validators>=0.2->streamlit) (5.1.1)\n",
      "Collecting smmap<6,>=3.0.1\n",
      "  Using cached smmap-5.0.0-py3-none-any.whl (24 kB)\n",
      "Requirement already satisfied: MarkupSafe>=2.0 in d:\\conda\\envs\\pytorch\\lib\\site-packages (from jinja2->altair>=3.2.0->streamlit) (2.1.1)\n",
      "Requirement already satisfied: attrs>=17.4.0 in d:\\conda\\envs\\pytorch\\lib\\site-packages (from jsonschema>=3.0->altair>=3.2.0->streamlit) (22.1.0)\n",
      "Requirement already satisfied: pyrsistent!=0.17.0,!=0.17.1,!=0.17.2,>=0.14.0 in d:\\conda\\envs\\pytorch\\lib\\site-packages (from jsonschema>=3.0->altair>=3.2.0->streamlit) (0.18.0)\n",
      "Collecting mdurl~=0.1\n",
      "  Using cached mdurl-0.1.2-py3-none-any.whl (10.0 kB)\n",
      "Building wheels for collected packages: validators\n",
      "  Building wheel for validators (setup.py): started\n",
      "  Building wheel for validators (setup.py): finished with status 'done'\n",
      "  Created wheel for validators: filename=validators-0.20.0-py3-none-any.whl size=19579 sha256=285e0e4b6dc3f848985246fd25d9def2f58123cb103728d1744ebb21472b3bd6\n",
      "  Stored in directory: c:\\users\\david\\appdata\\local\\pip\\cache\\wheels\\5c\\6a\\fd\\17a2b6f8d376e336d46414eeaf656327fd973158159b059046\n",
      "Successfully built validators\n",
      "Installing collected packages: validators, tzdata, toolz, smmap, semver, pympler, pygments, pyarrow, mdurl, cachetools, blinker, pytz-deprecation-shim, pydeck, markdown-it-py, gitdb, tzlocal, rich, gitpython, altair, streamlit\n",
      "  Attempting uninstall: pygments\n",
      "    Found existing installation: pygments 2.11.2\n",
      "    Can't uninstall 'pygments'. No files were found to uninstall.\n",
      "Successfully installed altair-4.2.2 blinker-1.5 cachetools-5.3.0 gitdb-4.0.10 gitpython-3.1.31 markdown-it-py-2.2.0 mdurl-0.1.2 pyarrow-11.0.0 pydeck-0.8.0 pygments-2.14.0 pympler-1.0.1 pytz-deprecation-shim-0.1.0.post0 rich-13.3.2 semver-2.13.0 smmap-5.0.0 streamlit-1.19.0 toolz-0.12.0 tzdata-2022.7 tzlocal-4.2 validators-0.20.0\n"
     ]
    },
    {
     "name": "stderr",
     "output_type": "stream",
     "text": [
      "WARNING: Error parsing requirements for pygments: [Errno 2] No such file or directory: 'd:\\\\conda\\\\envs\\\\pytorch\\\\lib\\\\site-packages\\\\Pygments-2.11.2.dist-info\\\\METADATA'\n",
      "    WARNING: No metadata found in d:\\conda\\envs\\pytorch\\lib\\site-packages\n",
      "ERROR: pip's dependency resolver does not currently take into account all the packages that are installed. This behaviour is the source of the following dependency conflicts.\n",
      "spyder 5.1.5 requires pyqt5<5.13, which is not installed.\n",
      "spyder 5.1.5 requires pyqtwebengine<5.13, which is not installed.\n",
      "sphinx 5.0.2 requires importlib-metadata>=4.4; python_version < \"3.10\", but you have importlib-metadata 3.10.1 which is incompatible.\n"
     ]
    },
    {
     "name": "stdout",
     "output_type": "stream",
     "text": [
      "^C\n"
     ]
    }
   ],
   "source": [
    "! conda install -c conda-forge streamlit"
   ]
  },
  {
   "cell_type": "code",
   "execution_count": null,
   "metadata": {},
   "outputs": [],
   "source": [
    "import pandas as pd\n",
    "import boto3\n",
    "\n",
    "def get_stock_data(ticker : str) -> pd.DataFrame:\n",
    "    \"\"\"\n",
    "    gets as input a string detailing the ticker of the stock you want data for\n",
    "    returns a pandas dataframe built from the boto3 call to the database\n",
    "    \"\"\"\n",
    "    # print(sentiment_list)\n",
    "    dynamodb = boto3.resource('dynamodb')\n",
    "    table = dynamodb.Table('StockSentiment')\n",
    "    "
   ]
  }
 ],
 "metadata": {
  "kernelspec": {
   "display_name": "pytorch",
   "language": "python",
   "name": "python3"
  },
  "language_info": {
   "codemirror_mode": {
    "name": "ipython",
    "version": 3
   },
   "file_extension": ".py",
   "mimetype": "text/x-python",
   "name": "python",
   "nbconvert_exporter": "python",
   "pygments_lexer": "ipython3",
   "version": "3.9.12"
  },
  "orig_nbformat": 4
 },
 "nbformat": 4,
 "nbformat_minor": 2
}
