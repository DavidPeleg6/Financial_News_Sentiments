{
 "cells": [
  {
   "attachments": {},
   "cell_type": "markdown",
   "metadata": {},
   "source": [
    "# imports"
   ]
  },
  {
   "cell_type": "code",
   "execution_count": 4,
   "metadata": {},
   "outputs": [
    {
     "name": "stdout",
     "output_type": "stream",
     "text": [
      "Requirement already satisfied: newsapi-python in /data/home/pelegdav/env/autoML/lib/python3.9/site-packages (0.2.6)\n",
      "Requirement already satisfied: requests<3.0.0 in /data/home/pelegdav/env/autoML/lib/python3.9/site-packages (from newsapi-python) (2.28.1)\n",
      "Requirement already satisfied: certifi>=2017.4.17 in /data/home/pelegdav/env/autoML/lib/python3.9/site-packages (from requests<3.0.0->newsapi-python) (2022.12.7)\n",
      "Requirement already satisfied: urllib3<1.27,>=1.21.1 in /data/home/pelegdav/env/autoML/lib/python3.9/site-packages (from requests<3.0.0->newsapi-python) (1.26.12)\n",
      "Requirement already satisfied: charset-normalizer<3,>=2 in /data/home/pelegdav/env/autoML/lib/python3.9/site-packages (from requests<3.0.0->newsapi-python) (2.0.4)\n",
      "Requirement already satisfied: idna<4,>=2.5 in /data/home/pelegdav/env/autoML/lib/python3.9/site-packages (from requests<3.0.0->newsapi-python) (3.4)\n"
     ]
    }
   ],
   "source": [
    "!pip install newsapi-python"
   ]
  },
  {
   "cell_type": "code",
   "execution_count": 5,
   "metadata": {},
   "outputs": [
    {
     "name": "stdout",
     "output_type": "stream",
     "text": [
      "Requirement already satisfied: yfinance in /data/home/pelegdav/env/autoML/lib/python3.9/site-packages (0.2.4)\n",
      "Requirement already satisfied: beautifulsoup4>=4.11.1 in /data/home/pelegdav/env/autoML/lib/python3.9/site-packages (from yfinance) (4.11.1)\n",
      "Requirement already satisfied: numpy>=1.16.5 in /data/home/pelegdav/env/autoML/lib/python3.9/site-packages (from yfinance) (1.23.3)\n",
      "Requirement already satisfied: html5lib>=1.1 in /data/home/pelegdav/env/autoML/lib/python3.9/site-packages (from yfinance) (1.1)\n",
      "Requirement already satisfied: cryptography>=3.3.2 in /data/home/pelegdav/env/autoML/lib/python3.9/site-packages (from yfinance) (38.0.1)\n",
      "Requirement already satisfied: multitasking>=0.0.7 in /data/home/pelegdav/env/autoML/lib/python3.9/site-packages (from yfinance) (0.0.11)\n",
      "Requirement already satisfied: frozendict>=2.3.4 in /data/home/pelegdav/env/autoML/lib/python3.9/site-packages (from yfinance) (2.3.4)\n",
      "Requirement already satisfied: requests>=2.26 in /data/home/pelegdav/env/autoML/lib/python3.9/site-packages (from yfinance) (2.28.1)\n",
      "Requirement already satisfied: pytz>=2022.5 in /data/home/pelegdav/env/autoML/lib/python3.9/site-packages (from yfinance) (2022.7.1)\n",
      "Requirement already satisfied: lxml>=4.9.1 in /data/home/pelegdav/env/autoML/lib/python3.9/site-packages (from yfinance) (4.9.2)\n",
      "Requirement already satisfied: appdirs>=1.4.4 in /data/home/pelegdav/env/autoML/lib/python3.9/site-packages (from yfinance) (1.4.4)\n",
      "Requirement already satisfied: pandas>=1.3.0 in /data/home/pelegdav/env/autoML/lib/python3.9/site-packages (from yfinance) (1.5.0)\n",
      "Requirement already satisfied: soupsieve>1.2 in /data/home/pelegdav/env/autoML/lib/python3.9/site-packages (from beautifulsoup4>=4.11.1->yfinance) (2.3.2.post1)\n",
      "Requirement already satisfied: cffi>=1.12 in /data/home/pelegdav/env/autoML/lib/python3.9/site-packages (from cryptography>=3.3.2->yfinance) (1.15.1)\n",
      "Requirement already satisfied: webencodings in /data/home/pelegdav/env/autoML/lib/python3.9/site-packages (from html5lib>=1.1->yfinance) (0.5.1)\n",
      "Requirement already satisfied: six>=1.9 in /data/home/pelegdav/env/autoML/lib/python3.9/site-packages (from html5lib>=1.1->yfinance) (1.16.0)\n",
      "Requirement already satisfied: python-dateutil>=2.8.1 in /data/home/pelegdav/env/autoML/lib/python3.9/site-packages (from pandas>=1.3.0->yfinance) (2.8.2)\n",
      "Requirement already satisfied: urllib3<1.27,>=1.21.1 in /data/home/pelegdav/env/autoML/lib/python3.9/site-packages (from requests>=2.26->yfinance) (1.26.12)\n",
      "Requirement already satisfied: certifi>=2017.4.17 in /data/home/pelegdav/env/autoML/lib/python3.9/site-packages (from requests>=2.26->yfinance) (2022.12.7)\n",
      "Requirement already satisfied: idna<4,>=2.5 in /data/home/pelegdav/env/autoML/lib/python3.9/site-packages (from requests>=2.26->yfinance) (3.4)\n",
      "Requirement already satisfied: charset-normalizer<3,>=2 in /data/home/pelegdav/env/autoML/lib/python3.9/site-packages (from requests>=2.26->yfinance) (2.0.4)\n",
      "Requirement already satisfied: pycparser in /data/home/pelegdav/env/autoML/lib/python3.9/site-packages (from cffi>=1.12->cryptography>=3.3.2->yfinance) (2.21)\n"
     ]
    }
   ],
   "source": [
    "!pip install yfinance"
   ]
  },
  {
   "cell_type": "code",
   "execution_count": 6,
   "metadata": {},
   "outputs": [
    {
     "name": "stdout",
     "output_type": "stream",
     "text": [
      "Requirement already satisfied: nltk in /data/home/pelegdav/env/autoML/lib/python3.9/site-packages (3.8.1)\n",
      "Requirement already satisfied: joblib in /data/home/pelegdav/env/autoML/lib/python3.9/site-packages (from nltk) (1.2.0)\n",
      "Requirement already satisfied: regex>=2021.8.3 in /data/home/pelegdav/env/autoML/lib/python3.9/site-packages (from nltk) (2022.10.31)\n",
      "Requirement already satisfied: tqdm in /data/home/pelegdav/env/autoML/lib/python3.9/site-packages (from nltk) (4.64.1)\n",
      "Requirement already satisfied: click in /data/home/pelegdav/env/autoML/lib/python3.9/site-packages (from nltk) (8.0.4)\n"
     ]
    }
   ],
   "source": [
    "! pip install nltk"
   ]
  },
  {
   "cell_type": "code",
   "execution_count": 7,
   "metadata": {},
   "outputs": [
    {
     "name": "stderr",
     "output_type": "stream",
     "text": [
      "[nltk_data] Downloading package vader_lexicon to\n",
      "[nltk_data]     /data/home/pelegdav/nltk_data...\n",
      "[nltk_data]   Package vader_lexicon is already up-to-date!\n"
     ]
    }
   ],
   "source": [
    "import nltk\n",
    "### Uncomment it when the script runs for the first time \n",
    "nltk.download('vader_lexicon')\n",
    "\n",
    "import matplotlib.pyplot as plt \n",
    "import numpy as np\n",
    "import pandas as pd"
   ]
  },
  {
   "attachments": {},
   "cell_type": "markdown",
   "metadata": {},
   "source": [
    "# Obtain access key to newAPI\n",
    "* get a free key on the website https://newsapi.org\n",
    "* NEWS_API_KEY = personal api key"
   ]
  },
  {
   "cell_type": "code",
   "execution_count": 13,
   "metadata": {},
   "outputs": [],
   "source": [
    "from newsapi import NewsApiClient\n",
    "import newsapi\n",
    "#from newsapi.newsapi_client import NewsApiClient\n",
    "from datetime import date, timedelta, datetime\n",
    "\n",
    "from nltk.sentiment.vader import SentimentIntensityAnalyzer\n",
    "sia = SentimentIntensityAnalyzer()"
   ]
  },
  {
   "cell_type": "code",
   "execution_count": 9,
   "metadata": {},
   "outputs": [],
   "source": [
    "# Show full output in Colab\n",
    "# https://stackoverflow.com/questions/54692405/output-truncation-in-google-colab\n",
    "pd.set_option('display.max_colwidth',1000)"
   ]
  },
  {
   "cell_type": "code",
   "execution_count": 10,
   "metadata": {},
   "outputs": [],
   "source": [
    "# Init news api\n",
    "NEWS_API_KEY = '2adc9646b17746ffbd42e9526c1443e1'\n",
    "\n",
    "# '1900869fa01647fca0bdc19b4550daa0'"
   ]
  },
  {
   "attachments": {},
   "cell_type": "markdown",
   "metadata": {},
   "source": [
    "### See all sources available"
   ]
  },
  {
   "cell_type": "code",
   "execution_count": 15,
   "metadata": {},
   "outputs": [
    {
     "name": "stdout",
     "output_type": "stream",
     "text": [
      "categories: {'technology', 'business', 'general', 'entertainment', 'science', 'sports', 'health'}\n"
     ]
    }
   ],
   "source": [
    "news_client = NewsApiClient(api_key= NEWS_API_KEY)\n",
    "# the list of available categories to choose from\n",
    "print('categories:', newsapi.const.categories)\n",
    "\n",
    "sources = news_client.get_sources(category='business', language='en')"
   ]
  },
  {
   "cell_type": "code",
   "execution_count": 18,
   "metadata": {},
   "outputs": [
    {
     "name": "stdout",
     "output_type": "stream",
     "text": [
      "['australian-financial-review', 'bloomberg', 'business-insider', 'business-insider-uk', 'financial-post', 'fortune', 'the-wall-street-journal']\n"
     ]
    }
   ],
   "source": [
    "source_names = [source['id'] for source in sources['sources']]\n",
    "print(source_names)"
   ]
  },
  {
   "attachments": {},
   "cell_type": "markdown",
   "metadata": {},
   "source": [
    "# News API example"
   ]
  },
  {
   "cell_type": "code",
   "execution_count": 48,
   "metadata": {},
   "outputs": [
    {
     "ename": "TypeError",
     "evalue": "'module' object is not callable",
     "output_type": "error",
     "traceback": [
      "\u001b[0;31m---------------------------------------------------------------------------\u001b[0m",
      "\u001b[0;31mTypeError\u001b[0m                                 Traceback (most recent call last)",
      "\u001b[1;32m/data/home/pelegdav/prev_projects/stock_analysis/basic_sentiment.ipynb Cell 14\u001b[0m in \u001b[0;36m<cell line: 5>\u001b[0;34m()\u001b[0m\n\u001b[1;32m      <a href='vscode-notebook-cell://ssh-remote%2Bnewai-gpu04.iil.intel.com/data/home/pelegdav/prev_projects/stock_analysis/basic_sentiment.ipynb#X12sdnNjb2RlLXJlbW90ZQ%3D%3D?line=2'>3</a>\u001b[0m tot_articles \u001b[39m=\u001b[39m []\n\u001b[1;32m      <a href='vscode-notebook-cell://ssh-remote%2Bnewai-gpu04.iil.intel.com/data/home/pelegdav/prev_projects/stock_analysis/basic_sentiment.ipynb#X12sdnNjb2RlLXJlbW90ZQ%3D%3D?line=3'>4</a>\u001b[0m \u001b[39m# datetime.strptime('10-Apr-2021','%d-%b-%Y')\u001b[39;00m\n\u001b[0;32m----> <a href='vscode-notebook-cell://ssh-remote%2Bnewai-gpu04.iil.intel.com/data/home/pelegdav/prev_projects/stock_analysis/basic_sentiment.ipynb#X12sdnNjb2RlLXJlbW90ZQ%3D%3D?line=4'>5</a>\u001b[0m \u001b[39mfor\u001b[39;00m i \u001b[39min\u001b[39;00m tqdm(\u001b[39mrange\u001b[39;49m(\u001b[39m1\u001b[39;49m, \u001b[39m35\u001b[39;49m)):\n\u001b[1;32m      <a href='vscode-notebook-cell://ssh-remote%2Bnewai-gpu04.iil.intel.com/data/home/pelegdav/prev_projects/stock_analysis/basic_sentiment.ipynb#X12sdnNjb2RlLXJlbW90ZQ%3D%3D?line=5'>6</a>\u001b[0m     start_date \u001b[39m=\u001b[39m date\u001b[39m.\u001b[39mtoday() \u001b[39m-\u001b[39m timedelta(days\u001b[39m=\u001b[39mi)\n\u001b[1;32m      <a href='vscode-notebook-cell://ssh-remote%2Bnewai-gpu04.iil.intel.com/data/home/pelegdav/prev_projects/stock_analysis/basic_sentiment.ipynb#X12sdnNjb2RlLXJlbW90ZQ%3D%3D?line=6'>7</a>\u001b[0m     end_date \u001b[39m=\u001b[39m date\u001b[39m.\u001b[39mtoday() \u001b[39m-\u001b[39m timedelta(days\u001b[39m=\u001b[39mi\u001b[39m+\u001b[39m\u001b[39m1\u001b[39m)\n",
      "\u001b[0;31mTypeError\u001b[0m: 'module' object is not callable"
     ]
    }
   ],
   "source": [
    "from tqdm import tqdm\n",
    "#https://newsapi.org/docs/endpoints/everything\n",
    "tot_articles = []\n",
    "# datetime.strptime('10-Apr-2021','%d-%b-%Y')\n",
    "for i in tqdm(range(1, 35)):\n",
    "    start_date = date.today() - timedelta(days=i)\n",
    "    end_date = date.today() - timedelta(days=i+1)\n",
    "    articles = news_client.get_everything(from_param=start_date.isoformat(), to=end_date.isoformat(), language=\"en\", sources=\",\".join(source_names), sort_by=\"relevancy\")\n",
    "    tot_articles.extend(articles['articles'])"
   ]
  },
  {
   "cell_type": "code",
   "execution_count": 40,
   "metadata": {},
   "outputs": [
    {
     "data": {
      "text/plain": [
       "2900"
      ]
     },
     "execution_count": 40,
     "metadata": {},
     "output_type": "execute_result"
    }
   ],
   "source": [
    "len(tot_articles)"
   ]
  },
  {
   "cell_type": "code",
   "execution_count": 41,
   "metadata": {},
   "outputs": [],
   "source": [
    "articles_df = pd.DataFrame(tot_articles)"
   ]
  },
  {
   "cell_type": "code",
   "execution_count": 42,
   "metadata": {},
   "outputs": [],
   "source": [
    "# apply a map function to the source column to get the source name\n",
    "articles_df['source'] = articles_df['source'].map(lambda x: x['id'])"
   ]
  },
  {
   "cell_type": "code",
   "execution_count": 46,
   "metadata": {},
   "outputs": [
    {
     "name": "stdout",
     "output_type": "stream",
     "text": [
      "(2900, 8)\n",
      "['business-insider' 'the-wall-street-journal' 'bloomberg'\n",
      " 'australian-financial-review' 'fortune']\n"
     ]
    },
    {
     "data": {
      "text/html": [
       "<div>\n",
       "<style scoped>\n",
       "    .dataframe tbody tr th:only-of-type {\n",
       "        vertical-align: middle;\n",
       "    }\n",
       "\n",
       "    .dataframe tbody tr th {\n",
       "        vertical-align: top;\n",
       "    }\n",
       "\n",
       "    .dataframe thead th {\n",
       "        text-align: right;\n",
       "    }\n",
       "</style>\n",
       "<table border=\"1\" class=\"dataframe\">\n",
       "  <thead>\n",
       "    <tr style=\"text-align: right;\">\n",
       "      <th></th>\n",
       "      <th>source</th>\n",
       "      <th>author</th>\n",
       "      <th>title</th>\n",
       "      <th>description</th>\n",
       "      <th>url</th>\n",
       "      <th>urlToImage</th>\n",
       "      <th>publishedAt</th>\n",
       "      <th>content</th>\n",
       "    </tr>\n",
       "  </thead>\n",
       "  <tbody>\n",
       "    <tr>\n",
       "      <th>0</th>\n",
       "      <td>business-insider</td>\n",
       "      <td>kwebb@businessinsider.com (Kevin Webb)</td>\n",
       "      <td>The NFL Playoffs begin January 14 — here's how to livestream every Wild Card game</td>\n",
       "      <td>The Wild Card round of the NFL playoffs features six games spread throughout the holiday weekend on CBS, Fox, NBC, ABC, and ESPN.</td>\n",
       "      <td>https://www.businessinsider.com/guides/streaming/how-to-watch-nfl-playoffs-2023-1</td>\n",
       "      <td>https://i.insider.com/63979780a3bebb0018b42219?width=1200&amp;format=jpeg</td>\n",
       "      <td>2023-01-13T22:00:00Z</td>\n",
       "      <td>When you buy through our links, Insider may earn an affiliate commission. Learn more.\\r\\nThe NFL Playoffs begin January 14 with six games set to run across Saturday, Sunday, and Monday in the Wild Card… [+2753 chars]</td>\n",
       "    </tr>\n",
       "    <tr>\n",
       "      <th>1</th>\n",
       "      <td>business-insider</td>\n",
       "      <td>litaliano@insider.com (Laura Italiano,Ashley Collman)</td>\n",
       "      <td>Trump said he 'can't think of any complaints' when asked if he ever forcibly kissed a woman; 26 have accused him of sexual assault</td>\n",
       "      <td>In a newly-released deposition in the E. Jean Carroll defamation case, Trump makes no mention of the 26 women who say he sexually attacked them.</td>\n",
       "      <td>https://www.businessinsider.com/trump-cant-think-of-any-complaints-that-he-forcibly-kissed-woman-2023-1</td>\n",
       "      <td>https://i.insider.com/63c1e2b1cddf2c00196e3275?width=1200&amp;format=jpeg</td>\n",
       "      <td>2023-01-14T01:27:38Z</td>\n",
       "      <td>Donald Trump was asked by a lawyer for rape accuser E. Jean Carroll if he'd ever forcibly kissed a woman, according to newly unsealed court documents.\\r\\nThe former president said he was unaware of any… [+2118 chars]</td>\n",
       "    </tr>\n",
       "    <tr>\n",
       "      <th>2</th>\n",
       "      <td>business-insider</td>\n",
       "      <td>insider@insider.com (Jake Swearingen)</td>\n",
       "      <td>The contender for tech's next big boom or bubble is here</td>\n",
       "      <td>It's always fun to predict a bubble because if you're right you look smart and if you're wrong nobody remembers.</td>\n",
       "      <td>https://www.businessinsider.com/the-candidate-for-techs-next-big-boom-or-bubble-is-here-2023-1</td>\n",
       "      <td>https://www.businessinsider.com/public/assets/BI/US/og-image-logo-social.png</td>\n",
       "      <td>2023-01-13T11:40:00Z</td>\n",
       "      <td>Hiya, I'm Jake Swearingen, a deputy editor on Insider's tech analysis desk, stepping in for Diamond Naga Siu.\\r\\nBubbles! It's always fun to predict them, because if you're right you look smart and if … [+5175 chars]</td>\n",
       "    </tr>\n",
       "    <tr>\n",
       "      <th>3</th>\n",
       "      <td>business-insider</td>\n",
       "      <td>htan@insider.com (Huileng Tan)</td>\n",
       "      <td>Tesla has slashed the prices of its Model 3 sedan and Model Y SUV between 6% and 20% in the US, as it reverses strategy after demand tapers</td>\n",
       "      <td>Tesla had hiked prices several times in 2022 amid supply chain disruptions, even though there were concerns about a broader economic slowdown.</td>\n",
       "      <td>https://www.businessinsider.com/elon-musk-tesla-cuts-us-electric-vehicle-prices-slowing-demand-2023-1</td>\n",
       "      <td>https://i.insider.com/63c0f9ce33ffb700180f90a7?width=1200&amp;format=jpeg</td>\n",
       "      <td>2023-01-13T09:35:40Z</td>\n",
       "      <td>Tesla buyers in the US and part of Europe can now rejoice the electric vehicle, or EV, is now cheaper by up to one-fifth of its cost. \\r\\nThe price cut mirrors those in other markets, after the EV make… [+2115 chars]</td>\n",
       "    </tr>\n",
       "    <tr>\n",
       "      <th>4</th>\n",
       "      <td>business-insider</td>\n",
       "      <td>bnolan@insider.com (Beatrice Nolan)</td>\n",
       "      <td>Art collector says a Van Gogh painting that he owns went missing for nearly six years and resurfaced in a Detroit gallery</td>\n",
       "      <td>The collector said in a lawsuit that he transferred possession of the painting to a third party, who then absconded with it.</td>\n",
       "      <td>https://www.businessinsider.com/van-gogh-painting-detroit-institute-of-art-2023-1</td>\n",
       "      <td>https://i.insider.com/63c140d333ffb700180f93ea?width=1200&amp;format=jpeg</td>\n",
       "      <td>2023-01-13T13:12:47Z</td>\n",
       "      <td>A Brazilian art collector has issued a lawsuit to try and obtain a Vincent Van Gogh painting that is hanging in the Detroit Institute of Art (DIA).\\r\\nThe collector, Gustavo Soter, bought the painting … [+1057 chars]</td>\n",
       "    </tr>\n",
       "  </tbody>\n",
       "</table>\n",
       "</div>"
      ],
      "text/plain": [
       "             source                                                 author  \\\n",
       "0  business-insider                 kwebb@businessinsider.com (Kevin Webb)   \n",
       "1  business-insider  litaliano@insider.com (Laura Italiano,Ashley Collman)   \n",
       "2  business-insider                  insider@insider.com (Jake Swearingen)   \n",
       "3  business-insider                         htan@insider.com (Huileng Tan)   \n",
       "4  business-insider                    bnolan@insider.com (Beatrice Nolan)   \n",
       "\n",
       "                                                                                                                                         title  \\\n",
       "0                                                            The NFL Playoffs begin January 14 — here's how to livestream every Wild Card game   \n",
       "1           Trump said he 'can't think of any complaints' when asked if he ever forcibly kissed a woman; 26 have accused him of sexual assault   \n",
       "2                                                                                     The contender for tech's next big boom or bubble is here   \n",
       "3  Tesla has slashed the prices of its Model 3 sedan and Model Y SUV between 6% and 20% in the US, as it reverses strategy after demand tapers   \n",
       "4                    Art collector says a Van Gogh painting that he owns went missing for nearly six years and resurfaced in a Detroit gallery   \n",
       "\n",
       "                                                                                                                                        description  \\\n",
       "0                 The Wild Card round of the NFL playoffs features six games spread throughout the holiday weekend on CBS, Fox, NBC, ABC, and ESPN.   \n",
       "1  In a newly-released deposition in the E. Jean Carroll defamation case, Trump makes no mention of the 26 women who say he sexually attacked them.   \n",
       "2                                  It's always fun to predict a bubble because if you're right you look smart and if you're wrong nobody remembers.   \n",
       "3    Tesla had hiked prices several times in 2022 amid supply chain disruptions, even though there were concerns about a broader economic slowdown.   \n",
       "4                      The collector said in a lawsuit that he transferred possession of the painting to a third party, who then absconded with it.   \n",
       "\n",
       "                                                                                                       url  \\\n",
       "0                        https://www.businessinsider.com/guides/streaming/how-to-watch-nfl-playoffs-2023-1   \n",
       "1  https://www.businessinsider.com/trump-cant-think-of-any-complaints-that-he-forcibly-kissed-woman-2023-1   \n",
       "2           https://www.businessinsider.com/the-candidate-for-techs-next-big-boom-or-bubble-is-here-2023-1   \n",
       "3    https://www.businessinsider.com/elon-musk-tesla-cuts-us-electric-vehicle-prices-slowing-demand-2023-1   \n",
       "4                        https://www.businessinsider.com/van-gogh-painting-detroit-institute-of-art-2023-1   \n",
       "\n",
       "                                                                     urlToImage  \\\n",
       "0         https://i.insider.com/63979780a3bebb0018b42219?width=1200&format=jpeg   \n",
       "1         https://i.insider.com/63c1e2b1cddf2c00196e3275?width=1200&format=jpeg   \n",
       "2  https://www.businessinsider.com/public/assets/BI/US/og-image-logo-social.png   \n",
       "3         https://i.insider.com/63c0f9ce33ffb700180f90a7?width=1200&format=jpeg   \n",
       "4         https://i.insider.com/63c140d333ffb700180f93ea?width=1200&format=jpeg   \n",
       "\n",
       "            publishedAt  \\\n",
       "0  2023-01-13T22:00:00Z   \n",
       "1  2023-01-14T01:27:38Z   \n",
       "2  2023-01-13T11:40:00Z   \n",
       "3  2023-01-13T09:35:40Z   \n",
       "4  2023-01-13T13:12:47Z   \n",
       "\n",
       "                                                                                                                                                                                                                    content  \n",
       "0  When you buy through our links, Insider may earn an affiliate commission. Learn more.\\r\\nThe NFL Playoffs begin January 14 with six games set to run across Saturday, Sunday, and Monday in the Wild Card… [+2753 chars]  \n",
       "1  Donald Trump was asked by a lawyer for rape accuser E. Jean Carroll if he'd ever forcibly kissed a woman, according to newly unsealed court documents.\\r\\nThe former president said he was unaware of any… [+2118 chars]  \n",
       "2  Hiya, I'm Jake Swearingen, a deputy editor on Insider's tech analysis desk, stepping in for Diamond Naga Siu.\\r\\nBubbles! It's always fun to predict them, because if you're right you look smart and if … [+5175 chars]  \n",
       "3  Tesla buyers in the US and part of Europe can now rejoice the electric vehicle, or EV, is now cheaper by up to one-fifth of its cost. \\r\\nThe price cut mirrors those in other markets, after the EV make… [+2115 chars]  \n",
       "4  A Brazilian art collector has issued a lawsuit to try and obtain a Vincent Van Gogh painting that is hanging in the Detroit Institute of Art (DIA).\\r\\nThe collector, Gustavo Soter, bought the painting … [+1057 chars]  "
      ]
     },
     "execution_count": 46,
     "metadata": {},
     "output_type": "execute_result"
    }
   ],
   "source": [
    "# count the number of rows in a dataframe\n",
    "print(articles_df.shape)\n",
    "# get all unique values in a column\n",
    "print(articles_df['source'].unique())\n",
    "articles_df.head()"
   ]
  },
  {
   "attachments": {},
   "cell_type": "markdown",
   "metadata": {},
   "source": [
    "Save results csv for later work"
   ]
  },
  {
   "cell_type": "code",
   "execution_count": 47,
   "metadata": {},
   "outputs": [],
   "source": [
    "articles_df.to_csv(\"30_days_ago\"+end_date.isoformat()+\".csv\")"
   ]
  },
  {
   "attachments": {},
   "cell_type": "markdown",
   "metadata": {},
   "source": [
    "# Demonstrate sentiment analysis"
   ]
  },
  {
   "cell_type": "code",
   "execution_count": null,
   "metadata": {},
   "outputs": [
    {
     "name": "stdout",
     "output_type": "stream",
     "text": [
      "Well, this week news broke that they had been in talks with Twitter for a $4 billion acquisition, so it looks like they’re still pretty desirable.\n",
      "{'neg': 0.084, 'neu': 0.603, 'pos': 0.313, 'compound': 0.7624}\n",
      "Wow, how things change.\n",
      "{'neg': 0.0, 'neu': 0.441, 'pos': 0.559, 'compound': 0.5859}\n",
      "Traveloka are poised to become public companies in coming months, kickstarting a coming-out party for Southeast Asia’s long-overlooked internet scene.\n",
      "{'neg': 0.0, 'neu': 0.783, 'pos': 0.217, 'compound': 0.5719}\n",
      "Former DHS Secretary Janet Napolitano spoke with Yahoo Finance about comprehensive immigration reform.\n",
      "{'neg': 0.0, 'neu': 0.857, 'pos': 0.143, 'compound': 0.25}\n"
     ]
    }
   ],
   "source": [
    "PHRASES = ['Well, this week news broke that they had been in talks with Twitter for a $4 billion acquisition, so it looks like they’re still pretty desirable.',\\\n",
    "           'Wow, how things change.',\\\n",
    "           'Traveloka are poised to become public companies in coming months, kickstarting a coming-out party for Southeast Asia’s long-overlooked internet scene.',\\\n",
    "           'Former DHS Secretary Janet Napolitano spoke with Yahoo Finance about comprehensive immigration reform.']\n",
    "\n",
    "for phrase in PHRASES:\n",
    "  print(f'{phrase}')\n",
    "  print(sia.polarity_scores(phrase))"
   ]
  },
  {
   "attachments": {},
   "cell_type": "markdown",
   "metadata": {},
   "source": [
    "# News + Sentiment"
   ]
  },
  {
   "cell_type": "code",
   "execution_count": null,
   "metadata": {},
   "outputs": [],
   "source": [
    "def get_articles_sentiments(keywrd, startd, sources_list = None, show_all_articles = False):\n",
    "   \n",
    "  news_client = NewsApiClient(api_key= NEWS_API_KEY)\n",
    "  if type(startd) == str:\n",
    "    my_date = datetime.strptime(startd,'%d-%b-%Y')\n",
    "  else:\n",
    "    my_date = startd\n",
    "  # business_en_sources = news_client.get_sources('business','en')\n",
    "  if sources_list:\n",
    "    articles = news_client.get_everything(q = keywrd,\n",
    "                                      from_param = my_date.isoformat(), \n",
    "                                      to = (my_date + timedelta(days = 1)).isoformat(),\n",
    "                                      language=\"en\",\n",
    "                                      sources = \",\".join(sources_list),\n",
    "                                      sort_by=\"relevancy\",\n",
    "                                      page_size = 100)\n",
    "  else:\n",
    "     articles = news_client.get_everything(q = keywrd,\n",
    "                                       from_param = my_date.isoformat(), \n",
    "                                       to = (my_date + timedelta(days = 1)).isoformat(),\n",
    "                                       language=\"en\",\n",
    "                                       sort_by=\"relevancy\",\n",
    "                                       page_size = 100)\n",
    "  article_content = ''\n",
    "\n",
    "  date_sentiments = {}\n",
    "  date_sentiments_list = []\n",
    "  seen = set()\n",
    "  \n",
    "  for article in articles['articles']:\n",
    "    if str(article['title']) in seen:\n",
    "      continue\n",
    "    else:\n",
    "      seen.add(str(article['title']))\n",
    "      article_content = str(article['title']) + '. ' + str(article['description'])      \n",
    "      sentiment = sia.polarity_scores(article_content)['compound']\n",
    "      date_sentiments.setdefault(my_date, []).append(sentiment)\n",
    "      date_sentiments_list.append((sentiment, article['url'],article['title'],article['description']))\n",
    "\n",
    "  date_sentiments_l = sorted(date_sentiments_list, key=lambda tup: tup[0], reverse = True)   \n",
    "  sent_list = list(date_sentiments.values())[0]\n",
    "\n",
    "  return pd.DataFrame(date_sentiments_list, columns=['Sentiment','URL','Title','Description'])"
   ]
  },
  {
   "cell_type": "code",
   "execution_count": null,
   "metadata": {},
   "outputs": [],
   "source": [
    "# Easy version when we don't filter the business source -- seems to be relevant though, but the description\n",
    "# Get all sources in en\n",
    "\n",
    "# return_articles = get_articles_sentiments(keywrd= 'Tesla stock' ,startd = '9-Apr-2021',sources_list = None, show_all_articles= True)\n",
    "# return_articles.Sentiment.hist(bins=30,grid=False)\n",
    "# print(return_articles.Sentiment.mean())\n",
    "# print(return_articles.Sentiment.count())\n",
    "# print(return_articles.Description)"
   ]
  },
  {
   "attachments": {},
   "cell_type": "markdown",
   "metadata": {},
   "source": [
    "# Every Day execution"
   ]
  },
  {
   "cell_type": "code",
   "execution_count": null,
   "metadata": {},
   "outputs": [
    {
     "name": "stdout",
     "output_type": "stream",
     "text": [
      "    Sentiment  \\\n",
      "0      0.7003   \n",
      "1      0.3089   \n",
      "2      0.7184   \n",
      "3      0.0258   \n",
      "4      0.4588   \n",
      "5     -0.3716   \n",
      "6      0.5106   \n",
      "7      0.5106   \n",
      "8     -0.1511   \n",
      "9      0.6114   \n",
      "10     0.6369   \n",
      "11    -0.0129   \n",
      "12    -0.8271   \n",
      "13     0.3818   \n",
      "14     0.5574   \n",
      "15    -0.1280   \n",
      "16    -0.8625   \n",
      "17     0.4588   \n",
      "18    -0.0516   \n",
      "19     0.7184   \n",
      "20     0.4201   \n",
      "21     0.0000   \n",
      "22     0.2732   \n",
      "23    -0.5859   \n",
      "24    -0.4404   \n",
      "25    -0.2023   \n",
      "26     0.5267   \n",
      "27    -0.5574   \n",
      "28    -0.7184   \n",
      "29    -0.5267   \n",
      "30     0.0000   \n",
      "31     0.0000   \n",
      "32    -0.7399   \n",
      "33     0.2023   \n",
      "34    -0.5632   \n",
      "35     0.4019   \n",
      "36    -0.7399   \n",
      "37    -0.4404   \n",
      "38     0.3818   \n",
      "39    -0.5859   \n",
      "40     0.7845   \n",
      "41    -0.7269   \n",
      "42     0.4404   \n",
      "43    -0.8020   \n",
      "44    -0.4767   \n",
      "45    -0.9001   \n",
      "46    -0.0498   \n",
      "47    -0.9423   \n",
      "48    -0.3818   \n",
      "49     0.8126   \n",
      "50    -0.8126   \n",
      "51    -0.2960   \n",
      "52     0.1531   \n",
      "53     0.5719   \n",
      "54    -0.6597   \n",
      "55    -0.4215   \n",
      "56    -0.4767   \n",
      "57    -0.7783   \n",
      "58     0.0000   \n",
      "\n",
      "                                                                                                                                                                                                URL  \\\n",
      "0                                                                                                               https://stocknews.com/news/tsla-will-china-be-the-ultimate-downfall-for-tesla-tsla/   \n",
      "1                                                                                                                       https://www.fool.com/investing/2023/01/14/what-happened-to-tesla-this-week/   \n",
      "2                                                                                                          https://www.fool.com/investing/2023/01/15/2-beaten-down-cathie-wood-stocks-bargain-buys/   \n",
      "3                                                                                                                      https://www.fool.com/investing/2023/01/15/better-buy-costco-vs-target-stock/   \n",
      "4                                                                                                                        https://www.fool.com/investing/2023/01/14/nike-stock-in-2023-bull-vs-bear/   \n",
      "5                                                                                                     https://www.fool.com/investing/2023/01/15/sp-500-had-worst-year-in-history-what-happens-next/   \n",
      "6                                         https://www.benzinga.com/news/large-cap/23/01/30422510/barrons-top-weekend-stock-picks-amazon-tesla-disney-and-why-big-tech-may-be-in-for-a-major-comebac   \n",
      "7                                                                                                     https://www.fool.com/investing/2023/01/15/looking-for-the-next-ten-bagger-focus-on-market-sh/   \n",
      "8                                                                                                       https://www.fool.com/investing/2023/01/14/rule-breaker-investing-old-new-borrowed-and-blue/   \n",
      "9                                                                                                                                           https://crooksandliars.com/2023/01/mikes-blog-roundup-4   \n",
      "10                                                                                                           https://www.fool.com/investing/2023/01/14/new-to-investing-take-a-look-at-these-funds/   \n",
      "11                                                                        https://markets.businessinsider.com/news/stocks/tesla-stock-outlook-leo-koguan-elon-musk-shi-international-trading-2023-1   \n",
      "12                                                                                                                    https://finance.yahoo.com/news/elon-musk-tesla-owners-learning-202415103.html   \n",
      "13                                                                                                                https://seekingalpha.com/article/4569964-fisker-large-tam-sets-stage-rapid-growth   \n",
      "14                                                                                                      https://seekingalpha.com/article/4570009-leo-lithium-stock-west-africa-premier-lithium-play   \n",
      "15                                                                              https://www.gizmodo.com.au/2023/01/heres-what-2023-likely-holds-for-tesla-and-why-its-probably-time-for-musk-to-go/   \n",
      "16                                                                                                              https://www.hurriyetdailynews.com/musk-faces-us-fraud-trial-over-tesla-tweet-180120   \n",
      "17                                                                                                    https://www.fool.com/investing/2023/01/14/big-tech-ceos-give-investors-something-to-think-ab/   \n",
      "18                                                                                https://www.bloomberg.com/news/articles/2023-01-14/first-signs-of-recession-pain-look-set-to-emerge-from-earnings   \n",
      "19                                                       https://www.moneycontrol.com/news/business/markets/sp-500-ends-at-highest-in-month-indexes-gain-for-week-as-earnings-kick-off-9863141.html   \n",
      "20                                                                                                https://www.gizchina.com/2023/01/15/tesla-cars-cut-prices-worldwide-many-cars-get-huge-discounts/   \n",
      "21                                                                                                                     https://www.bostonherald.com/2023/01/14/ticker-gas-prices-dip-across-nation/   \n",
      "22                                                                    https://www.usatoday.com/story/money/cars/2023/01/14/tesla-price-drop-model-y-electric-vehicle-tax-credits-sales/11054690002/   \n",
      "23                                                                                                                                          https://globalnews.ca/news/9410288/tesla-global-prices/   \n",
      "24                                                                                                                       https://247wallst.com/autos/2023/01/14/rivian-continues-to-be-beaten-down/   \n",
      "25                                                                                                                                                            https://biztoc.com/x/041c3c208bb1b093   \n",
      "26                                                                                                                                                            https://biztoc.com/x/c0e98442b9d2bfd8   \n",
      "27                                                                                                     https://nypost.com/2023/01/14/congress-overdue-to-ban-stock-trading-abigail-spanberger-says/   \n",
      "28                                                                                                                                                            https://biztoc.com/x/4ecac717a14ecb4f   \n",
      "29                                                         https://www.livemint.com/companies/news/elon-musk-faces-us-trial-for-false-2018-tweet-on-tesla-privatisation-details-11673655337901.html   \n",
      "30                                                                                                             https://finance.yahoo.com/news/25-biggest-california-companies-stocks-150011710.html   \n",
      "31                                                                                                                https://finance.yahoo.com/news/25-biggest-florida-companies-stocks-143430622.html   \n",
      "32                                                                                                                                                            https://biztoc.com/x/57a9883bbf9f6d86   \n",
      "33  https://www.marketscreener.com/quote/stock/AERODROM-NIKOLA-TESLA-A-D-16300099/news/Aerodrom-Nikola-Tesla-VINCI-Airports-ndash-2022-traffic-levels-42732342/?utm_medium=RSS&utm_content=20230114   \n",
      "34                                                                                                                      https://www.autoblog.com/2023/01/14/tesla-stock-debate-tech-or-car-company/   \n",
      "35                                                                                                                                                            https://biztoc.com/x/d1e5a2fdc0248a6c   \n",
      "36                                                                                                                                                            https://biztoc.com/x/bb0d929d6ccbc13f   \n",
      "37                                                                                                                                                            https://biztoc.com/x/703642818871464b   \n",
      "38                                                                                                      https://www.startribune.com/2022-was-a-bad-market-year-but-things-can-get-better/600243468/   \n",
      "39                                                                                                       https://stumblingandmumbling.typepad.com/stumbling_and_mumbling/2023/01/on-resilience.html   \n",
      "40                                              https://economictimes.indiatimes.com/markets/stocks/news/ahead-of-market-10-things-that-will-decide-stock-action-on-monday/articleshow/97005734.cms   \n",
      "41                                                                     https://www.engadget.com/court-rejects-elon-musk-request-to-move-tesla-shareholder-trial-out-of-san-francisco-171528898.html   \n",
      "42                                                                                                                      https://seekingalpha.com/article/4569922-ford-tesla-fires-the-opening-salvo   \n",
      "43                                                                                                             https://fortune.com/2023/01/14/signs-of-recession-pain-expected-in-earnings-reports/   \n",
      "44                                                               https://economictimes.indiatimes.com/tech/technology/tesla-turns-up-heat-on-rivals-with-global-price-cuts/articleshow/96989513.cms   \n",
      "45                                              https://www.business-standard.com/article/international/elon-musk-rebuffed-in-bid-to-move-misleading-tesla-tweet-trial-to-texas-123011400035_1.html   \n",
      "46                                                                                                                    https://slate.com/podcasts/what-next-tbd/2023/01/why-teslas-stock-is-crashing   \n",
      "47                                                                          https://www.breitbart.com/tech/2023/01/14/up-in-smoke-elon-musk-breaks-guinness-world-record-for-worst-loss-of-fortune/   \n",
      "48                                                                                                         https://seekingalpha.com/article/4569505-rivian-still-risky-despite-the-drastic-declines   \n",
      "49                                                                                                          https://wccftech.com/tesla-says-drivers-saved-more-than-2-billion-in-gas-costs-in-2022/   \n",
      "50                                                                                                                                        https://slashdot.org/firehose.pl?op=view&amp;id=170124968   \n",
      "51                                                                                                                          https://futurism.com/the-byte/tesla-slashes-car-prices-up-to-20-percent   \n",
      "52                                                                                              https://seekingalpha.com/article/4569963-global-x-uranium-etf-the-future-of-energy-might-be-nuclear   \n",
      "53                                                                                            https://seekingalpha.com/article/4569894-horan-capital-advisors-quarterly-investor-letter-winter-2022   \n",
      "54                                                                                                             https://www.barrons.com/articles/stock-market-dow-sp500-nasdaq-inflation-51673663467   \n",
      "55                                                                               https://www.thestar.com.my/tech/tech-news/2023/01/14/i-feel-like-i-got-dupedtesla-price-drop-angers-current-owners   \n",
      "56                                                                                                                             https://seekingalpha.com/article/4570024-avoid-these-sectors-in-2023   \n",
      "57                                                                                                           http://www.krgv.com/news/elon-musk-rebuffed-in-bid-to-move-tesla-tweet-trial-to-texas/   \n",
      "58                                                                                        https://www.bloomberg.com/news/articles/2023-01-15/your-uk-sunday-briefing-brexit-is-back-and-so-is-davos   \n",
      "\n",
      "                                                                                                                        Title  \\\n",
      "0                                                                      Will China Be The Ultimate Downfall For Tesla (TSLA) ?   \n",
      "1                                                                                           What Happened to Tesla This Week?   \n",
      "2                                                        2 Beaten-Down Cathie Wood Stocks That Could Be Bargain Buys for 2023   \n",
      "3                                                                                         Better Buy: Costco Vs. Target Stock   \n",
      "4                                                                                           Nike Stock In 2023: Bull vs. Bear   \n",
      "5                                    The S&P 500 Just Had One of Its Worst Years in History. Here's What Usually Happens Next   \n",
      "6                                                  Barron's Top Weekend Stock Picks: Amazon, Tesla, Disney And ... - Benzinga   \n",
      "7                                                                      Looking for the Next Ten-Bagger? Focus on Market Share   \n",
      "8                                                                      \"Rule Breaker Investing\": Old, New, Borrowed, and Blue   \n",
      "9                                                                                                         Mike's Blog Roundup   \n",
      "10                                                                               New to Investing? Take a Look at These Funds   \n",
      "11  Who is Lee Koguan, the Elon fanboy and one of Tesla's largest shareholders who now says Musk has 'abandoned' the EV maker   \n",
      "12                                                   Elon Musk and Tesla owners are learning a harsh lesson about revaluation   \n",
      "13                                                                          Fisker: Large TAM Sets The Stage For Rapid Growth   \n",
      "14                                                                            Leo Lithium: West Africa's Premier Lithium Play   \n",
      "15                                          Here’s What 2023 Likely Holds for Tesla and Why It’s Probably Time for Musk to Go   \n",
      "16                                                                                 Musk faces US fraud trial over Tesla tweet   \n",
      "17                                                                      Big Tech CEOs Give Investors Something to Think About   \n",
      "18                                                             First Signs of Recession Pain Look Set to Emerge from Earnings   \n",
      "19                                                SP 500 ends at highest in month, indexes gain for week as earnings kick off   \n",
      "20                                                             Tesla cars cut prices worldwide – many cars get huge discounts   \n",
      "21                                                                                       Ticker: Gas prices dip across nation   \n",
      "22                                                  Looking to buy a Tesla? Company cuts prices as much as 20% to boost sales   \n",
      "23   Tesla slashes global prices, challenging rivals after missing delivery estimate - National | Globalnews.ca - Global News   \n",
      "24                                                                                         Rivian Continues To Be Beaten Down   \n",
      "25                                                         Ford Stock: Tesla Fires The Opening Salvo (NYSE:F) | Seeking Alpha   \n",
      "26                                                                                 Tesla price cuts, a wise call or a gamble?   \n",
      "27                                                      Congress ‘long overdue’ to ban stock trading, Abigail Spanberger says   \n",
      "28    Nancy Pelosi's husband lost over $500,000 selling Tesla stock in December as investors fretted about Elon Musk's tweets   \n",
      "29                                           Elon Musk faces US trial for ‘false’ 2018 tweet on Tesla privatisation - Details   \n",
      "30                                                                                 25 Biggest California Companies and Stocks   \n",
      "31                                                                                    25 Biggest Florida Companies and Stocks   \n",
      "32                                        Tesla and the EV industry get their first recession stress test. Will it be a bust?   \n",
      "33                                                               Aerodrom Nikola Tesla : VINCI Airports – 2022 traffic levels   \n",
      "34                                           Tesla market value debate rages: stodgy automaker or a high-growth tech company?   \n",
      "35                                                                                                  How Should I Invest 200k?   \n",
      "36                                             The EV industry is getting its first recession stress test. Will it be a bust?   \n",
      "37                                                                         Rivian Continues To Be Beaten Down – 24/7 Wall St.   \n",
      "38                                                                      2022 was a bad market year, but things can get better   \n",
      "39                                                                                                              On resilience   \n",
      "40                                                         Ahead of Market: 10 things that will decide stock action on Monday   \n",
      "41                                     Court rejects Elon Musk’s request to move Tesla shareholder trial out of San Francisco   \n",
      "42                                                                                        Ford: Tesla Fires The Opening Salvo   \n",
      "43                    Signs of recession pain expected in earnings reports: ‘Very few sectors now seem immune to the slowing’   \n",
      "44                                                                       Tesla turns up heat on rivals with global price cuts   \n",
      "45                                                    Elon Musk rebuffed in bid to move misleading Tesla tweet trial to Texas   \n",
      "46                                                                                             Tesla’s No Good, Very Bad Year   \n",
      "47                                            Up in Smoke: Elon Musk Breaks Guinness World Record for 'Worst Loss of Fortune'   \n",
      "48                                                                           Rivian: Still Risky Despite The Drastic Declines   \n",
      "49                                                         Tesla Says Drivers Saved More Than $2 Billion In Gas Costs In 2022   \n",
      "50                                   Elon Musk and Tesla owners are learning a harsh lesson about revaluation - Yahoo Finance   \n",
      "51                                                                                  Tesla Slashes Car Prices Up to 20 Percent   \n",
      "52                                                                Global X Uranium ETF: The Future Of Energy Might Be Nuclear   \n",
      "53                                                             HORAN Capital Advisors Quarterly Investor Letter - Winter 2022   \n",
      "54                                                                    Why Falling Inflation Is a Problem for the Stock Market   \n",
      "55                                                          ‘I feel like I got duped’: Tesla price drop angers current owners   \n",
      "56                                                                                           I'll Avoid These Sectors In 2023   \n",
      "57                                                               Elon Musk rebuffed in bid to move Tesla tweet trial to Texas   \n",
      "58                                                                    Your UK Sunday Briefing: Brexit Is Back and So Is Davos   \n",
      "\n",
      "                                                                                                                                                                                                                                                                      Description  \n",
      "0                                                                                                                                               The recent short covering rally in Tesla stock provides a better price point to position to profit on a further pullback in TSLA.  \n",
      "1                                                                                                                                                                                                                                         There's never a dull moment with Tesla.  \n",
      "2                                                                                                                                                                                                Wood is betting on these players for their innovation and high growth potential.  \n",
      "3                                                                                                                                                                                                                  These two retailers have what it takes to outlast a recession.  \n",
      "4                                                                                                                                                                                                               Can this leading sportswear business satisfy investors this year?  \n",
      "5                                                                                                                                                                        The S&P 500 declined sharply last year, but historical data says the stock market could rebound in 2023.  \n",
      "6                                                                                                                                                                  Benzinga reviews this weekend's top stories covered by Barron's, here are the articles investors need to read.  \n",
      "7                                                                                                                                                                                                     Consistent market share gains are the clearest sign of industry disruption.  \n",
      "8                                                                                                             We're kicking off 2023 by looking back, looking forward, looking outward, and looking past the same old blues. It's a new year, Fools -- let's make it ever better!  \n",
      "9        eclectablog - the triumph and tragedy of Detroit;\\nemptywheel - yes the J6 committee endangered the DOJ investigation;\\nJabberwocking - let's balance the budget!\\nJoe.My.God - Tesla 'dramatically' slashes prices as stock plummets;\\nThe Great Consolidation - Elon …  \n",
      "10                                                                                                                                                                         Warren Buffett believes most investors would be best off purchasing one of these low-cost index funds.  \n",
      "11                                                                                                                                                       Leo KoGuan regularly touts his big buying sprees of Tesla stock but he has soured sharply on CEO Elon Musk's leadership.  \n",
      "12                                                                                                                                                                Existing Tesla customers are furious about the company abruptly slashing prices by up to 20% on various models.  \n",
      "13                                                                                                                                                       Fisker plans to bring a total of four vehicles to market by 2025. Check out my December 2023 target price for FSR stock.  \n",
      "14                                                                                                                         Leo Lithium's Goulamina project touts big promise for Africa's fledgling battery minerals industry. Read more to see my recommendation on LLLAF stock.  \n",
      "15         If share price is anything to go by, Tesla is in trouble. The market capitalisation of the electric vehicle (EV)...\\nThe post Here’s What 2023 Likely Holds for Tesla and Why It’s Probably Time for Musk to Go appeared first on Gizmodo Australia.\\n  Related Stori…  \n",
      "16                                                            Elon Musk, the CEO of electric car giant Tesla, will face trial on Tuesday over allegedly manipulating the stock market with a tweet after a federal judge rejected his request to move the case out of California.  \n",
      "17                                                                                                                        Plus, Malcolm Ethridge, host of the Tech Money podcast, chats with us about interest rate hikes, what he's watching for this earnings season, and more.  \n",
      "18                                                                              Just as investors are celebrating the prospect of peak inflation and potential for a soft landing, this earnings season is likely to show there’s still plenty that should keep them up at night.  \n",
      "19                                                                   The Dow Jones Industrial Average rose 112.64 points, or 0.33%, to 34,302.61, the S&amp;P 500 gained 15.92 points, or 0.40%, to 3,999.09 and the Nasdaq Composite added 78.05 points, or 0.71%, to 11,079.16.  \n",
      "20                  American car maker, Tesla is the face of the electric car market globally. The company has been doing quite well until Elon Musk bought Twitter. ...\\nThe post Tesla cars cut prices worldwide – many cars get huge discounts appeared first on Gizchina.com.  \n",
      "21                                                                                                                   The national average price for a gallon of regular gasoline was $3.28, down a penny from last week, according to AAA data. And other business news in brief.  \n",
      "22                                                                                                                                   The price cuts apply to vehicles sold in the United States and range from 6% to 20% for Model 3 and Model Y SUVs and some higher-end models.  \n",
      "23                                                                                                                       Tesla slashes global prices, challenging rivals after missing delivery estimate - National | Globalnews.ca  Global NewsView Full Coverage on Google News  \n",
      "24           Just when it appeared Rivian’s stock would not decline further, it turned downward again. In the last month, its shares are off 34% while the S&P is nearly flat. While investors were skeptical of whether Rivian could deliver vehicles on schedule, in addition,…  \n",
      "25           announced major discounts today on top of the earlier discounts offered in China. According to Seeking Alpha news: \"Tesla (NASDAQ:TSLA) fell in early trading on Friday after unveiling significant price cuts in the U.S. and Europe. The price cuts range from 6%…  \n",
      "26           Tesla’s stock has been hammered by more than 65% over the past year, and even though the company has been posting record numbers, deliveries and has even released their new Semi-Truck, the stock still doesn’t seem to agree. Recently there has been a lot of co…  \n",
      "27                                                                                                                       Rep. Abigail Spanberger told The Post that it's past time for Congress to approve her bill banning fellow members and their families from trading stock.  \n",
      "28           Nancy Pelosi reported that her husband lost more than $500,000 in December after selling Tesla shares. • Paul Pelosi's trades were a facet of the coverage over a potential ban on lawmakers and their spouses. Paul Pelosi, the husband of then-Speaker Nancy Pelo…  \n",
      "29                                                                                                                                   Tesla CEO Elon Musk is facing a class-action lawsuit filed by shareholders for allegedly manipulating the stock market with a tweet in 2018.  \n",
      "30                                                                                                               In this article, we will be taking a look at the 25 biggest California companies and stocks. To skip our detailed analysis, you can go directly to see the 5 ...  \n",
      "31                                                                                                                   In this article, we will be taking a look at the 25 Biggest Florida Companies and Stocks. To skip our detailed analysis, you can go directly to see the 5...  \n",
      "32           Is the first electric-vehicle recession here, or coming soon? As electric-car stocks plummeted in late 2022, the rout evoked comparisons to the dot-com stock bust two decades ago. Like the internet industry then, the EV industry boasts companies, notably Tesl…  \n",
      "33  (marketscreener.com) \\n \\n \\n Traffic up by 51% in the last quarter compared to 2021 - down 17% from pre-Covid levels\\n \\n \\n Traffic for the entire year doubled compared to 2021, reaching 72% of the 2019 baseline\\n \\n \\n In Portugal and Serbia , the last quarter was …  \n",
      "34      Filed under:\\nEarnings/Financials,Green,Tesla\\n\\nContinue reading Tesla market value debate rages: stodgy automaker or a high-growth tech company?\\n\\nTesla market value debate rages: stodgy automaker or a high-growth tech company? originally appeared on Autoblog o…  \n",
      "35           If you have $200,000 to invest, there are many ways to make your money grow. Let’s take a look at how you can invest in the stock market, real estate and other common investments, while keeping a few practical tips in mind. A financial advisor can help you cr…  \n",
      "36           Is the first electric-vehicle recession here, or coming soon? As electric-car stocks plummeted in late 2022, the rout evoked comparisons to the dot-com stock bust two decades ago. Like the internet industry then, the EV industry boasts companies, notably Tesl…  \n",
      "37           Just when it appeared Rivian’s stock would not decline further, it turned downward again. In the last month, its shares are off 34% while the S&P is nearly flat. While investors were skeptical of whether Rivian could deliver vehicles on schedule, in addition,…  \n",
      "38                                                                                                                                                                                        Follow the StarTribune for the news, photos and videos from the Twin Cities and beyond.  \n",
      "39            Two apparently different things I've seen recently illustrate a common mistake which distorts our thinking about politics and organizations. First, 30p Lee tried to show that one could eat very cheaply with Tesco's Weetabix. And then when somebody posted a...  \n",
      "40           “The recent recovery in the global markets has failed to impress the participants so far. However, the mood might change if they manage to sustain the gains. To regain some strength, Nifty should decisively cross the 18,100 mark. Meanwhile, participants shoul…  \n",
      "41     A federal judge has denied Elon Musk’s request to move his upcoming trial against a group of Tesla shareholders to Texas, according to Bloomberg\\r\\n (via The Verge\\r\\n). On January 7th\\r\\n, less than two weeks before the trial was scheduled to begin on the 17th, Mu…  \n",
      "42                                                                                                                                      Ford is down substantially today on the news of new major discounts offered by Tesla. Check out which among TSLA and F is a better stock.  \n",
      "43                                                                                                                                                                                             Slowing demand will be in focus this reporting season as a harbinger of recession.  \n",
      "44           The move marks a reversal from the automaker's strategy over the last two years when new vehicle orders exceeded supply. It comes after CEO Elon Musk warned that the prospect of recession and higher interest rates meant it could lower prices to sustain growth…  \n",
      "45           A federal judge on Friday rejected Tesla CEO Elon Musk's bid to move or delay a trial over a misleading tweet about a potential buyout of the electric automaker, setting the stage for the mercurial billionaire to be thrust into a legal drama amid the turmoil …  \n",
      "46                                                                                                                                                                                                       Are these normal growing pains or is Tesla’s brightest future Musk-free?  \n",
      "47                                                                                                                            Tesla CEO, Twitter owner, and self-promoter Elon Musk has broken the world record for \"worst loss of fortune,\" according to Guinness World Records.  \n",
      "48                                                                                                                      RIVN may potentially see more retracements ahead, with the projected terminal rates of over 5% and 70% chance of a recession in 2023. Click to read more.  \n",
      "49           Electric vehicle giant Tesla, Inc claims that its cars have enabled drivers to save more than $2 billion in fuel costs in 2022. Tesla shared the data on Twitter earlier this week as part of an upgrade to its application which will now let users see how much e…  \n",
      "50           Elon Musk and Tesla owners are learning a harsh lesson about revaluationYahoo Finance Who is Lee KoGuan, the Tesla shareholder crusading against Elon Musk?Markets Insider Tesla Inc. stock falls Friday, underperforms marketMarketWatch Is Tesla Losing Its Prici…  \n",
      "51           Big Adjustments Teslas just got a whole lot cheaper. The Elon Musk led automaker has cut prices across the board on its new models of EVs — as much as 20 percent cheaper — in the US and Europe. This follows substantial price cuts in China as well as other Asi…  \n",
      "52                                                                                                            Global X Uranium ETF gets you exposure to a wide variety of Uranium plays that trade on difficult to buy markets. Read why I think URA is a long-term Buy and hold.  \n",
      "53                                                                                                                                                      We are happy to close the book on 2022. Click here for more of our thoughts on 2022 and expectations for the coming year.  \n",
      "54                                                                                                                                                                                             Falling prices could hurt profit margins, especially if wages continue to hold up.  \n",
      "55           This is an age-old problem in the car business: Consumers buy a vehicle only to see a rebate advertised days later that would have saved them a few thousand dollars. This time it’s different because dealer discounts are often limited-time sales and Tesla’s cu…  \n",
      "56                                                                                                                               I wrote an article about which sectors I intend to focus on for this year, with a number of examples. Find out which sectors I'll avoid in 2023.  \n",
      "57           SAN FRANCISCO (AP) — A federal judge on Friday rejected Tesla CEO Elon Musk's bid to move or delay a trial over a misleading tweet about a potential buyout of the electric automaker, setting the stage for the mercurial billionaire to be thrust into a legal dr…  \n",
      "58                                                                                                                                                           Follow us at  @BloombergUK and on  Facebook, and wrap up your day with The Readout newsletter with Allegra Stratton.  \n"
     ]
    },
    {
     "data": {
      "image/png": "[encoded data removed]",
      "text/plain": [
       "<Figure size 640x480 with 1 Axes>"
      ]
     },
     "metadata": {},
     "output_type": "display_data"
    }
   ],
   "source": [
    "# Easy version when we don't filter the business source -- seems to be relevant though, but the description\n",
    "# Get all sources in en\n",
    "\n",
    "my_date = date.today() - timedelta(days=1) \n",
    "\n",
    "return_articles = get_articles_sentiments(keywrd= 'Tesla stock' ,startd = my_date, sources_list = None, show_all_articles= True)\n",
    "return_articles.Sentiment.hist(bins=30, grid=False)\n",
    "print(return_articles)\n",
    "# print(return_articles.Sentiment.mean())\n",
    "# print(return_articles.Sentiment.count())\n",
    "# print(return_articles.Description)"
   ]
  },
  {
   "cell_type": "code",
   "execution_count": null,
   "metadata": {},
   "outputs": [],
   "source": [
    "return_articles[\"Date\"] = my_date"
   ]
  },
  {
   "cell_type": "code",
   "execution_count": null,
   "metadata": {},
   "outputs": [
    {
     "data": {
      "text/html": [
       "<div>\n",
       "<style scoped>\n",
       "    .dataframe tbody tr th:only-of-type {\n",
       "        vertical-align: middle;\n",
       "    }\n",
       "\n",
       "    .dataframe tbody tr th {\n",
       "        vertical-align: top;\n",
       "    }\n",
       "\n",
       "    .dataframe thead th {\n",
       "        text-align: right;\n",
       "    }\n",
       "</style>\n",
       "<table border=\"1\" class=\"dataframe\">\n",
       "  <thead>\n",
       "    <tr style=\"text-align: right;\">\n",
       "      <th></th>\n",
       "      <th>Sentiment</th>\n",
       "      <th>URL</th>\n",
       "      <th>Title</th>\n",
       "      <th>Description</th>\n",
       "      <th>Date</th>\n",
       "    </tr>\n",
       "  </thead>\n",
       "  <tbody>\n",
       "    <tr>\n",
       "      <th>0</th>\n",
       "      <td>0.7003</td>\n",
       "      <td>https://stocknews.com/news/tsla-will-china-be-the-ultimate-downfall-for-tesla-tsla/</td>\n",
       "      <td>Will China Be The Ultimate Downfall For Tesla (TSLA) ?</td>\n",
       "      <td>The recent short covering rally in Tesla stock provides a better price point to position to profit on a further pullback in TSLA.</td>\n",
       "      <td>2023-01-14</td>\n",
       "    </tr>\n",
       "    <tr>\n",
       "      <th>1</th>\n",
       "      <td>0.3089</td>\n",
       "      <td>https://www.fool.com/investing/2023/01/14/what-happened-to-tesla-this-week/</td>\n",
       "      <td>What Happened to Tesla This Week?</td>\n",
       "      <td>There's never a dull moment with Tesla.</td>\n",
       "      <td>2023-01-14</td>\n",
       "    </tr>\n",
       "    <tr>\n",
       "      <th>2</th>\n",
       "      <td>0.7184</td>\n",
       "      <td>https://www.fool.com/investing/2023/01/15/2-beaten-down-cathie-wood-stocks-bargain-buys/</td>\n",
       "      <td>2 Beaten-Down Cathie Wood Stocks That Could Be Bargain Buys for 2023</td>\n",
       "      <td>Wood is betting on these players for their innovation and high growth potential.</td>\n",
       "      <td>2023-01-14</td>\n",
       "    </tr>\n",
       "    <tr>\n",
       "      <th>3</th>\n",
       "      <td>0.0258</td>\n",
       "      <td>https://www.fool.com/investing/2023/01/15/better-buy-costco-vs-target-stock/</td>\n",
       "      <td>Better Buy: Costco Vs. Target Stock</td>\n",
       "      <td>These two retailers have what it takes to outlast a recession.</td>\n",
       "      <td>2023-01-14</td>\n",
       "    </tr>\n",
       "    <tr>\n",
       "      <th>4</th>\n",
       "      <td>0.4588</td>\n",
       "      <td>https://www.fool.com/investing/2023/01/14/nike-stock-in-2023-bull-vs-bear/</td>\n",
       "      <td>Nike Stock In 2023: Bull vs. Bear</td>\n",
       "      <td>Can this leading sportswear business satisfy investors this year?</td>\n",
       "      <td>2023-01-14</td>\n",
       "    </tr>\n",
       "  </tbody>\n",
       "</table>\n",
       "</div>"
      ],
      "text/plain": [
       "   Sentiment  \\\n",
       "0     0.7003   \n",
       "1     0.3089   \n",
       "2     0.7184   \n",
       "3     0.0258   \n",
       "4     0.4588   \n",
       "\n",
       "                                                                                        URL  \\\n",
       "0       https://stocknews.com/news/tsla-will-china-be-the-ultimate-downfall-for-tesla-tsla/   \n",
       "1               https://www.fool.com/investing/2023/01/14/what-happened-to-tesla-this-week/   \n",
       "2  https://www.fool.com/investing/2023/01/15/2-beaten-down-cathie-wood-stocks-bargain-buys/   \n",
       "3              https://www.fool.com/investing/2023/01/15/better-buy-costco-vs-target-stock/   \n",
       "4                https://www.fool.com/investing/2023/01/14/nike-stock-in-2023-bull-vs-bear/   \n",
       "\n",
       "                                                                  Title  \\\n",
       "0                Will China Be The Ultimate Downfall For Tesla (TSLA) ?   \n",
       "1                                     What Happened to Tesla This Week?   \n",
       "2  2 Beaten-Down Cathie Wood Stocks That Could Be Bargain Buys for 2023   \n",
       "3                                   Better Buy: Costco Vs. Target Stock   \n",
       "4                                     Nike Stock In 2023: Bull vs. Bear   \n",
       "\n",
       "                                                                                                                         Description  \\\n",
       "0  The recent short covering rally in Tesla stock provides a better price point to position to profit on a further pullback in TSLA.   \n",
       "1                                                                                            There's never a dull moment with Tesla.   \n",
       "2                                                   Wood is betting on these players for their innovation and high growth potential.   \n",
       "3                                                                     These two retailers have what it takes to outlast a recession.   \n",
       "4                                                                  Can this leading sportswear business satisfy investors this year?   \n",
       "\n",
       "         Date  \n",
       "0  2023-01-14  \n",
       "1  2023-01-14  \n",
       "2  2023-01-14  \n",
       "3  2023-01-14  \n",
       "4  2023-01-14  "
      ]
     },
     "execution_count": 21,
     "metadata": {},
     "output_type": "execute_result"
    }
   ],
   "source": [
    "return_articles.head()"
   ]
  },
  {
   "cell_type": "code",
   "execution_count": null,
   "metadata": {},
   "outputs": [
    {
     "data": {
      "text/html": [
       "<div>\n",
       "<style scoped>\n",
       "    .dataframe tbody tr th:only-of-type {\n",
       "        vertical-align: middle;\n",
       "    }\n",
       "\n",
       "    .dataframe tbody tr th {\n",
       "        vertical-align: top;\n",
       "    }\n",
       "\n",
       "    .dataframe thead th {\n",
       "        text-align: right;\n",
       "    }\n",
       "</style>\n",
       "<table border=\"1\" class=\"dataframe\">\n",
       "  <thead>\n",
       "    <tr style=\"text-align: right;\">\n",
       "      <th></th>\n",
       "      <th>Sentiment</th>\n",
       "      <th>URL</th>\n",
       "      <th>Description</th>\n",
       "      <th>Title</th>\n",
       "    </tr>\n",
       "  </thead>\n",
       "  <tbody>\n",
       "    <tr>\n",
       "      <th>47</th>\n",
       "      <td>-0.9423</td>\n",
       "      <td>https://www.breitbart.com/tech/2023/01/14/up-in-smoke-elon-musk-breaks-guinness-world-record-for-worst-loss-of-fortune/</td>\n",
       "      <td>Tesla CEO, Twitter owner, and self-promoter Elon Musk has broken the world record for \"worst loss of fortune,\" according to Guinness World Records.</td>\n",
       "      <td>Up in Smoke: Elon Musk Breaks Guinness World Record for 'Worst Loss of Fortune'</td>\n",
       "    </tr>\n",
       "    <tr>\n",
       "      <th>45</th>\n",
       "      <td>-0.9001</td>\n",
       "      <td>https://www.business-standard.com/article/international/elon-musk-rebuffed-in-bid-to-move-misleading-tesla-tweet-trial-to-texas-123011400035_1.html</td>\n",
       "      <td>A federal judge on Friday rejected Tesla CEO Elon Musk's bid to move or delay a trial over a misleading tweet about a potential buyout of the electric automaker, setting the stage for the mercurial billionaire to be thrust into a legal drama amid the turmoil …</td>\n",
       "      <td>Elon Musk rebuffed in bid to move misleading Tesla tweet trial to Texas</td>\n",
       "    </tr>\n",
       "  </tbody>\n",
       "</table>\n",
       "</div>"
      ],
      "text/plain": [
       "    Sentiment  \\\n",
       "47    -0.9423   \n",
       "45    -0.9001   \n",
       "\n",
       "                                                                                                                                                    URL  \\\n",
       "47                              https://www.breitbart.com/tech/2023/01/14/up-in-smoke-elon-musk-breaks-guinness-world-record-for-worst-loss-of-fortune/   \n",
       "45  https://www.business-standard.com/article/international/elon-musk-rebuffed-in-bid-to-move-misleading-tesla-tweet-trial-to-texas-123011400035_1.html   \n",
       "\n",
       "                                                                                                                                                                                                                                                             Description  \\\n",
       "47                                                                                                                   Tesla CEO, Twitter owner, and self-promoter Elon Musk has broken the world record for \"worst loss of fortune,\" according to Guinness World Records.   \n",
       "45  A federal judge on Friday rejected Tesla CEO Elon Musk's bid to move or delay a trial over a misleading tweet about a potential buyout of the electric automaker, setting the stage for the mercurial billionaire to be thrust into a legal drama amid the turmoil …   \n",
       "\n",
       "                                                                              Title  \n",
       "47  Up in Smoke: Elon Musk Breaks Guinness World Record for 'Worst Loss of Fortune'  \n",
       "45          Elon Musk rebuffed in bid to move misleading Tesla tweet trial to Texas  "
      ]
     },
     "execution_count": 22,
     "metadata": {},
     "output_type": "execute_result"
    }
   ],
   "source": [
    "return_articles.sort_values(by='Sentiment', ascending=True)[['Sentiment','URL', 'Description','Title']].head(2)"
   ]
  },
  {
   "cell_type": "code",
   "execution_count": null,
   "metadata": {},
   "outputs": [
    {
     "data": {
      "text/html": [
       "<div>\n",
       "<style scoped>\n",
       "    .dataframe tbody tr th:only-of-type {\n",
       "        vertical-align: middle;\n",
       "    }\n",
       "\n",
       "    .dataframe tbody tr th {\n",
       "        vertical-align: top;\n",
       "    }\n",
       "\n",
       "    .dataframe thead th {\n",
       "        text-align: right;\n",
       "    }\n",
       "</style>\n",
       "<table border=\"1\" class=\"dataframe\">\n",
       "  <thead>\n",
       "    <tr style=\"text-align: right;\">\n",
       "      <th></th>\n",
       "      <th>Sentiment</th>\n",
       "      <th>URL</th>\n",
       "      <th>Description</th>\n",
       "      <th>Title</th>\n",
       "    </tr>\n",
       "  </thead>\n",
       "  <tbody>\n",
       "    <tr>\n",
       "      <th>49</th>\n",
       "      <td>0.8126</td>\n",
       "      <td>https://wccftech.com/tesla-says-drivers-saved-more-than-2-billion-in-gas-costs-in-2022/</td>\n",
       "      <td>Electric vehicle giant Tesla, Inc claims that its cars have enabled drivers to save more than $2 billion in fuel costs in 2022. Tesla shared the data on Twitter earlier this week as part of an upgrade to its application which will now let users see how much e…</td>\n",
       "      <td>Tesla Says Drivers Saved More Than $2 Billion In Gas Costs In 2022</td>\n",
       "    </tr>\n",
       "    <tr>\n",
       "      <th>40</th>\n",
       "      <td>0.7845</td>\n",
       "      <td>https://economictimes.indiatimes.com/markets/stocks/news/ahead-of-market-10-things-that-will-decide-stock-action-on-monday/articleshow/97005734.cms</td>\n",
       "      <td>“The recent recovery in the global markets has failed to impress the participants so far. However, the mood might change if they manage to sustain the gains. To regain some strength, Nifty should decisively cross the 18,100 mark. Meanwhile, participants shoul…</td>\n",
       "      <td>Ahead of Market: 10 things that will decide stock action on Monday</td>\n",
       "    </tr>\n",
       "  </tbody>\n",
       "</table>\n",
       "</div>"
      ],
      "text/plain": [
       "    Sentiment  \\\n",
       "49     0.8126   \n",
       "40     0.7845   \n",
       "\n",
       "                                                                                                                                                    URL  \\\n",
       "49                                                              https://wccftech.com/tesla-says-drivers-saved-more-than-2-billion-in-gas-costs-in-2022/   \n",
       "40  https://economictimes.indiatimes.com/markets/stocks/news/ahead-of-market-10-things-that-will-decide-stock-action-on-monday/articleshow/97005734.cms   \n",
       "\n",
       "                                                                                                                                                                                                                                                             Description  \\\n",
       "49  Electric vehicle giant Tesla, Inc claims that its cars have enabled drivers to save more than $2 billion in fuel costs in 2022. Tesla shared the data on Twitter earlier this week as part of an upgrade to its application which will now let users see how much e…   \n",
       "40  “The recent recovery in the global markets has failed to impress the participants so far. However, the mood might change if they manage to sustain the gains. To regain some strength, Nifty should decisively cross the 18,100 mark. Meanwhile, participants shoul…   \n",
       "\n",
       "                                                                 Title  \n",
       "49  Tesla Says Drivers Saved More Than $2 Billion In Gas Costs In 2022  \n",
       "40  Ahead of Market: 10 things that will decide stock action on Monday  "
      ]
     },
     "execution_count": 23,
     "metadata": {},
     "output_type": "execute_result"
    }
   ],
   "source": [
    "return_articles.sort_values(by='Sentiment', ascending=False)[['Sentiment','URL', 'Description','Title']].head(2)"
   ]
  },
  {
   "cell_type": "code",
   "execution_count": null,
   "metadata": {},
   "outputs": [],
   "source": [
    "return_articles.to_csv(\"TSLA_news_sentiments_\"+my_date.isoformat()+\".csv\")"
   ]
  },
  {
   "cell_type": "code",
   "execution_count": null,
   "metadata": {},
   "outputs": [],
   "source": []
  }
 ],
 "metadata": {
  "kernelspec": {
   "display_name": "Python 3",
   "language": "python",
   "name": "python3"
  },
  "language_info": {
   "codemirror_mode": {
    "name": "ipython",
    "version": 3
   },
   "file_extension": ".py",
   "mimetype": "text/x-python",
   "name": "python",
   "nbconvert_exporter": "python",
   "pygments_lexer": "ipython3",
   "version": "3.9.13"
  },
  "orig_nbformat": 4,
  "vscode": {
   "interpreter": {
    "hash": "c0f65b6c89ae844b8e37150dd3489a420df7650db04d9a50812ad6760db9392a"
   }
  }
 },
 "nbformat": 4,
 "nbformat_minor": 2
}
