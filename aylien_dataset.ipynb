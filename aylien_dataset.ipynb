{
 "cells": [
  {
   "attachments": {},
   "cell_type": "markdown",
   "metadata": {},
   "source": [
    "# Create a dataset using AYLIEN news api"
   ]
  },
  {
   "attachments": {},
   "cell_type": "markdown",
   "metadata": {},
   "source": [
    "Your News API credentials\n",
    "\n",
    "API ID      6484b670\n",
    "\n",
    "API Key     09b1a4e132f42fa5dcdcc825f56f09bb\n",
    "\n",
    "Endpoint    https://api.aylien.com/news\n"
   ]
  },
  {
   "cell_type": "code",
   "execution_count": 2,
   "metadata": {},
   "outputs": [
    {
     "name": "stdout",
     "output_type": "stream",
     "text": [
      "Error: 404\n"
     ]
    }
   ],
   "source": [
    "import requests\n",
    "\n",
    "# Define Aylien API endpoint and headers\n",
    "endpoint = \"https://api.aylien.com/news\"\n",
    "headers = {\n",
    "    \"X-AYLIEN-NewsAPI-Application-ID\": \"6484b670\",\n",
    "    \"X-AYLIEN-NewsAPI-Application-Key\": \"09b1a4e132f42fa5dcdcc825f56f09bb\",\n",
    "}\n",
    "\n",
    "# Define the query parameters for the API request\n",
    "query_params = {\n",
    "    \"sort_by\": \"recency\",\n",
    "    \"language\": [\"en\"],\n",
    "    \"published_at.start\": \"NOW-1DAY\",\n",
    "    \"published_at.end\": \"NOW\"\n",
    "}\n",
    "\n",
    "# Make a GET request to the API\n",
    "response = requests.get(endpoint, headers=headers, params=query_params)\n",
    "\n",
    "# Check if the request was successful\n",
    "if response.status_code == 200:\n",
    "    # The request was successful, parse the JSON response\n",
    "    data = response.json()\n",
    "\n",
    "    # Iterate over the list of stories\n",
    "    for story in data[\"stories\"]:\n",
    "        # Print the title of each story\n",
    "        print(story[\"title\"])\n",
    "else:\n",
    "    # Handle unsuccessful request\n",
    "    print(\"Error:\", response.status_code)\n"
   ]
  },
  {
   "cell_type": "code",
   "execution_count": null,
   "metadata": {},
   "outputs": [],
   "source": []
  }
 ],
 "metadata": {
  "kernelspec": {
   "display_name": "Python 3",
   "language": "python",
   "name": "python3"
  },
  "language_info": {
   "codemirror_mode": {
    "name": "ipython",
    "version": 3
   },
   "file_extension": ".py",
   "mimetype": "text/x-python",
   "name": "python",
   "nbconvert_exporter": "python",
   "pygments_lexer": "ipython3",
   "version": "3.9.13"
  },
  "orig_nbformat": 4,
  "vscode": {
   "interpreter": {
    "hash": "c0f65b6c89ae844b8e37150dd3489a420df7650db04d9a50812ad6760db9392a"
   }
  }
 },
 "nbformat": 4,
 "nbformat_minor": 2
}
