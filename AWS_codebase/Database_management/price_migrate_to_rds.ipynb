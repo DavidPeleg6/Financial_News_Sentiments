{
 "cells": [
  {
   "cell_type": "code",
   "execution_count": 1,
   "metadata": {},
   "outputs": [],
   "source": [
    "import os\n",
    "import boto3\n",
    "import pandas as pd\n",
    "\n",
    "DB_ACCESS_KEY = pd.read_csv('DB_ACCESS_KEY.csv')\n",
    "aws_access_key_id = DB_ACCESS_KEY['Access key ID'][0]\n",
    "aws_secret_access_key = DB_ACCESS_KEY['Secret access key'][0]\n",
    "rds_key_pass = pd.read_csv('db_key_pass.csv')\n",
    "username = rds_key_pass['ID'][0]\n",
    "password = rds_key_pass['PASS'][0]\n",
    "url = rds_key_pass['URL'][0]"
   ]
  },
  {
   "cell_type": "code",
   "execution_count": 3,
   "metadata": {},
   "outputs": [],
   "source": [
    "from boto3.dynamodb.conditions import Key\n",
    "\n",
    "def getPastStockPrices(refresh_counter) -> pd.DataFrame:\n",
    "    \"\"\"\n",
    "    returns a pandas dataframe structured as follows:\n",
    "    company name, ticker, sentiment score, sentiment magnitude, sentiment score change, sentiment magnitude change\n",
    "    \"\"\"\n",
    "    # specify key and secret key\n",
    "    aws_access_key_id = os.environ['DB_ACCESS_KEY']\n",
    "    aws_secret_access_key = os.environ['DB_SECRET_KEY']\n",
    "    # # create a boto3 client and import all stock prices from it\n",
    "    dynamodb = boto3.resource('dynamodb', region_name='us-east-2', aws_access_key_id=aws_access_key_id, aws_secret_access_key=aws_secret_access_key)\n",
    "    table = dynamodb.Table('StockPrices')\n",
    "    # keep scanning until we have all the data in the table\n",
    "    # keep scanning until we have all the data in the table\n",
    "    response = table.scan()\n",
    "    data = response['Items']\n",
    "    while 'LastEvaluatedKey' in response:\n",
    "        response = table.scan(ExclusiveStartKey=response['LastEvaluatedKey'])\n",
    "        data.extend(response['Items'])\n",
    "    # convert the data to a pandas dataframe and drop the stock column\n",
    "    stock_prices = pd.DataFrame(data).drop(columns=['Stock'], errors='ignore')\n",
    "    stock_prices.set_index('Date', inplace=True)\n",
    "    # convert Date column to datetime\n",
    "    stock_prices.index = pd.to_datetime(stock_prices.index)\n",
    "    # make the index the Date column\n",
    "    stock_prices.sort_index(ascending=False, inplace=True)\n",
    "    return stock_prices\n"
   ]
  },
  {
   "cell_type": "code",
   "execution_count": null,
   "metadata": {},
   "outputs": [],
   "source": [
    "import pymysql\n",
    "from sqlalchemy import create_engine\n",
    "\n",
    "# Establish connection to the MySQL database\n",
    "conn = pymysql.connect(host=url, user=username, password=password, db='stock_data')\n",
    "\n",
    "# Create a SQLAlchemy engine object\n",
    "engine = create_engine(f'mysql+pymysql://{username}:{password}@{url}/stock_data', echo=False)\n",
    "\n",
    "# Convert the pandas DataFrame to a MySQL table\n",
    "sentiment_ticker_list.to_sql(name='Sentiments', con=engine, if_exists='append', index=False)\n",
    "\n",
    "# Close the connection\n",
    "conn.close()"
   ]
  }
 ],
 "metadata": {
  "kernelspec": {
   "display_name": "pytorch",
   "language": "python",
   "name": "python3"
  },
  "language_info": {
   "codemirror_mode": {
    "name": "ipython",
    "version": 3
   },
   "file_extension": ".py",
   "mimetype": "text/x-python",
   "name": "python",
   "nbconvert_exporter": "python",
   "pygments_lexer": "ipython3",
   "version": "3.9.12"
  },
  "orig_nbformat": 4
 },
 "nbformat": 4,
 "nbformat_minor": 2
}
