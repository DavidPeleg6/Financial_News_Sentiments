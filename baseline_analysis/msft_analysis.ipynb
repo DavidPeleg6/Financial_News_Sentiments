{
 "cells": [
  {
   "attachments": {},
   "cell_type": "markdown",
   "metadata": {},
   "source": [
    "# Perform a thorough analysis and prediction of Microsoft stock\n",
    "\n",
    "### Aim to find out:\n",
    "1. The most impacting factors in each of the three datasets collected\n",
    "2. Compare the performance of:\n",
    "    * basic XGBoost models\n",
    "    * advanced LSTMs\n",
    "    * classical methods with facebook PROPHET2\n",
    "3. The feasibility of prediction based on news sentiments alone\n",
    "4. Find the most impactful news outlet - closest one to real prediction of the stock\n",
    "\n",
    "### The final goal would be to create an automatic version that would go over all stocks and suggest the most profitable one"
   ]
  },
  {
   "attachments": {},
   "cell_type": "markdown",
   "metadata": {},
   "source": [
    "## Step1: Combine data about the stock from all previously constructed datasets"
   ]
  },
  {
   "cell_type": "markdown",
   "metadata": {},
   "source": []
  }
 ],
 "metadata": {
  "language_info": {
   "name": "python"
  },
  "orig_nbformat": 4
 },
 "nbformat": 4,
 "nbformat_minor": 2
}
